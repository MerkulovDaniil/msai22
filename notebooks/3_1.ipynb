{
  "nbformat": 4,
  "nbformat_minor": 0,
  "metadata": {
    "colab": {
      "name": "LP Recsys with PuLP.ipynb",
      "provenance": []
    },
    "kernelspec": {
      "name": "python3",
      "display_name": "Python 3"
    },
    "language_info": {
      "name": "python"
    }
  },
  "cells": [
    {
      "cell_type": "markdown",
      "metadata": {
        "id": "7VH-QLYAAXZP"
      },
      "source": [
        "# Linear programming exercises"
      ]
    },
    {
      "cell_type": "markdown",
      "metadata": {
        "id": "qJ7tb91mik8W"
      },
      "source": [
        "## 📼 PuLP library example (Optimal watching TED talks)"
      ]
    },
    {
      "cell_type": "code",
      "metadata": {
        "id": "-AW_zM5Aik8W",
        "colab": {
          "base_uri": "https://localhost:8080/"
        },
        "outputId": "bf254740-3d98-4a62-fa66-139bde38ccb3"
      },
      "source": [
        "!pip install pulp --quiet"
      ],
      "execution_count": 1,
      "outputs": [
        {
          "output_type": "stream",
          "name": "stdout",
          "text": [
            "\u001b[K     |████████████████████████████████| 14.2 MB 5.1 MB/s \n",
            "\u001b[?25h"
          ]
        }
      ]
    },
    {
      "cell_type": "code",
      "metadata": {
        "id": "UYZuVjXAik8W"
      },
      "source": [
        "%matplotlib inline\n",
        " \n",
        "import pulp\n",
        "import numpy as np\n",
        "import pandas as pd\n",
        "import re\n",
        "import matplotlib.pyplot as plt\n",
        "from IPython.display import Image"
      ],
      "execution_count": 2,
      "outputs": []
    },
    {
      "cell_type": "code",
      "metadata": {
        "id": "z5ITwq_tik8X",
        "colab": {
          "base_uri": "https://localhost:8080/",
          "height": 652
        },
        "outputId": "b9f81b1a-d645-4a4b-d1df-dd42e092900d"
      },
      "source": [
        "# Download the dataset from https://www.kaggle.com/rounakbanik/ted-talks\n",
        "\n",
        "# Read the dataset into pandas dataframe, convert duration from seconds to minutes\n",
        "ted = pd.read_csv('https://raw.githubusercontent.com/MerkulovDaniil/sber21_fmin/sources/data/ted_main.csv', encoding='ISO-8859-1')\n",
        "ted['duration'] = ted['duration'] / 60\n",
        "ted = ted.round({'duration': 1})\n",
        "\n",
        "# Select subset of columns & rows (if required)\n",
        "# data = ted.sample(n=1000) # 'n' can be changed as required\n",
        "data = ted\n",
        "selected_cols = ['name', 'event', 'duration', 'views']\n",
        "data.reset_index(inplace=True)\n",
        "data.head()"
      ],
      "execution_count": 4,
      "outputs": [
        {
          "output_type": "execute_result",
          "data": {
            "text/plain": [
              "   index  comments                                        description  \\\n",
              "0      0      4553  Sir Ken Robinson makes an entertaining and pro...   \n",
              "1      1       265  With the same humor and humanity he exuded in ...   \n",
              "2      2       124  New York Times columnist David Pogue takes aim...   \n",
              "3      3       200  In an emotionally charged talk, MacArthur-winn...   \n",
              "4      4       593  You've never seen data presented like this. Wi...   \n",
              "\n",
              "   duration    event   film_date  languages   main_speaker  \\\n",
              "0      19.4  TED2006  1140825600         60   Ken Robinson   \n",
              "1      16.3  TED2006  1140825600         43        Al Gore   \n",
              "2      21.4  TED2006  1140739200         26    David Pogue   \n",
              "3      18.6  TED2006  1140912000         35  Majora Carter   \n",
              "4      19.8  TED2006  1140566400         48   Hans Rosling   \n",
              "\n",
              "                                            name  num_speaker  published_date  \\\n",
              "0      Ken Robinson: Do schools kill creativity?            1      1151367060   \n",
              "1           Al Gore: Averting the climate crisis            1      1151367060   \n",
              "2                  David Pogue: Simplicity sells            1      1151367060   \n",
              "3             Majora Carter: Greening the ghetto            1      1151367060   \n",
              "4  Hans Rosling: The best stats you've ever seen            1      1151440680   \n",
              "\n",
              "                                             ratings  \\\n",
              "0  [{'id': 7, 'name': 'Funny', 'count': 19645}, {...   \n",
              "1  [{'id': 7, 'name': 'Funny', 'count': 544}, {'i...   \n",
              "2  [{'id': 7, 'name': 'Funny', 'count': 964}, {'i...   \n",
              "3  [{'id': 3, 'name': 'Courageous', 'count': 760}...   \n",
              "4  [{'id': 9, 'name': 'Ingenious', 'count': 3202}...   \n",
              "\n",
              "                                       related_talks  \\\n",
              "0  [{'id': 865, 'hero': 'https://pe.tedcdn.com/im...   \n",
              "1  [{'id': 243, 'hero': 'https://pe.tedcdn.com/im...   \n",
              "2  [{'id': 1725, 'hero': 'https://pe.tedcdn.com/i...   \n",
              "3  [{'id': 1041, 'hero': 'https://pe.tedcdn.com/i...   \n",
              "4  [{'id': 2056, 'hero': 'https://pe.tedcdn.com/i...   \n",
              "\n",
              "                     speaker_occupation  \\\n",
              "0                       Author/educator   \n",
              "1                      Climate advocate   \n",
              "2                  Technology columnist   \n",
              "3    Activist for environmental justice   \n",
              "4  Global health expert; data visionary   \n",
              "\n",
              "                                                tags  \\\n",
              "0  ['children', 'creativity', 'culture', 'dance',...   \n",
              "1  ['alternative energy', 'cars', 'climate change...   \n",
              "2  ['computers', 'entertainment', 'interface desi...   \n",
              "3  ['MacArthur grant', 'activism', 'business', 'c...   \n",
              "4  ['Africa', 'Asia', 'Google', 'demo', 'economic...   \n",
              "\n",
              "                             title  \\\n",
              "0      Do schools kill creativity?   \n",
              "1      Averting the climate crisis   \n",
              "2                 Simplicity sells   \n",
              "3              Greening the ghetto   \n",
              "4  The best stats you've ever seen   \n",
              "\n",
              "                                                 url     views  \n",
              "0  https://www.ted.com/talks/ken_robinson_says_sc...  47227110  \n",
              "1  https://www.ted.com/talks/al_gore_on_averting_...   3200520  \n",
              "2  https://www.ted.com/talks/david_pogue_says_sim...   1636292  \n",
              "3  https://www.ted.com/talks/majora_carter_s_tale...   1697550  \n",
              "4  https://www.ted.com/talks/hans_rosling_shows_t...  12005869  "
            ],
            "text/html": [
              "\n",
              "  <div id=\"df-bb1bcb6f-70cd-457c-95d3-38679b6d7e63\">\n",
              "    <div class=\"colab-df-container\">\n",
              "      <div>\n",
              "<style scoped>\n",
              "    .dataframe tbody tr th:only-of-type {\n",
              "        vertical-align: middle;\n",
              "    }\n",
              "\n",
              "    .dataframe tbody tr th {\n",
              "        vertical-align: top;\n",
              "    }\n",
              "\n",
              "    .dataframe thead th {\n",
              "        text-align: right;\n",
              "    }\n",
              "</style>\n",
              "<table border=\"1\" class=\"dataframe\">\n",
              "  <thead>\n",
              "    <tr style=\"text-align: right;\">\n",
              "      <th></th>\n",
              "      <th>index</th>\n",
              "      <th>comments</th>\n",
              "      <th>description</th>\n",
              "      <th>duration</th>\n",
              "      <th>event</th>\n",
              "      <th>film_date</th>\n",
              "      <th>languages</th>\n",
              "      <th>main_speaker</th>\n",
              "      <th>name</th>\n",
              "      <th>num_speaker</th>\n",
              "      <th>published_date</th>\n",
              "      <th>ratings</th>\n",
              "      <th>related_talks</th>\n",
              "      <th>speaker_occupation</th>\n",
              "      <th>tags</th>\n",
              "      <th>title</th>\n",
              "      <th>url</th>\n",
              "      <th>views</th>\n",
              "    </tr>\n",
              "  </thead>\n",
              "  <tbody>\n",
              "    <tr>\n",
              "      <th>0</th>\n",
              "      <td>0</td>\n",
              "      <td>4553</td>\n",
              "      <td>Sir Ken Robinson makes an entertaining and pro...</td>\n",
              "      <td>19.4</td>\n",
              "      <td>TED2006</td>\n",
              "      <td>1140825600</td>\n",
              "      <td>60</td>\n",
              "      <td>Ken Robinson</td>\n",
              "      <td>Ken Robinson: Do schools kill creativity?</td>\n",
              "      <td>1</td>\n",
              "      <td>1151367060</td>\n",
              "      <td>[{'id': 7, 'name': 'Funny', 'count': 19645}, {...</td>\n",
              "      <td>[{'id': 865, 'hero': 'https://pe.tedcdn.com/im...</td>\n",
              "      <td>Author/educator</td>\n",
              "      <td>['children', 'creativity', 'culture', 'dance',...</td>\n",
              "      <td>Do schools kill creativity?</td>\n",
              "      <td>https://www.ted.com/talks/ken_robinson_says_sc...</td>\n",
              "      <td>47227110</td>\n",
              "    </tr>\n",
              "    <tr>\n",
              "      <th>1</th>\n",
              "      <td>1</td>\n",
              "      <td>265</td>\n",
              "      <td>With the same humor and humanity he exuded in ...</td>\n",
              "      <td>16.3</td>\n",
              "      <td>TED2006</td>\n",
              "      <td>1140825600</td>\n",
              "      <td>43</td>\n",
              "      <td>Al Gore</td>\n",
              "      <td>Al Gore: Averting the climate crisis</td>\n",
              "      <td>1</td>\n",
              "      <td>1151367060</td>\n",
              "      <td>[{'id': 7, 'name': 'Funny', 'count': 544}, {'i...</td>\n",
              "      <td>[{'id': 243, 'hero': 'https://pe.tedcdn.com/im...</td>\n",
              "      <td>Climate advocate</td>\n",
              "      <td>['alternative energy', 'cars', 'climate change...</td>\n",
              "      <td>Averting the climate crisis</td>\n",
              "      <td>https://www.ted.com/talks/al_gore_on_averting_...</td>\n",
              "      <td>3200520</td>\n",
              "    </tr>\n",
              "    <tr>\n",
              "      <th>2</th>\n",
              "      <td>2</td>\n",
              "      <td>124</td>\n",
              "      <td>New York Times columnist David Pogue takes aim...</td>\n",
              "      <td>21.4</td>\n",
              "      <td>TED2006</td>\n",
              "      <td>1140739200</td>\n",
              "      <td>26</td>\n",
              "      <td>David Pogue</td>\n",
              "      <td>David Pogue: Simplicity sells</td>\n",
              "      <td>1</td>\n",
              "      <td>1151367060</td>\n",
              "      <td>[{'id': 7, 'name': 'Funny', 'count': 964}, {'i...</td>\n",
              "      <td>[{'id': 1725, 'hero': 'https://pe.tedcdn.com/i...</td>\n",
              "      <td>Technology columnist</td>\n",
              "      <td>['computers', 'entertainment', 'interface desi...</td>\n",
              "      <td>Simplicity sells</td>\n",
              "      <td>https://www.ted.com/talks/david_pogue_says_sim...</td>\n",
              "      <td>1636292</td>\n",
              "    </tr>\n",
              "    <tr>\n",
              "      <th>3</th>\n",
              "      <td>3</td>\n",
              "      <td>200</td>\n",
              "      <td>In an emotionally charged talk, MacArthur-winn...</td>\n",
              "      <td>18.6</td>\n",
              "      <td>TED2006</td>\n",
              "      <td>1140912000</td>\n",
              "      <td>35</td>\n",
              "      <td>Majora Carter</td>\n",
              "      <td>Majora Carter: Greening the ghetto</td>\n",
              "      <td>1</td>\n",
              "      <td>1151367060</td>\n",
              "      <td>[{'id': 3, 'name': 'Courageous', 'count': 760}...</td>\n",
              "      <td>[{'id': 1041, 'hero': 'https://pe.tedcdn.com/i...</td>\n",
              "      <td>Activist for environmental justice</td>\n",
              "      <td>['MacArthur grant', 'activism', 'business', 'c...</td>\n",
              "      <td>Greening the ghetto</td>\n",
              "      <td>https://www.ted.com/talks/majora_carter_s_tale...</td>\n",
              "      <td>1697550</td>\n",
              "    </tr>\n",
              "    <tr>\n",
              "      <th>4</th>\n",
              "      <td>4</td>\n",
              "      <td>593</td>\n",
              "      <td>You've never seen data presented like this. Wi...</td>\n",
              "      <td>19.8</td>\n",
              "      <td>TED2006</td>\n",
              "      <td>1140566400</td>\n",
              "      <td>48</td>\n",
              "      <td>Hans Rosling</td>\n",
              "      <td>Hans Rosling: The best stats you've ever seen</td>\n",
              "      <td>1</td>\n",
              "      <td>1151440680</td>\n",
              "      <td>[{'id': 9, 'name': 'Ingenious', 'count': 3202}...</td>\n",
              "      <td>[{'id': 2056, 'hero': 'https://pe.tedcdn.com/i...</td>\n",
              "      <td>Global health expert; data visionary</td>\n",
              "      <td>['Africa', 'Asia', 'Google', 'demo', 'economic...</td>\n",
              "      <td>The best stats you've ever seen</td>\n",
              "      <td>https://www.ted.com/talks/hans_rosling_shows_t...</td>\n",
              "      <td>12005869</td>\n",
              "    </tr>\n",
              "  </tbody>\n",
              "</table>\n",
              "</div>\n",
              "      <button class=\"colab-df-convert\" onclick=\"convertToInteractive('df-bb1bcb6f-70cd-457c-95d3-38679b6d7e63')\"\n",
              "              title=\"Convert this dataframe to an interactive table.\"\n",
              "              style=\"display:none;\">\n",
              "        \n",
              "  <svg xmlns=\"http://www.w3.org/2000/svg\" height=\"24px\"viewBox=\"0 0 24 24\"\n",
              "       width=\"24px\">\n",
              "    <path d=\"M0 0h24v24H0V0z\" fill=\"none\"/>\n",
              "    <path d=\"M18.56 5.44l.94 2.06.94-2.06 2.06-.94-2.06-.94-.94-2.06-.94 2.06-2.06.94zm-11 1L8.5 8.5l.94-2.06 2.06-.94-2.06-.94L8.5 2.5l-.94 2.06-2.06.94zm10 10l.94 2.06.94-2.06 2.06-.94-2.06-.94-.94-2.06-.94 2.06-2.06.94z\"/><path d=\"M17.41 7.96l-1.37-1.37c-.4-.4-.92-.59-1.43-.59-.52 0-1.04.2-1.43.59L10.3 9.45l-7.72 7.72c-.78.78-.78 2.05 0 2.83L4 21.41c.39.39.9.59 1.41.59.51 0 1.02-.2 1.41-.59l7.78-7.78 2.81-2.81c.8-.78.8-2.07 0-2.86zM5.41 20L4 18.59l7.72-7.72 1.47 1.35L5.41 20z\"/>\n",
              "  </svg>\n",
              "      </button>\n",
              "      \n",
              "  <style>\n",
              "    .colab-df-container {\n",
              "      display:flex;\n",
              "      flex-wrap:wrap;\n",
              "      gap: 12px;\n",
              "    }\n",
              "\n",
              "    .colab-df-convert {\n",
              "      background-color: #E8F0FE;\n",
              "      border: none;\n",
              "      border-radius: 50%;\n",
              "      cursor: pointer;\n",
              "      display: none;\n",
              "      fill: #1967D2;\n",
              "      height: 32px;\n",
              "      padding: 0 0 0 0;\n",
              "      width: 32px;\n",
              "    }\n",
              "\n",
              "    .colab-df-convert:hover {\n",
              "      background-color: #E2EBFA;\n",
              "      box-shadow: 0px 1px 2px rgba(60, 64, 67, 0.3), 0px 1px 3px 1px rgba(60, 64, 67, 0.15);\n",
              "      fill: #174EA6;\n",
              "    }\n",
              "\n",
              "    [theme=dark] .colab-df-convert {\n",
              "      background-color: #3B4455;\n",
              "      fill: #D2E3FC;\n",
              "    }\n",
              "\n",
              "    [theme=dark] .colab-df-convert:hover {\n",
              "      background-color: #434B5C;\n",
              "      box-shadow: 0px 1px 3px 1px rgba(0, 0, 0, 0.15);\n",
              "      filter: drop-shadow(0px 1px 2px rgba(0, 0, 0, 0.3));\n",
              "      fill: #FFFFFF;\n",
              "    }\n",
              "  </style>\n",
              "\n",
              "      <script>\n",
              "        const buttonEl =\n",
              "          document.querySelector('#df-bb1bcb6f-70cd-457c-95d3-38679b6d7e63 button.colab-df-convert');\n",
              "        buttonEl.style.display =\n",
              "          google.colab.kernel.accessAllowed ? 'block' : 'none';\n",
              "\n",
              "        async function convertToInteractive(key) {\n",
              "          const element = document.querySelector('#df-bb1bcb6f-70cd-457c-95d3-38679b6d7e63');\n",
              "          const dataTable =\n",
              "            await google.colab.kernel.invokeFunction('convertToInteractive',\n",
              "                                                     [key], {});\n",
              "          if (!dataTable) return;\n",
              "\n",
              "          const docLinkHtml = 'Like what you see? Visit the ' +\n",
              "            '<a target=\"_blank\" href=https://colab.research.google.com/notebooks/data_table.ipynb>data table notebook</a>'\n",
              "            + ' to learn more about interactive tables.';\n",
              "          element.innerHTML = '';\n",
              "          dataTable['output_type'] = 'display_data';\n",
              "          await google.colab.output.renderOutput(dataTable, element);\n",
              "          const docLink = document.createElement('div');\n",
              "          docLink.innerHTML = docLinkHtml;\n",
              "          element.appendChild(docLink);\n",
              "        }\n",
              "      </script>\n",
              "    </div>\n",
              "  </div>\n",
              "  "
            ]
          },
          "metadata": {},
          "execution_count": 4
        }
      ]
    },
    {
      "cell_type": "code",
      "metadata": {
        "id": "mxCEz8tQik8X"
      },
      "source": [
        "# create LP object,\n",
        "# set up as a maximization problem --> since we want to maximize the number of TED talks to watch\n",
        "prob = pulp.LpProblem('WatchingTEDTalks', pulp.LpMaximize)"
      ],
      "execution_count": 5,
      "outputs": []
    },
    {
      "cell_type": "code",
      "metadata": {
        "id": "BPvS-ZQcik8X",
        "colab": {
          "base_uri": "https://localhost:8080/"
        },
        "outputId": "af78550a-a67f-4e1c-e772-7f5b2ab05fb9"
      },
      "source": [
        "# create decision - yes or no to watch the talk?\n",
        "decision_variables = []\n",
        "for rownum, row in data.iterrows():\n",
        "    variable = str('x' + str(row['index']))\n",
        "    variable = pulp.LpVariable(str(variable), lowBound = 0, upBound = 1) # make variable binary\n",
        "    decision_variables.append(variable)\n",
        "    \n",
        "print('Total number of decision variables: ' + str(len(decision_variables)))"
      ],
      "execution_count": 6,
      "outputs": [
        {
          "output_type": "stream",
          "name": "stdout",
          "text": [
            "Total number of decision variables: 2550\n"
          ]
        }
      ]
    },
    {
      "cell_type": "markdown",
      "metadata": {
        "id": "5OBnUaD0E0cB"
      },
      "source": [
        "> ***YOUR TASK IS TO CHOOSE YOUR FAVORITE LINEAR LOSS FUNCTION AND BUDGET CONSTRAINTS***\n",
        "\n"
      ]
    },
    {
      "cell_type": "code",
      "metadata": {
        "id": "BraIJ7H9ik8Y"
      },
      "source": [
        "# Create optimization Function\n",
        "total_views = ''\n",
        "for rownum, row in data.iterrows():\n",
        "    for i,talk in enumerate(decision_variables):\n",
        "        if rownum == i:\n",
        "            formula = (len(row['description']) + (-1)*row['views']) * talk\n",
        "            total_views += formula\n",
        "            \n",
        "prob += total_views\n",
        "# print('Optimization function: ' + str(total_views))"
      ],
      "execution_count": 7,
      "outputs": []
    },
    {
      "cell_type": "code",
      "metadata": {
        "id": "tvUTUhyIik8Y"
      },
      "source": [
        "# Contraints\n",
        "total_time_available_for_talks = 3*60 # Total time available is 5 hours . Converted to minutes\n",
        "total_talks_can_watch = 8 # Don't want an overload information"
      ],
      "execution_count": 8,
      "outputs": []
    },
    {
      "cell_type": "code",
      "metadata": {
        "id": "ktrQFPNqik8Y"
      },
      "source": [
        "# Create Constraint 1 - Time for talks\n",
        "total_time_talks = ''\n",
        "for rownum, row in data.iterrows():\n",
        "    for i,  talk in enumerate(decision_variables):\n",
        "        if rownum == i:\n",
        "            formula = row['duration']*talk\n",
        "            total_time_talks += formula\n",
        "            \n",
        "prob += (total_time_talks <= total_time_available_for_talks)"
      ],
      "execution_count": 9,
      "outputs": []
    },
    {
      "cell_type": "code",
      "metadata": {
        "id": "FAJTAJuzik8Y"
      },
      "source": [
        "# Create Constraint 2 - Number of talks\n",
        "total_talks = ''\n",
        "\n",
        "for rownum, row in data.iterrows():\n",
        "    for i, talk in enumerate(decision_variables):\n",
        "        if rownum == i:\n",
        "            formula = talk\n",
        "            total_talks += formula\n",
        "            \n",
        "prob += (total_talks == total_talks_can_watch)"
      ],
      "execution_count": 10,
      "outputs": []
    },
    {
      "cell_type": "code",
      "metadata": {
        "id": "mXzW4NPHik8Z",
        "colab": {
          "base_uri": "https://localhost:8080/"
        },
        "outputId": "fcaa28b9-219d-4904-eb83-d9c01e83c065"
      },
      "source": [
        "# Be careful, the output will be huge\n",
        "# print(prob)\n",
        "prob.writeLP('WatchingTEDTalks.lp')\n",
        "print('🤔 The problem has successfully formulated')"
      ],
      "execution_count": 11,
      "outputs": [
        {
          "output_type": "stream",
          "name": "stdout",
          "text": [
            "🤔 The problem has successfully formulated\n"
          ]
        }
      ]
    },
    {
      "cell_type": "code",
      "metadata": {
        "id": "DxWYk01Hik8Z",
        "colab": {
          "base_uri": "https://localhost:8080/"
        },
        "outputId": "3020c060-cb21-4545-b07a-b46765ef37cd"
      },
      "source": [
        "optimization_result = prob.solve()\n",
        "\n",
        "assert optimization_result == pulp.LpStatusOptimal\n",
        "print('Status:', pulp.LpStatus[prob.status])\n",
        "print('Optimal Solution to the problem: ', pulp.value(prob.objective))\n",
        "print('Individual decision variables: ')\n",
        "\n",
        "\n",
        "for v in prob.variables():\n",
        "    if v.varValue > 0:\n",
        "        print(v.name, '=', v.varValue)"
      ],
      "execution_count": 12,
      "outputs": [
        {
          "output_type": "stream",
          "name": "stdout",
          "text": [
            "Status: Optimal\n",
            "Optimal Solution to the problem:  -784644.0\n",
            "Individual decision variables: \n",
            "x1079 = 1.0\n",
            "x1112 = 1.0\n",
            "x1133 = 1.0\n",
            "x1141 = 1.0\n",
            "x1229 = 1.0\n",
            "x237 = 1.0\n",
            "x594 = 1.0\n",
            "x776 = 1.0\n"
          ]
        }
      ]
    },
    {
      "cell_type": "code",
      "metadata": {
        "id": "bM5K6Sbkik8Z"
      },
      "source": [
        "# reorder results\n",
        "variable_name = []\n",
        "variable_value = []\n",
        "\n",
        "for v in prob.variables():\n",
        "    variable_name.append(v.name)\n",
        "    variable_value.append(v.varValue)\n",
        "    \n",
        "df = pd.DataFrame({'index': variable_name, 'value': variable_value})\n",
        "for rownum, row in df.iterrows():\n",
        "    value = re.findall(r'(\\d+)', row['index'])\n",
        "    df.loc[rownum, 'index'] = int(value[0])\n",
        "    \n",
        "# df = df.sort_index(by = 'index')\n",
        "df = df.sort_values(by = 'index')\n",
        "result = pd.merge(data, df, on = 'index')\n",
        "result = result[result['value'] == 1].sort_values(by = 'views', ascending = False)\n",
        "selected_cols_final = ['name', 'event', 'duration', 'views']\n",
        "final_set_of_talks_to_watch = result[selected_cols_final]"
      ],
      "execution_count": 13,
      "outputs": []
    },
    {
      "cell_type": "code",
      "metadata": {
        "id": "ft759ilYik8a",
        "colab": {
          "base_uri": "https://localhost:8080/",
          "height": 300
        },
        "outputId": "79f200db-e421-4bc2-fcb3-f079b11bcc33"
      },
      "source": [
        "from IPython.display import display, HTML\n",
        "display(HTML(final_set_of_talks_to_watch.to_html(index=False)))"
      ],
      "execution_count": 14,
      "outputs": [
        {
          "output_type": "display_data",
          "data": {
            "text/plain": [
              "<IPython.core.display.HTML object>"
            ],
            "text/html": [
              "<table border=\"1\" class=\"dataframe\">\n",
              "  <thead>\n",
              "    <tr style=\"text-align: right;\">\n",
              "      <th>name</th>\n",
              "      <th>event</th>\n",
              "      <th>duration</th>\n",
              "      <th>views</th>\n",
              "    </tr>\n",
              "  </thead>\n",
              "  <tbody>\n",
              "    <tr>\n",
              "      <td>Leslie Dodson: Don't misrepresent Africa</td>\n",
              "      <td>TEDxBoulder 2011</td>\n",
              "      <td>11.4</td>\n",
              "      <td>121186</td>\n",
              "    </tr>\n",
              "    <tr>\n",
              "      <td>Keith Nolan: Deaf in the military</td>\n",
              "      <td>TEDxIslay</td>\n",
              "      <td>18.6</td>\n",
              "      <td>120274</td>\n",
              "    </tr>\n",
              "    <tr>\n",
              "      <td>JosÃ© Bowen: Beethoven the businessman</td>\n",
              "      <td>TEDxSMU</td>\n",
              "      <td>12.8</td>\n",
              "      <td>117756</td>\n",
              "    </tr>\n",
              "    <tr>\n",
              "      <td>Aleph Molinari: Let's bridge the digital divide!</td>\n",
              "      <td>TEDxSanMigueldeAllende</td>\n",
              "      <td>9.9</td>\n",
              "      <td>115346</td>\n",
              "    </tr>\n",
              "    <tr>\n",
              "      <td>Tim Birkhead: The early birdwatchers</td>\n",
              "      <td>The Do Lectures</td>\n",
              "      <td>28.2</td>\n",
              "      <td>112321</td>\n",
              "    </tr>\n",
              "    <tr>\n",
              "      <td>Rokia Traore: \"Kounandi\"</td>\n",
              "      <td>TEDGlobal 2007</td>\n",
              "      <td>6.4</td>\n",
              "      <td>82488</td>\n",
              "    </tr>\n",
              "    <tr>\n",
              "      <td>Charles Hazlewood + British Paraorchestra: The debut of the British Paraorchestra</td>\n",
              "      <td>TEDxBrussels</td>\n",
              "      <td>13.6</td>\n",
              "      <td>66668</td>\n",
              "    </tr>\n",
              "    <tr>\n",
              "      <td>Edwidge Danticat: Stories of Haiti</td>\n",
              "      <td>University of California</td>\n",
              "      <td>59.6</td>\n",
              "      <td>50443</td>\n",
              "    </tr>\n",
              "  </tbody>\n",
              "</table>"
            ]
          },
          "metadata": {}
        }
      ]
    },
    {
      "cell_type": "code",
      "metadata": {
        "id": "8Xsc_tpSAK_q"
      },
      "source": [
        ""
      ],
      "execution_count": null,
      "outputs": []
    },
    {
      "cell_type": "markdown",
      "metadata": {
        "id": "WQZXrP32zpnT"
      },
      "source": [
        "## 📱🎧💻 Covers manufacturing"
      ]
    },
    {
      "cell_type": "markdown",
      "metadata": {
        "id": "DCl_C7L1znrM"
      },
      "source": [
        "Random Corp is producing covers for following products: \n",
        "* 📱 phones\n",
        "* 🎧 headphones\n",
        "* 💻 laptops\n",
        "\n",
        "The company’s production facilities are such that if we devote the entire production to headphones covers, we can produce 5000 of them in one day. If we devote the entire production to phone covers or laptop covers, we can produce 4000 or 2000 of them in one day. \n",
        "\n",
        "The production schedule is one week (6 working days), and the week’s production must be stored before distribution. Storing 1000 headphones covers (packaging included) takes up 30 cubic feet of space. Storing 1000 phone covers (packaging included) takes up 50 cubic feet of space, and storing 1000 laptop covers (packaging included) takes up 220 cubic feet of space. The total storage space available is 6000 cubic feet. \n",
        "\n",
        "Due to commercial agreements with Random Corp has to deliver at least 4500 headphones covers and 3000 laptop covers per week in order to strengthen the product’s diffusion. \n",
        "\n",
        "The marketing department estimates that the weekly demand for headphones covers, phone, and laptop covers does not exceed 9000 and 14000, and 7000 units, therefore the company does not want to produce more than these amounts for headphones, phone, and laptop covers. \n",
        "\n",
        "Finally, the net profit per each headphones cover, phone cover, and laptop cover is \\$5, \\$7, and \\$12, respectively.\n",
        "\n",
        "The aim is to determine a weekly production schedule that maximizes the total net profit."
      ]
    },
    {
      "cell_type": "markdown",
      "metadata": {
        "id": "X6_iWRM_z8ke"
      },
      "source": [
        "Write a Linear Programming formulation for the problem.\tUse following variables:\n",
        "\n",
        "y1 = number of headphones covers produced over the week,  \n",
        "y2 = number of phone covers produced over the week,  \n",
        "y3 = number of laptop covers produced over the week.  \n"
      ]
    },
    {
      "cell_type": "markdown",
      "metadata": {
        "id": "R-xSApEn0VXb"
      },
      "source": [
        "<font color=\"lime\"> ==YOUR ANSWER== </font>"
      ]
    },
    {
      "cell_type": "markdown",
      "metadata": {
        "id": "eAni9iJr0Wr8"
      },
      "source": [
        "Find the solution to the problem using `PyOMO`\n"
      ]
    },
    {
      "cell_type": "code",
      "metadata": {
        "id": "vfQsGLGyOAM9"
      },
      "source": [
        "!pip install pyomo\n",
        "! sudo apt-get install glpk-utils --quiet  # GLPK\n",
        "! sudo apt-get install coinor-cbc --quiet  # CoinOR"
      ],
      "execution_count": null,
      "outputs": []
    },
    {
      "cell_type": "code",
      "metadata": {
        "id": "YrzhBke_kjbk"
      },
      "source": [
        "### YOUR CODE"
      ],
      "execution_count": null,
      "outputs": []
    },
    {
      "cell_type": "markdown",
      "metadata": {
        "id": "s_aQ-rtVzrHo"
      },
      "source": [
        "## EXTRA: 👑 Mixed Integer Programming with N queens puzzle"
      ]
    },
    {
      "cell_type": "markdown",
      "metadata": {
        "id": "iv_HR_RziEzk"
      },
      "source": [
        "![](https://fmin.xyz/docs/methods/zom/queens.svg)\n",
        "\n",
        "In the n-queens puzzle n chess queens should to be placed in a board with n×n cells in a way that no queen can attack another, i.e., there must be at most one queen per row, column and diagonal. This is a constraint satisfaction problem: any feasible solution is acceptable and no objective function is defined.\n",
        "\n",
        "Formulate this task and solve using `mip`"
      ]
    },
    {
      "cell_type": "markdown",
      "metadata": {
        "id": "1ZvnNvb-kmcc"
      },
      "source": [
        "<font color=\"lime\"> ==YOUR FORMULATION== </font>"
      ]
    },
    {
      "cell_type": "code",
      "metadata": {
        "id": "vbj80H71iIn-"
      },
      "source": [
        "!pip install mip --quiet"
      ],
      "execution_count": null,
      "outputs": []
    },
    {
      "cell_type": "code",
      "metadata": {
        "id": "dqmFqotjmXlN"
      },
      "source": [
        "from mip import Model, xsum, BINARY"
      ],
      "execution_count": null,
      "outputs": []
    },
    {
      "cell_type": "markdown",
      "metadata": {
        "id": "oyJexQ1pmPs_"
      },
      "source": [
        "To create problem one use `mip.Model`"
      ]
    },
    {
      "cell_type": "code",
      "metadata": {
        "id": "7yciS9pJmWOq"
      },
      "source": [
        "queens = Model()"
      ],
      "execution_count": null,
      "outputs": []
    },
    {
      "cell_type": "markdown",
      "metadata": {
        "id": "_UPEkkN2mbMY"
      },
      "source": [
        "To add variables we use `Model().add_var()`"
      ]
    },
    {
      "cell_type": "code",
      "metadata": {
        "id": "zdLtVEA1m7zM"
      },
      "source": [
        "x = [[queens.add_var('x({},{})'.format(i, j), var_type=BINARY)\n",
        "      for j in range(n)] for i in range(n)]"
      ],
      "execution_count": null,
      "outputs": []
    },
    {
      "cell_type": "markdown",
      "metadata": {
        "id": "fPGcyhkFntiN"
      },
      "source": [
        "To add constraint we use same interface as in `PuLP`"
      ]
    },
    {
      "cell_type": "code",
      "metadata": {
        "id": "bfFVc9yvnAbx"
      },
      "source": [
        "#Constraint for one in row\n",
        "\n",
        "for i in range(n):\n",
        "    queens += xsum(x[i][j] for j in range(n)) == 1, 'row({})'.format(i)"
      ],
      "execution_count": null,
      "outputs": []
    },
    {
      "cell_type": "code",
      "metadata": {
        "id": "DF6USx4RnAuY"
      },
      "source": [
        "# Constraint for less than one on the diagonal\n",
        "for p, k in enumerate(range(2 - n, n - 2 + 1)):\n",
        "    queens += xsum(x[i][i - k] for i in range(n)\n",
        "                   if 0 <= i - k < n) <= 1, 'diag1({})'.format(p)"
      ],
      "execution_count": null,
      "outputs": []
    },
    {
      "cell_type": "markdown",
      "metadata": {
        "id": "Nx6knPH8oATN"
      },
      "source": [
        "Your task is to add constaint for column and the other diagonal. Then use `queens.optimize()` to find solution. After that, try to visualize gained checkerboard"
      ]
    },
    {
      "cell_type": "code",
      "metadata": {
        "id": "_Nr97YaeoVHt"
      },
      "source": [
        "### YOUR CODE"
      ],
      "execution_count": null,
      "outputs": []
    },
    {
      "cell_type": "code",
      "metadata": {
        "id": "UMO9BQXeksba"
      },
      "source": [
        "### Visualization of solution"
      ],
      "execution_count": null,
      "outputs": []
    }
  ]
}
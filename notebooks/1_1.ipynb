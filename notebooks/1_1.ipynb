{
  "cells": [
    {
      "cell_type": "markdown",
      "metadata": {
        "colab_type": "text",
        "id": "view-in-github"
      },
      "source": [
        "<a href=\"https://colab.research.google.com/github/MerkulovDaniil/msai22/blob/main/notebooks/1_1.ipynb\" target=\"_parent\"><img src=\"https://colab.research.google.com/assets/colab-badge.svg\" alt=\"Open In Colab\"/></a>"
      ]
    },
    {
      "cell_type": "markdown",
      "metadata": {
        "id": "-TE3tYceN0nY"
      },
      "source": [
        "## Matrix Calculus\n",
        "\n",
        "### Problem 1\n",
        "Find the gradient $\\nabla f(x)$ and hessian $f''(x)$, if $f(x) = \\dfrac{1}{2} \\|Ax - b\\|^2_2$."
      ]
    },
    {
      "cell_type": "markdown",
      "metadata": {
        "id": "5LVvbkUzOAoV"
      },
      "source": [
        "`YOUR SOLUTION`"
      ]
    },
    {
      "cell_type": "markdown",
      "metadata": {
        "id": "tzVj8INtOWrA"
      },
      "source": [
        "### Problem 2\n",
        "Calculate: $\\dfrac{\\partial }{\\partial X} \\sum \\text{eig}(X), \\;\\;\\dfrac{\\partial }{\\partial X} \\prod \\text{eig}(X), \\;\\;\\dfrac{\\partial }{\\partial X}\\text{tr}(X), \\;\\; \\dfrac{\\partial }{\\partial X} \\text{det}(X)$"
      ]
    },
    {
      "cell_type": "markdown",
      "metadata": {
        "id": "6v3mz-U4OqdG"
      },
      "source": [
        "`YOUR SOLUTION`"
      ]
    },
    {
      "cell_type": "markdown",
      "metadata": {
        "id": "W-eNR3kQOsG0"
      },
      "source": [
        "### Problem 3\n",
        "1. Calculate the derivatives of the loss function with respect to parameters $\\frac{\\partial L}{\\partial W}, \\frac{\\partial L}{\\partial b}$ for the single object $x_i$ (or, $n = 1$) in a simple Machine Learning setting.\n",
        "\n",
        "![](https://fmin.xyz/docs/exercises/simple_learning.svg)"
      ]
    },
    {
      "cell_type": "markdown",
      "metadata": {
        "id": "uyRFd30PQC-1"
      },
      "source": [
        "`YOUR SOLUTION`"
      ]
    }
  ],
  "metadata": {
    "colab": {
      "authorship_tag": "ABX9TyPMckAdUBcl+NMlyJqoJHj7",
      "collapsed_sections": [],
      "include_colab_link": true,
      "name": "1_1 Matrix Calculus.ipynb",
      "provenance": []
    },
    "kernelspec": {
      "display_name": "Python 3",
      "name": "python3"
    },
    "language_info": {
      "name": "python"
    }
  },
  "nbformat": 4,
  "nbformat_minor": 0
}

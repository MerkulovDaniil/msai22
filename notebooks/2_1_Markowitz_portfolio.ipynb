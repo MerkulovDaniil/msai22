{
  "cells": [
    {
      "cell_type": "markdown",
      "metadata": {
        "id": "T4nZFtOARG-B"
      },
      "source": [
        "# Portfolio optimization\n",
        "[source](https://www.cvxpy.org/examples/index.html)\n",
        "\n",
        "![](https://memepedia.ru/wp-content/uploads/2019/06/stonks-template.png)"
      ]
    },
    {
      "cell_type": "markdown",
      "metadata": {
        "id": "VDIsnDYQj0tT"
      },
      "source": [
        "### Portfolio allocation vector\n",
        "\n",
        "In this example we show how to do portfolio optimization using CVXPY.\n",
        "We begin with the basic definitions.\n",
        "In portfolio optimization we have some amount of money to invest in any of $n$ different assets. \n",
        "We choose what fraction $w_i$ of our money to invest in each asset $i$, $i=1, \\ldots, n$.\n",
        "\n",
        "We call $w\\in {\\bf R}^n$ the *portfolio allocation vector*.\n",
        "We of course have the constraint that ${\\mathbf 1}^T w =1$.\n",
        "The allocation $w_i<0$ means a *short position* in asset $i$, or that we borrow shares to sell now that we must replace later.\n",
        "The allocation $w \\geq 0$ is a *long only* portfolio.\n",
        "The quantity\n",
        "$$ \\|w \\|_1 = {\\mathbf 1}^T w_+ + {\\mathbf 1}^T w_- $$\n",
        "is known as *leverage*."
      ]
    },
    {
      "cell_type": "markdown",
      "metadata": {
        "id": "lq0-B6eMj0tU"
      },
      "source": [
        "### Asset returns\n",
        "\n",
        "We will only model investments held for one period. The initial prices are $p_i > 0$. The end of period prices are $p_i^+ >0$. The asset (fractional) returns are $r_i = (p_i^+-p_i)/p_i$. The porfolio (fractional) return is $R = r^Tw$.\n",
        "\n",
        "A common model is that $r$ is a random variable with mean ${\\bf E}r = \\mu$ and covariance ${\\bf E{(r-\\mu)(r-\\mu)^T}} = \\Sigma$.\n",
        "It follows that $R$ is a random variable with ${\\bf E}R = \\mu^T w$ and ${\\bf var}(R) = w^T\\Sigma w$.\n",
        "${\\bf E}R$ is the (mean) *return* of the portfolio. ${\\bf var}(R)$ is the *risk* of the portfolio.\n",
        "(Risk is also sometimes given as ${\\bf std}(R) = \\sqrt{{\\bf var}(R)}$.)\n",
        "\n",
        "Portfolio optimization has two competing objectives: high return and low risk."
      ]
    },
    {
      "cell_type": "markdown",
      "metadata": {
        "id": "D7qBZksvj0tU"
      },
      "source": [
        "### Classical (Markowitz) portfolio optimization\n",
        "\n",
        "Classical (Markowitz) portfolio optimization solves the optimization problem\n",
        "\n",
        "\\begin{array}{ll} \\mbox{maximize} & \\mu^T w - \\gamma w^T\\Sigma w\\\\\n",
        "\\mbox{subject to} & {\\bf 1}^T w = 1, \\quad w \\in {\\cal W},\n",
        "\\end{array}\n",
        "\n",
        "where $w \\in {\\bf R}^n$ is the optimization variable, $\\cal W$ is a set of allowed portfolios (e.g., ${\\cal W} = {\\bf R}_+^n$ for a long only portfolio), and $\\gamma >0$ is the *risk aversion parameter*.\n",
        "\n",
        "The objective $\\mu^Tw - \\gamma w^T\\Sigma w$ is the *risk-adjusted return*. Varying $\\gamma$ gives the optimal *risk-return trade-off*. \n",
        "We can get the same risk-return trade-off by fixing return and minimizing risk."
      ]
    },
    {
      "cell_type": "markdown",
      "metadata": {
        "id": "Y1iD-k6-j0tU"
      },
      "source": [
        "### Example\n",
        "\n",
        "In the following code we compute and plot the optimal risk-return trade-off for $10$ assets, restricting ourselves to a long only portfolio."
      ]
    },
    {
      "cell_type": "code",
      "execution_count": 1,
      "metadata": {
        "id": "77LQ0x98j0tV"
      },
      "outputs": [],
      "source": [
        "# Generate data for long only portfolio optimization.\n",
        "import numpy as np\n",
        "np.random.seed(1)\n",
        "n = 10\n",
        "mu = np.abs(np.random.randn(n, 1))\n",
        "Sigma = np.random.randn(n, n)\n",
        "Sigma = Sigma.T @ Sigma"
      ]
    },
    {
      "cell_type": "code",
      "execution_count": 2,
      "metadata": {
        "id": "SPp2ngkOj0tV"
      },
      "outputs": [],
      "source": [
        "# Long only portfolio optimization.\n",
        "import cvxpy as cp\n",
        "\n",
        "\n",
        "w = cp.Variable(n)\n",
        "gamma = cp.Parameter(nonneg=True)\n",
        "ret = mu.T @ w \n",
        "risk = cp.quad_form(w, Sigma)\n",
        "prob = cp.Problem(cp.Minimize(gamma*risk - ret), \n",
        "               [cp.sum(w) == 1, \n",
        "                w >= 0])"
      ]
    },
    {
      "cell_type": "code",
      "execution_count": 3,
      "metadata": {
        "colab": {
          "base_uri": "https://localhost:8080/",
          "height": 49,
          "referenced_widgets": [
            "17ecf2104e104d95bb2d8befa793f526",
            "585e0f7f09294cfeb32010d8925c8dff",
            "086d2b30425140f599240c6c7c25573c",
            "ff2d955cd9de4b9b928b73b2646ce71a",
            "36e1d18689d34dcebb2a4aa5d174887f",
            "0c4737f1c96e4164b9af402523f48f77",
            "c1d3a4f9f9e84502bc6ce656c4b10db7",
            "fea835ff7bab49dc92d481851dcae452",
            "5817c1c0cc384b23822d543a2b95b9ce",
            "3e9f1a1ce2f9468aa954a86cc8d5c8a5",
            "57e1ad61a7a74da4a2d3294ca3e7dbfe"
          ]
        },
        "id": "fcO3DDjUj0tW",
        "outputId": "80d06f32-7fe8-46e2-f32b-5522a540e03e"
      },
      "outputs": [
        {
          "name": "stderr",
          "output_type": "stream",
          "text": [
            "100%|██████████| 100/100 [00:00<00:00, 508.20it/s]\n"
          ]
        }
      ],
      "source": [
        "# Compute trade-off curve.\n",
        "from tqdm.auto import tqdm\n",
        "SAMPLES = 100\n",
        "risk_data = np.zeros(SAMPLES)\n",
        "ret_data = np.zeros(SAMPLES)\n",
        "gamma_vals = np.logspace(-2, 3, num=SAMPLES)\n",
        "for i in tqdm(range(SAMPLES)):\n",
        "    gamma.value = gamma_vals[i]\n",
        "    prob.solve()\n",
        "    risk_data[i] = cp.sqrt(risk).value\n",
        "    ret_data[i] = ret.value"
      ]
    },
    {
      "cell_type": "code",
      "execution_count": 4,
      "metadata": {
        "colab": {
          "base_uri": "https://localhost:8080/",
          "height": 370
        },
        "id": "iOU9pm6vj0tW",
        "outputId": "ca8cc894-fe76-4642-cff1-a2ee2bc8e496"
      },
      "outputs": [
        {
          "data": {
            "image/svg+xml": "<?xml version=\"1.0\" encoding=\"utf-8\" standalone=\"no\"?>\n<!DOCTYPE svg PUBLIC \"-//W3C//DTD SVG 1.1//EN\"\n  \"http://www.w3.org/Graphics/SVG/1.1/DTD/svg11.dtd\">\n<svg height=\"262.19625pt\" version=\"1.1\" viewBox=\"0 0 385.78125 262.19625\" width=\"385.78125pt\" xmlns=\"http://www.w3.org/2000/svg\" xmlns:xlink=\"http://www.w3.org/1999/xlink\">\n <metadata>\n  <rdf:RDF xmlns:cc=\"http://creativecommons.org/ns#\" xmlns:dc=\"http://purl.org/dc/elements/1.1/\" xmlns:rdf=\"http://www.w3.org/1999/02/22-rdf-syntax-ns#\">\n   <cc:Work>\n    <dc:type rdf:resource=\"http://purl.org/dc/dcmitype/StillImage\"/>\n    <dc:date>2022-03-24T13:37:24.983666</dc:date>\n    <dc:format>image/svg+xml</dc:format>\n    <dc:creator>\n     <cc:Agent>\n      <dc:title>Matplotlib v3.4.3, https://matplotlib.org/</dc:title>\n     </cc:Agent>\n    </dc:creator>\n   </cc:Work>\n  </rdf:RDF>\n </metadata>\n <defs>\n  <style type=\"text/css\">*{stroke-linecap:butt;stroke-linejoin:round;}</style>\n </defs>\n <g id=\"figure_1\">\n  <g id=\"patch_1\">\n   <path d=\"M 0 262.19625 \nL 385.78125 262.19625 \nL 385.78125 0 \nL 0 0 \nz\n\" style=\"fill:none;\"/>\n  </g>\n  <g id=\"axes_1\">\n   <g id=\"patch_2\">\n    <path d=\"M 43.78125 224.64 \nL 378.58125 224.64 \nL 378.58125 7.2 \nL 43.78125 7.2 \nz\n\" style=\"fill:#ffffff;\"/>\n   </g>\n   <g id=\"matplotlib.axis_1\">\n    <g id=\"xtick_1\">\n     <g id=\"line2d_1\">\n      <defs>\n       <path d=\"M 0 0 \nL 0 3.5 \n\" id=\"m518acfd111\" style=\"stroke:#000000;stroke-width:0.8;\"/>\n      </defs>\n      <g>\n       <use style=\"stroke:#000000;stroke-width:0.8;\" x=\"73.4446\" xlink:href=\"#m518acfd111\" y=\"224.64\"/>\n      </g>\n     </g>\n     <g id=\"text_1\">\n      <!-- 0.5 -->\n      <g transform=\"translate(65.493037 239.238438)scale(0.1 -0.1)\">\n       <defs>\n        <path d=\"M 2034 4250 \nQ 1547 4250 1301 3770 \nQ 1056 3291 1056 2328 \nQ 1056 1369 1301 889 \nQ 1547 409 2034 409 \nQ 2525 409 2770 889 \nQ 3016 1369 3016 2328 \nQ 3016 3291 2770 3770 \nQ 2525 4250 2034 4250 \nz\nM 2034 4750 \nQ 2819 4750 3233 4129 \nQ 3647 3509 3647 2328 \nQ 3647 1150 3233 529 \nQ 2819 -91 2034 -91 \nQ 1250 -91 836 529 \nQ 422 1150 422 2328 \nQ 422 3509 836 4129 \nQ 1250 4750 2034 4750 \nz\n\" id=\"DejaVuSans-30\" transform=\"scale(0.015625)\"/>\n        <path d=\"M 684 794 \nL 1344 794 \nL 1344 0 \nL 684 0 \nL 684 794 \nz\n\" id=\"DejaVuSans-2e\" transform=\"scale(0.015625)\"/>\n        <path d=\"M 691 4666 \nL 3169 4666 \nL 3169 4134 \nL 1269 4134 \nL 1269 2991 \nQ 1406 3038 1543 3061 \nQ 1681 3084 1819 3084 \nQ 2600 3084 3056 2656 \nQ 3513 2228 3513 1497 \nQ 3513 744 3044 326 \nQ 2575 -91 1722 -91 \nQ 1428 -91 1123 -41 \nQ 819 9 494 109 \nL 494 744 \nQ 775 591 1075 516 \nQ 1375 441 1709 441 \nQ 2250 441 2565 725 \nQ 2881 1009 2881 1497 \nQ 2881 1984 2565 2268 \nQ 2250 2553 1709 2553 \nQ 1456 2553 1204 2497 \nQ 953 2441 691 2322 \nL 691 4666 \nz\n\" id=\"DejaVuSans-35\" transform=\"scale(0.015625)\"/>\n       </defs>\n       <use xlink:href=\"#DejaVuSans-30\"/>\n       <use x=\"63.623047\" xlink:href=\"#DejaVuSans-2e\"/>\n       <use x=\"95.410156\" xlink:href=\"#DejaVuSans-35\"/>\n      </g>\n     </g>\n    </g>\n    <g id=\"xtick_2\">\n     <g id=\"line2d_2\">\n      <g>\n       <use style=\"stroke:#000000;stroke-width:0.8;\" x=\"124.831411\" xlink:href=\"#m518acfd111\" y=\"224.64\"/>\n      </g>\n     </g>\n     <g id=\"text_2\">\n      <!-- 1.0 -->\n      <g transform=\"translate(116.879848 239.238438)scale(0.1 -0.1)\">\n       <defs>\n        <path d=\"M 794 531 \nL 1825 531 \nL 1825 4091 \nL 703 3866 \nL 703 4441 \nL 1819 4666 \nL 2450 4666 \nL 2450 531 \nL 3481 531 \nL 3481 0 \nL 794 0 \nL 794 531 \nz\n\" id=\"DejaVuSans-31\" transform=\"scale(0.015625)\"/>\n       </defs>\n       <use xlink:href=\"#DejaVuSans-31\"/>\n       <use x=\"63.623047\" xlink:href=\"#DejaVuSans-2e\"/>\n       <use x=\"95.410156\" xlink:href=\"#DejaVuSans-30\"/>\n      </g>\n     </g>\n    </g>\n    <g id=\"xtick_3\">\n     <g id=\"line2d_3\">\n      <g>\n       <use style=\"stroke:#000000;stroke-width:0.8;\" x=\"176.218222\" xlink:href=\"#m518acfd111\" y=\"224.64\"/>\n      </g>\n     </g>\n     <g id=\"text_3\">\n      <!-- 1.5 -->\n      <g transform=\"translate(168.26666 239.238438)scale(0.1 -0.1)\">\n       <use xlink:href=\"#DejaVuSans-31\"/>\n       <use x=\"63.623047\" xlink:href=\"#DejaVuSans-2e\"/>\n       <use x=\"95.410156\" xlink:href=\"#DejaVuSans-35\"/>\n      </g>\n     </g>\n    </g>\n    <g id=\"xtick_4\">\n     <g id=\"line2d_4\">\n      <g>\n       <use style=\"stroke:#000000;stroke-width:0.8;\" x=\"227.605033\" xlink:href=\"#m518acfd111\" y=\"224.64\"/>\n      </g>\n     </g>\n     <g id=\"text_4\">\n      <!-- 2.0 -->\n      <g transform=\"translate(219.653471 239.238438)scale(0.1 -0.1)\">\n       <defs>\n        <path d=\"M 1228 531 \nL 3431 531 \nL 3431 0 \nL 469 0 \nL 469 531 \nQ 828 903 1448 1529 \nQ 2069 2156 2228 2338 \nQ 2531 2678 2651 2914 \nQ 2772 3150 2772 3378 \nQ 2772 3750 2511 3984 \nQ 2250 4219 1831 4219 \nQ 1534 4219 1204 4116 \nQ 875 4013 500 3803 \nL 500 4441 \nQ 881 4594 1212 4672 \nQ 1544 4750 1819 4750 \nQ 2544 4750 2975 4387 \nQ 3406 4025 3406 3419 \nQ 3406 3131 3298 2873 \nQ 3191 2616 2906 2266 \nQ 2828 2175 2409 1742 \nQ 1991 1309 1228 531 \nz\n\" id=\"DejaVuSans-32\" transform=\"scale(0.015625)\"/>\n       </defs>\n       <use xlink:href=\"#DejaVuSans-32\"/>\n       <use x=\"63.623047\" xlink:href=\"#DejaVuSans-2e\"/>\n       <use x=\"95.410156\" xlink:href=\"#DejaVuSans-30\"/>\n      </g>\n     </g>\n    </g>\n    <g id=\"xtick_5\">\n     <g id=\"line2d_5\">\n      <g>\n       <use style=\"stroke:#000000;stroke-width:0.8;\" x=\"278.991845\" xlink:href=\"#m518acfd111\" y=\"224.64\"/>\n      </g>\n     </g>\n     <g id=\"text_5\">\n      <!-- 2.5 -->\n      <g transform=\"translate(271.040282 239.238438)scale(0.1 -0.1)\">\n       <use xlink:href=\"#DejaVuSans-32\"/>\n       <use x=\"63.623047\" xlink:href=\"#DejaVuSans-2e\"/>\n       <use x=\"95.410156\" xlink:href=\"#DejaVuSans-35\"/>\n      </g>\n     </g>\n    </g>\n    <g id=\"xtick_6\">\n     <g id=\"line2d_6\">\n      <g>\n       <use style=\"stroke:#000000;stroke-width:0.8;\" x=\"330.378656\" xlink:href=\"#m518acfd111\" y=\"224.64\"/>\n      </g>\n     </g>\n     <g id=\"text_6\">\n      <!-- 3.0 -->\n      <g transform=\"translate(322.427093 239.238438)scale(0.1 -0.1)\">\n       <defs>\n        <path d=\"M 2597 2516 \nQ 3050 2419 3304 2112 \nQ 3559 1806 3559 1356 \nQ 3559 666 3084 287 \nQ 2609 -91 1734 -91 \nQ 1441 -91 1130 -33 \nQ 819 25 488 141 \nL 488 750 \nQ 750 597 1062 519 \nQ 1375 441 1716 441 \nQ 2309 441 2620 675 \nQ 2931 909 2931 1356 \nQ 2931 1769 2642 2001 \nQ 2353 2234 1838 2234 \nL 1294 2234 \nL 1294 2753 \nL 1863 2753 \nQ 2328 2753 2575 2939 \nQ 2822 3125 2822 3475 \nQ 2822 3834 2567 4026 \nQ 2313 4219 1838 4219 \nQ 1578 4219 1281 4162 \nQ 984 4106 628 3988 \nL 628 4550 \nQ 988 4650 1302 4700 \nQ 1616 4750 1894 4750 \nQ 2613 4750 3031 4423 \nQ 3450 4097 3450 3541 \nQ 3450 3153 3228 2886 \nQ 3006 2619 2597 2516 \nz\n\" id=\"DejaVuSans-33\" transform=\"scale(0.015625)\"/>\n       </defs>\n       <use xlink:href=\"#DejaVuSans-33\"/>\n       <use x=\"63.623047\" xlink:href=\"#DejaVuSans-2e\"/>\n       <use x=\"95.410156\" xlink:href=\"#DejaVuSans-30\"/>\n      </g>\n     </g>\n    </g>\n    <g id=\"text_7\">\n     <!-- Standard deviation -->\n     <g transform=\"translate(163.603906 252.916563)scale(0.1 -0.1)\">\n      <defs>\n       <path d=\"M 3425 4513 \nL 3425 3897 \nQ 3066 4069 2747 4153 \nQ 2428 4238 2131 4238 \nQ 1616 4238 1336 4038 \nQ 1056 3838 1056 3469 \nQ 1056 3159 1242 3001 \nQ 1428 2844 1947 2747 \nL 2328 2669 \nQ 3034 2534 3370 2195 \nQ 3706 1856 3706 1288 \nQ 3706 609 3251 259 \nQ 2797 -91 1919 -91 \nQ 1588 -91 1214 -16 \nQ 841 59 441 206 \nL 441 856 \nQ 825 641 1194 531 \nQ 1563 422 1919 422 \nQ 2459 422 2753 634 \nQ 3047 847 3047 1241 \nQ 3047 1584 2836 1778 \nQ 2625 1972 2144 2069 \nL 1759 2144 \nQ 1053 2284 737 2584 \nQ 422 2884 422 3419 \nQ 422 4038 858 4394 \nQ 1294 4750 2059 4750 \nQ 2388 4750 2728 4690 \nQ 3069 4631 3425 4513 \nz\n\" id=\"DejaVuSans-53\" transform=\"scale(0.015625)\"/>\n       <path d=\"M 1172 4494 \nL 1172 3500 \nL 2356 3500 \nL 2356 3053 \nL 1172 3053 \nL 1172 1153 \nQ 1172 725 1289 603 \nQ 1406 481 1766 481 \nL 2356 481 \nL 2356 0 \nL 1766 0 \nQ 1100 0 847 248 \nQ 594 497 594 1153 \nL 594 3053 \nL 172 3053 \nL 172 3500 \nL 594 3500 \nL 594 4494 \nL 1172 4494 \nz\n\" id=\"DejaVuSans-74\" transform=\"scale(0.015625)\"/>\n       <path d=\"M 2194 1759 \nQ 1497 1759 1228 1600 \nQ 959 1441 959 1056 \nQ 959 750 1161 570 \nQ 1363 391 1709 391 \nQ 2188 391 2477 730 \nQ 2766 1069 2766 1631 \nL 2766 1759 \nL 2194 1759 \nz\nM 3341 1997 \nL 3341 0 \nL 2766 0 \nL 2766 531 \nQ 2569 213 2275 61 \nQ 1981 -91 1556 -91 \nQ 1019 -91 701 211 \nQ 384 513 384 1019 \nQ 384 1609 779 1909 \nQ 1175 2209 1959 2209 \nL 2766 2209 \nL 2766 2266 \nQ 2766 2663 2505 2880 \nQ 2244 3097 1772 3097 \nQ 1472 3097 1187 3025 \nQ 903 2953 641 2809 \nL 641 3341 \nQ 956 3463 1253 3523 \nQ 1550 3584 1831 3584 \nQ 2591 3584 2966 3190 \nQ 3341 2797 3341 1997 \nz\n\" id=\"DejaVuSans-61\" transform=\"scale(0.015625)\"/>\n       <path d=\"M 3513 2113 \nL 3513 0 \nL 2938 0 \nL 2938 2094 \nQ 2938 2591 2744 2837 \nQ 2550 3084 2163 3084 \nQ 1697 3084 1428 2787 \nQ 1159 2491 1159 1978 \nL 1159 0 \nL 581 0 \nL 581 3500 \nL 1159 3500 \nL 1159 2956 \nQ 1366 3272 1645 3428 \nQ 1925 3584 2291 3584 \nQ 2894 3584 3203 3211 \nQ 3513 2838 3513 2113 \nz\n\" id=\"DejaVuSans-6e\" transform=\"scale(0.015625)\"/>\n       <path d=\"M 2906 2969 \nL 2906 4863 \nL 3481 4863 \nL 3481 0 \nL 2906 0 \nL 2906 525 \nQ 2725 213 2448 61 \nQ 2172 -91 1784 -91 \nQ 1150 -91 751 415 \nQ 353 922 353 1747 \nQ 353 2572 751 3078 \nQ 1150 3584 1784 3584 \nQ 2172 3584 2448 3432 \nQ 2725 3281 2906 2969 \nz\nM 947 1747 \nQ 947 1113 1208 752 \nQ 1469 391 1925 391 \nQ 2381 391 2643 752 \nQ 2906 1113 2906 1747 \nQ 2906 2381 2643 2742 \nQ 2381 3103 1925 3103 \nQ 1469 3103 1208 2742 \nQ 947 2381 947 1747 \nz\n\" id=\"DejaVuSans-64\" transform=\"scale(0.015625)\"/>\n       <path d=\"M 2631 2963 \nQ 2534 3019 2420 3045 \nQ 2306 3072 2169 3072 \nQ 1681 3072 1420 2755 \nQ 1159 2438 1159 1844 \nL 1159 0 \nL 581 0 \nL 581 3500 \nL 1159 3500 \nL 1159 2956 \nQ 1341 3275 1631 3429 \nQ 1922 3584 2338 3584 \nQ 2397 3584 2469 3576 \nQ 2541 3569 2628 3553 \nL 2631 2963 \nz\n\" id=\"DejaVuSans-72\" transform=\"scale(0.015625)\"/>\n       <path id=\"DejaVuSans-20\" transform=\"scale(0.015625)\"/>\n       <path d=\"M 3597 1894 \nL 3597 1613 \nL 953 1613 \nQ 991 1019 1311 708 \nQ 1631 397 2203 397 \nQ 2534 397 2845 478 \nQ 3156 559 3463 722 \nL 3463 178 \nQ 3153 47 2828 -22 \nQ 2503 -91 2169 -91 \nQ 1331 -91 842 396 \nQ 353 884 353 1716 \nQ 353 2575 817 3079 \nQ 1281 3584 2069 3584 \nQ 2775 3584 3186 3129 \nQ 3597 2675 3597 1894 \nz\nM 3022 2063 \nQ 3016 2534 2758 2815 \nQ 2500 3097 2075 3097 \nQ 1594 3097 1305 2825 \nQ 1016 2553 972 2059 \nL 3022 2063 \nz\n\" id=\"DejaVuSans-65\" transform=\"scale(0.015625)\"/>\n       <path d=\"M 191 3500 \nL 800 3500 \nL 1894 563 \nL 2988 3500 \nL 3597 3500 \nL 2284 0 \nL 1503 0 \nL 191 3500 \nz\n\" id=\"DejaVuSans-76\" transform=\"scale(0.015625)\"/>\n       <path d=\"M 603 3500 \nL 1178 3500 \nL 1178 0 \nL 603 0 \nL 603 3500 \nz\nM 603 4863 \nL 1178 4863 \nL 1178 4134 \nL 603 4134 \nL 603 4863 \nz\n\" id=\"DejaVuSans-69\" transform=\"scale(0.015625)\"/>\n       <path d=\"M 1959 3097 \nQ 1497 3097 1228 2736 \nQ 959 2375 959 1747 \nQ 959 1119 1226 758 \nQ 1494 397 1959 397 \nQ 2419 397 2687 759 \nQ 2956 1122 2956 1747 \nQ 2956 2369 2687 2733 \nQ 2419 3097 1959 3097 \nz\nM 1959 3584 \nQ 2709 3584 3137 3096 \nQ 3566 2609 3566 1747 \nQ 3566 888 3137 398 \nQ 2709 -91 1959 -91 \nQ 1206 -91 779 398 \nQ 353 888 353 1747 \nQ 353 2609 779 3096 \nQ 1206 3584 1959 3584 \nz\n\" id=\"DejaVuSans-6f\" transform=\"scale(0.015625)\"/>\n      </defs>\n      <use xlink:href=\"#DejaVuSans-53\"/>\n      <use x=\"63.476562\" xlink:href=\"#DejaVuSans-74\"/>\n      <use x=\"102.685547\" xlink:href=\"#DejaVuSans-61\"/>\n      <use x=\"163.964844\" xlink:href=\"#DejaVuSans-6e\"/>\n      <use x=\"227.34375\" xlink:href=\"#DejaVuSans-64\"/>\n      <use x=\"290.820312\" xlink:href=\"#DejaVuSans-61\"/>\n      <use x=\"352.099609\" xlink:href=\"#DejaVuSans-72\"/>\n      <use x=\"391.462891\" xlink:href=\"#DejaVuSans-64\"/>\n      <use x=\"454.939453\" xlink:href=\"#DejaVuSans-20\"/>\n      <use x=\"486.726562\" xlink:href=\"#DejaVuSans-64\"/>\n      <use x=\"550.203125\" xlink:href=\"#DejaVuSans-65\"/>\n      <use x=\"611.726562\" xlink:href=\"#DejaVuSans-76\"/>\n      <use x=\"670.90625\" xlink:href=\"#DejaVuSans-69\"/>\n      <use x=\"698.689453\" xlink:href=\"#DejaVuSans-61\"/>\n      <use x=\"759.96875\" xlink:href=\"#DejaVuSans-74\"/>\n      <use x=\"799.177734\" xlink:href=\"#DejaVuSans-69\"/>\n      <use x=\"826.960938\" xlink:href=\"#DejaVuSans-6f\"/>\n      <use x=\"888.142578\" xlink:href=\"#DejaVuSans-6e\"/>\n     </g>\n    </g>\n   </g>\n   <g id=\"matplotlib.axis_2\">\n    <g id=\"ytick_1\">\n     <g id=\"line2d_7\">\n      <defs>\n       <path d=\"M 0 0 \nL -3.5 0 \n\" id=\"m9cdf05fe34\" style=\"stroke:#000000;stroke-width:0.8;\"/>\n      </defs>\n      <g>\n       <use style=\"stroke:#000000;stroke-width:0.8;\" x=\"43.78125\" xlink:href=\"#m9cdf05fe34\" y=\"190.614756\"/>\n      </g>\n     </g>\n     <g id=\"text_8\">\n      <!-- 0.5 -->\n      <g transform=\"translate(20.878125 194.413975)scale(0.1 -0.1)\">\n       <use xlink:href=\"#DejaVuSans-30\"/>\n       <use x=\"63.623047\" xlink:href=\"#DejaVuSans-2e\"/>\n       <use x=\"95.410156\" xlink:href=\"#DejaVuSans-35\"/>\n      </g>\n     </g>\n    </g>\n    <g id=\"ytick_2\">\n     <g id=\"line2d_8\">\n      <g>\n       <use style=\"stroke:#000000;stroke-width:0.8;\" x=\"43.78125\" xlink:href=\"#m9cdf05fe34\" y=\"142.452838\"/>\n      </g>\n     </g>\n     <g id=\"text_9\">\n      <!-- 1.0 -->\n      <g transform=\"translate(20.878125 146.252057)scale(0.1 -0.1)\">\n       <use xlink:href=\"#DejaVuSans-31\"/>\n       <use x=\"63.623047\" xlink:href=\"#DejaVuSans-2e\"/>\n       <use x=\"95.410156\" xlink:href=\"#DejaVuSans-30\"/>\n      </g>\n     </g>\n    </g>\n    <g id=\"ytick_3\">\n     <g id=\"line2d_9\">\n      <g>\n       <use style=\"stroke:#000000;stroke-width:0.8;\" x=\"43.78125\" xlink:href=\"#m9cdf05fe34\" y=\"94.290919\"/>\n      </g>\n     </g>\n     <g id=\"text_10\">\n      <!-- 1.5 -->\n      <g transform=\"translate(20.878125 98.090138)scale(0.1 -0.1)\">\n       <use xlink:href=\"#DejaVuSans-31\"/>\n       <use x=\"63.623047\" xlink:href=\"#DejaVuSans-2e\"/>\n       <use x=\"95.410156\" xlink:href=\"#DejaVuSans-35\"/>\n      </g>\n     </g>\n    </g>\n    <g id=\"ytick_4\">\n     <g id=\"line2d_10\">\n      <g>\n       <use style=\"stroke:#000000;stroke-width:0.8;\" x=\"43.78125\" xlink:href=\"#m9cdf05fe34\" y=\"46.129001\"/>\n      </g>\n     </g>\n     <g id=\"text_11\">\n      <!-- 2.0 -->\n      <g transform=\"translate(20.878125 49.928219)scale(0.1 -0.1)\">\n       <use xlink:href=\"#DejaVuSans-32\"/>\n       <use x=\"63.623047\" xlink:href=\"#DejaVuSans-2e\"/>\n       <use x=\"95.410156\" xlink:href=\"#DejaVuSans-30\"/>\n      </g>\n     </g>\n    </g>\n    <g id=\"text_12\">\n     <!-- Return -->\n     <g transform=\"translate(14.798438 132.511406)rotate(-90)scale(0.1 -0.1)\">\n      <defs>\n       <path d=\"M 2841 2188 \nQ 3044 2119 3236 1894 \nQ 3428 1669 3622 1275 \nL 4263 0 \nL 3584 0 \nL 2988 1197 \nQ 2756 1666 2539 1819 \nQ 2322 1972 1947 1972 \nL 1259 1972 \nL 1259 0 \nL 628 0 \nL 628 4666 \nL 2053 4666 \nQ 2853 4666 3247 4331 \nQ 3641 3997 3641 3322 \nQ 3641 2881 3436 2590 \nQ 3231 2300 2841 2188 \nz\nM 1259 4147 \nL 1259 2491 \nL 2053 2491 \nQ 2509 2491 2742 2702 \nQ 2975 2913 2975 3322 \nQ 2975 3731 2742 3939 \nQ 2509 4147 2053 4147 \nL 1259 4147 \nz\n\" id=\"DejaVuSans-52\" transform=\"scale(0.015625)\"/>\n       <path d=\"M 544 1381 \nL 544 3500 \nL 1119 3500 \nL 1119 1403 \nQ 1119 906 1312 657 \nQ 1506 409 1894 409 \nQ 2359 409 2629 706 \nQ 2900 1003 2900 1516 \nL 2900 3500 \nL 3475 3500 \nL 3475 0 \nL 2900 0 \nL 2900 538 \nQ 2691 219 2414 64 \nQ 2138 -91 1772 -91 \nQ 1169 -91 856 284 \nQ 544 659 544 1381 \nz\nM 1991 3584 \nL 1991 3584 \nz\n\" id=\"DejaVuSans-75\" transform=\"scale(0.015625)\"/>\n      </defs>\n      <use xlink:href=\"#DejaVuSans-52\"/>\n      <use x=\"64.982422\" xlink:href=\"#DejaVuSans-65\"/>\n      <use x=\"126.505859\" xlink:href=\"#DejaVuSans-74\"/>\n      <use x=\"165.714844\" xlink:href=\"#DejaVuSans-75\"/>\n      <use x=\"229.09375\" xlink:href=\"#DejaVuSans-72\"/>\n      <use x=\"268.457031\" xlink:href=\"#DejaVuSans-6e\"/>\n     </g>\n    </g>\n   </g>\n   <g id=\"line2d_11\">\n    <path clip-path=\"url(#pe9fdb84f9f)\" d=\"M 285.510086 17.083636 \nL 285.510086 17.083636 \nL 285.510086 17.083636 \nL 285.510086 17.083636 \nL 285.510086 17.083636 \nL 285.510086 17.083636 \nL 285.510086 17.083636 \nL 285.510086 17.083636 \nL 285.510086 17.083636 \nL 285.510086 17.083636 \nL 285.510086 17.083636 \nL 285.510086 17.083636 \nL 285.510086 17.083636 \nL 285.510086 17.083636 \nL 285.510086 17.083636 \nL 273.526714 20.147641 \nL 261.341207 23.449595 \nL 251.224658 26.389044 \nL 242.878527 29.005786 \nL 229.916643 33.395651 \nL 216.158762 38.257701 \nL 202.750878 43.234807 \nL 188.222614 48.846459 \nL 174.194996 54.410928 \nL 162.08378 59.364501 \nL 151.684622 63.774247 \nL 142.809042 67.69987 \nL 135.28221 71.194518 \nL 128.941517 74.305507 \nL 123.635896 77.074956 \nL 119.225738 79.540361 \nL 115.583176 81.735102 \nL 112.592476 83.688894 \nL 109.773635 85.706541 \nL 104.909532 89.422365 \nL 100.146628 93.282538 \nL 96.07621 96.781626 \nL 92.68405 99.896567 \nL 89.834443 102.711566 \nL 84.734022 108.041734 \nL 80.376055 112.786729 \nL 76.676025 117.010796 \nL 73.555344 120.771123 \nL 70.940963 124.118624 \nL 68.765289 127.098619 \nL 66.966304 129.751456 \nL 65.487743 132.113051 \nL 64.27925 134.215379 \nL 63.296393 136.086903 \nL 62.500535 137.752962 \nL 61.858529 139.236113 \nL 61.3423 140.556436 \nL 60.928327 141.731807 \nL 60.426549 143.321425 \nL 59.974942 144.900715 \nL 59.639709 146.19865 \nL 59.507736 146.771444 \nL 59.402818 147.281353 \nL 59.319463 147.735281 \nL 59.253272 148.139376 \nL 59.200734 148.499106 \nL 59.159045 148.819344 \nL 59.125975 149.104425 \nL 59.099746 149.358208 \nL 59.078946 149.584129 \nL 59.062455 149.785248 \nL 59.049381 149.964287 \nL 59.039016 150.12367 \nL 59.0308 150.265555 \nL 59.024288 150.391863 \nL 59.019127 150.504305 \nL 59.015036 150.604402 \nL 59.011793 150.69351 \nL 59.009224 150.772836 \nL 59.007187 150.843452 \nL 59.005573 150.906316 \nL 59.004294 150.962279 \nL 59.00328 151.012097 \nL 59.002477 151.056447 \nL 59.00184 151.095927 \nL 59.001336 151.131073 \nL 59.000936 151.162361 \nL 59.000619 151.190213 \nL 59.000368 151.215008 \nL 59.000169 151.237081 \nL 59.000011 151.25673 \nL 58.999886 151.274223 \nL 58.999787 151.289795 \nL 58.999708 151.303657 \nL 58.999646 151.315997 \nL 58.999597 151.326983 \nL 58.999558 151.336763 \nL 58.999527 151.345469 \nL 58.999502 151.353219 \nL 58.999483 151.360118 \nL 58.999467 151.36626 \nL 58.999455 151.371728 \nL 58.999446 151.376595 \nL 58.999438 151.380928 \nL 58.999432 151.384785 \n\" style=\"fill:none;stroke:#008000;stroke-linecap:square;stroke-width:1.5;\"/>\n   </g>\n   <g id=\"line2d_12\">\n    <defs>\n     <path d=\"M -3 3 \nL 3 3 \nL 3 -3 \nL -3 -3 \nz\n\" id=\"m07598f84bb\" style=\"stroke:#0000ff;stroke-linejoin:miter;\"/>\n    </defs>\n    <g clip-path=\"url(#pe9fdb84f9f)\">\n     <use style=\"fill:#0000ff;stroke:#0000ff;stroke-linejoin:miter;\" x=\"123.635896\" xlink:href=\"#m07598f84bb\" y=\"77.074956\"/>\n    </g>\n   </g>\n   <g id=\"line2d_13\">\n    <g clip-path=\"url(#pe9fdb84f9f)\">\n     <use style=\"fill:#0000ff;stroke:#0000ff;stroke-linejoin:miter;\" x=\"80.376055\" xlink:href=\"#m07598f84bb\" y=\"112.786729\"/>\n    </g>\n   </g>\n   <g id=\"line2d_14\">\n    <defs>\n     <path d=\"M 0 3 \nC 0.795609 3 1.55874 2.683901 2.12132 2.12132 \nC 2.683901 1.55874 3 0.795609 3 0 \nC 3 -0.795609 2.683901 -1.55874 2.12132 -2.12132 \nC 1.55874 -2.683901 0.795609 -3 0 -3 \nC -0.795609 -3 -1.55874 -2.683901 -2.12132 -2.12132 \nC -2.683901 -1.55874 -3 -0.795609 -3 0 \nC -3 0.795609 -2.683901 1.55874 -2.12132 2.12132 \nC -1.55874 2.683901 -0.795609 3 0 3 \nz\n\" id=\"mdc920acf98\" style=\"stroke:#ff0000;\"/>\n    </defs>\n    <g clip-path=\"url(#pe9fdb84f9f)\">\n     <use style=\"fill:#ff0000;stroke:#ff0000;\" x=\"318.070062\" xlink:href=\"#mdc920acf98\" y=\"82.313497\"/>\n    </g>\n   </g>\n   <g id=\"line2d_15\">\n    <g clip-path=\"url(#pe9fdb84f9f)\">\n     <use style=\"fill:#ff0000;stroke:#ff0000;\" x=\"347.415783\" xlink:href=\"#mdc920acf98\" y=\"179.84995\"/>\n    </g>\n   </g>\n   <g id=\"line2d_16\">\n    <g clip-path=\"url(#pe9fdb84f9f)\">\n     <use style=\"fill:#ff0000;stroke:#ff0000;\" x=\"224.492521\" xlink:href=\"#mdc920acf98\" y=\"187.901145\"/>\n    </g>\n   </g>\n   <g id=\"line2d_17\">\n    <g clip-path=\"url(#pe9fdb84f9f)\">\n     <use style=\"fill:#ff0000;stroke:#ff0000;\" x=\"271.393448\" xlink:href=\"#mdc920acf98\" y=\"135.42422\"/>\n    </g>\n   </g>\n   <g id=\"line2d_18\">\n    <g clip-path=\"url(#pe9fdb84f9f)\">\n     <use style=\"fill:#ff0000;stroke:#ff0000;\" x=\"236.397883\" xlink:href=\"#mdc920acf98\" y=\"155.417291\"/>\n    </g>\n   </g>\n   <g id=\"line2d_19\">\n    <g clip-path=\"url(#pe9fdb84f9f)\">\n     <use style=\"fill:#ff0000;stroke:#ff0000;\" x=\"285.510086\" xlink:href=\"#mdc920acf98\" y=\"17.083636\"/>\n    </g>\n   </g>\n   <g id=\"line2d_20\">\n    <g clip-path=\"url(#pe9fdb84f9f)\">\n     <use style=\"fill:#ff0000;stroke:#ff0000;\" x=\"240.662644\" xlink:href=\"#mdc920acf98\" y=\"70.709711\"/>\n    </g>\n   </g>\n   <g id=\"line2d_21\">\n    <g clip-path=\"url(#pe9fdb84f9f)\">\n     <use style=\"fill:#ff0000;stroke:#ff0000;\" x=\"363.363068\" xlink:href=\"#mdc920acf98\" y=\"165.454305\"/>\n    </g>\n   </g>\n   <g id=\"line2d_22\">\n    <g clip-path=\"url(#pe9fdb84f9f)\">\n     <use style=\"fill:#ff0000;stroke:#ff0000;\" x=\"316.792125\" xlink:href=\"#mdc920acf98\" y=\"208.045605\"/>\n    </g>\n   </g>\n   <g id=\"line2d_23\">\n    <g clip-path=\"url(#pe9fdb84f9f)\">\n     <use style=\"fill:#ff0000;stroke:#ff0000;\" x=\"286.705433\" xlink:href=\"#mdc920acf98\" y=\"214.756364\"/>\n    </g>\n   </g>\n   <g id=\"patch_3\">\n    <path d=\"M 43.78125 224.64 \nL 43.78125 7.2 \n\" style=\"fill:none;stroke:#000000;stroke-linecap:square;stroke-linejoin:miter;stroke-width:0.8;\"/>\n   </g>\n   <g id=\"patch_4\">\n    <path d=\"M 378.58125 224.64 \nL 378.58125 7.2 \n\" style=\"fill:none;stroke:#000000;stroke-linecap:square;stroke-linejoin:miter;stroke-width:0.8;\"/>\n   </g>\n   <g id=\"patch_5\">\n    <path d=\"M 43.78125 224.64 \nL 378.58125 224.64 \n\" style=\"fill:none;stroke:#000000;stroke-linecap:square;stroke-linejoin:miter;stroke-width:0.8;\"/>\n   </g>\n   <g id=\"patch_6\">\n    <path d=\"M 43.78125 7.2 \nL 378.58125 7.2 \n\" style=\"fill:none;stroke:#000000;stroke-linecap:square;stroke-linejoin:miter;stroke-width:0.8;\"/>\n   </g>\n   <g id=\"text_13\">\n    <!-- $\\gamma = 0.29$ -->\n    <g transform=\"translate(131.857786 79.964671)scale(0.1 -0.1)\">\n     <defs>\n      <path d=\"M 1491 2950 \nL 1838 788 \nL 3456 3500 \nL 4066 3500 \nL 1972 0 \nL 1713 -1331 \nL 1138 -1331 \nL 1397 0 \nL 988 2613 \nQ 925 3006 628 3006 \nL 475 3006 \nL 569 3500 \nL 788 3500 \nQ 1403 3500 1491 2950 \nz\n\" id=\"DejaVuSans-Oblique-3b3\" transform=\"scale(0.015625)\"/>\n      <path d=\"M 678 2906 \nL 4684 2906 \nL 4684 2381 \nL 678 2381 \nL 678 2906 \nz\nM 678 1631 \nL 4684 1631 \nL 4684 1100 \nL 678 1100 \nL 678 1631 \nz\n\" id=\"DejaVuSans-3d\" transform=\"scale(0.015625)\"/>\n      <path d=\"M 703 97 \nL 703 672 \nQ 941 559 1184 500 \nQ 1428 441 1663 441 \nQ 2288 441 2617 861 \nQ 2947 1281 2994 2138 \nQ 2813 1869 2534 1725 \nQ 2256 1581 1919 1581 \nQ 1219 1581 811 2004 \nQ 403 2428 403 3163 \nQ 403 3881 828 4315 \nQ 1253 4750 1959 4750 \nQ 2769 4750 3195 4129 \nQ 3622 3509 3622 2328 \nQ 3622 1225 3098 567 \nQ 2575 -91 1691 -91 \nQ 1453 -91 1209 -44 \nQ 966 3 703 97 \nz\nM 1959 2075 \nQ 2384 2075 2632 2365 \nQ 2881 2656 2881 3163 \nQ 2881 3666 2632 3958 \nQ 2384 4250 1959 4250 \nQ 1534 4250 1286 3958 \nQ 1038 3666 1038 3163 \nQ 1038 2656 1286 2365 \nQ 1534 2075 1959 2075 \nz\n\" id=\"DejaVuSans-39\" transform=\"scale(0.015625)\"/>\n     </defs>\n     <use transform=\"translate(0 0.78125)\" xlink:href=\"#DejaVuSans-Oblique-3b3\"/>\n     <use transform=\"translate(78.662109 0.78125)\" xlink:href=\"#DejaVuSans-3d\"/>\n     <use transform=\"translate(181.933594 0.78125)\" xlink:href=\"#DejaVuSans-30\"/>\n     <use transform=\"translate(245.556641 0.78125)\" xlink:href=\"#DejaVuSans-2e\"/>\n     <use transform=\"translate(271.84375 0.78125)\" xlink:href=\"#DejaVuSans-32\"/>\n     <use transform=\"translate(333.716797 0.78125)\" xlink:href=\"#DejaVuSans-39\"/>\n    </g>\n   </g>\n   <g id=\"text_14\">\n    <!-- $\\gamma = 1.05$ -->\n    <g transform=\"translate(88.597944 115.676444)scale(0.1 -0.1)\">\n     <use transform=\"translate(0 0.78125)\" xlink:href=\"#DejaVuSans-Oblique-3b3\"/>\n     <use transform=\"translate(78.662109 0.78125)\" xlink:href=\"#DejaVuSans-3d\"/>\n     <use transform=\"translate(181.933594 0.78125)\" xlink:href=\"#DejaVuSans-31\"/>\n     <use transform=\"translate(245.556641 0.78125)\" xlink:href=\"#DejaVuSans-2e\"/>\n     <use transform=\"translate(277.34375 0.78125)\" xlink:href=\"#DejaVuSans-30\"/>\n     <use transform=\"translate(340.966797 0.78125)\" xlink:href=\"#DejaVuSans-35\"/>\n    </g>\n   </g>\n  </g>\n </g>\n <defs>\n  <clipPath id=\"pe9fdb84f9f\">\n   <rect height=\"217.44\" width=\"334.8\" x=\"43.78125\" y=\"7.2\"/>\n  </clipPath>\n </defs>\n</svg>\n",
            "text/plain": [
              "<Figure size 432x288 with 1 Axes>"
            ]
          },
          "metadata": {
            "needs_background": "light"
          },
          "output_type": "display_data"
        }
      ],
      "source": [
        "# Plot long only trade-off curve.\n",
        "import matplotlib.pyplot as plt\n",
        "%matplotlib inline\n",
        "%config InlineBackend.figure_format = 'svg'\n",
        "\n",
        "markers_on = [29, 40]\n",
        "fig = plt.figure()\n",
        "ax = fig.add_subplot(111)\n",
        "plt.plot(risk_data, ret_data, 'g-')\n",
        "for marker in markers_on:\n",
        "    plt.plot(risk_data[marker], ret_data[marker], 'bs')\n",
        "    ax.annotate(r\"$\\gamma = %.2f$\" % gamma_vals[marker], xy=(risk_data[marker]+.08, ret_data[marker]-.03))\n",
        "for i in range(n):\n",
        "    plt.plot(cp.sqrt(Sigma[i,i]).value, mu[i], 'ro')\n",
        "plt.xlabel('Standard deviation')\n",
        "plt.ylabel('Return')\n",
        "plt.show()"
      ]
    },
    {
      "cell_type": "markdown",
      "metadata": {
        "id": "ng4KH0V9j0tX"
      },
      "source": [
        "We plot below the return distributions for the two risk aversion values marked on the trade-off curve.\n",
        "Notice that the probability of a loss is near 0 for the low risk value and far above 0 for the high risk value."
      ]
    },
    {
      "cell_type": "code",
      "execution_count": 5,
      "metadata": {
        "colab": {
          "base_uri": "https://localhost:8080/",
          "height": 370
        },
        "id": "HjeOTSSHj0tY",
        "outputId": "ea2a1095-d28d-4a34-bab9-01d790e81b9d"
      },
      "outputs": [
        {
          "data": {
            "image/svg+xml": "<?xml version=\"1.0\" encoding=\"utf-8\" standalone=\"no\"?>\n<!DOCTYPE svg PUBLIC \"-//W3C//DTD SVG 1.1//EN\"\n  \"http://www.w3.org/Graphics/SVG/1.1/DTD/svg11.dtd\">\n<svg height=\"262.19625pt\" version=\"1.1\" viewBox=\"0 0 385.78125 262.19625\" width=\"385.78125pt\" xmlns=\"http://www.w3.org/2000/svg\" xmlns:xlink=\"http://www.w3.org/1999/xlink\">\n <metadata>\n  <rdf:RDF xmlns:cc=\"http://creativecommons.org/ns#\" xmlns:dc=\"http://purl.org/dc/elements/1.1/\" xmlns:rdf=\"http://www.w3.org/1999/02/22-rdf-syntax-ns#\">\n   <cc:Work>\n    <dc:type rdf:resource=\"http://purl.org/dc/dcmitype/StillImage\"/>\n    <dc:date>2022-03-24T13:37:25.205797</dc:date>\n    <dc:format>image/svg+xml</dc:format>\n    <dc:creator>\n     <cc:Agent>\n      <dc:title>Matplotlib v3.4.3, https://matplotlib.org/</dc:title>\n     </cc:Agent>\n    </dc:creator>\n   </cc:Work>\n  </rdf:RDF>\n </metadata>\n <defs>\n  <style type=\"text/css\">*{stroke-linecap:butt;stroke-linejoin:round;}</style>\n </defs>\n <g id=\"figure_1\">\n  <g id=\"patch_1\">\n   <path d=\"M 0 262.19625 \nL 385.78125 262.19625 \nL 385.78125 0 \nL 0 0 \nz\n\" style=\"fill:none;\"/>\n  </g>\n  <g id=\"axes_1\">\n   <g id=\"patch_2\">\n    <path d=\"M 43.78125 224.64 \nL 378.58125 224.64 \nL 378.58125 7.2 \nL 43.78125 7.2 \nz\n\" style=\"fill:#ffffff;\"/>\n   </g>\n   <g id=\"matplotlib.axis_1\">\n    <g id=\"xtick_1\">\n     <g id=\"line2d_1\">\n      <defs>\n       <path d=\"M 0 0 \nL 0 3.5 \n\" id=\"mc07273993b\" style=\"stroke:#000000;stroke-width:0.8;\"/>\n      </defs>\n      <g>\n       <use style=\"stroke:#000000;stroke-width:0.8;\" x=\"58.999432\" xlink:href=\"#mc07273993b\" y=\"224.64\"/>\n      </g>\n     </g>\n     <g id=\"text_1\">\n      <!-- −2 -->\n      <g transform=\"translate(51.628338 239.238437)scale(0.1 -0.1)\">\n       <defs>\n        <path d=\"M 678 2272 \nL 4684 2272 \nL 4684 1741 \nL 678 1741 \nL 678 2272 \nz\n\" id=\"DejaVuSans-2212\" transform=\"scale(0.015625)\"/>\n        <path d=\"M 1228 531 \nL 3431 531 \nL 3431 0 \nL 469 0 \nL 469 531 \nQ 828 903 1448 1529 \nQ 2069 2156 2228 2338 \nQ 2531 2678 2651 2914 \nQ 2772 3150 2772 3378 \nQ 2772 3750 2511 3984 \nQ 2250 4219 1831 4219 \nQ 1534 4219 1204 4116 \nQ 875 4013 500 3803 \nL 500 4441 \nQ 881 4594 1212 4672 \nQ 1544 4750 1819 4750 \nQ 2544 4750 2975 4387 \nQ 3406 4025 3406 3419 \nQ 3406 3131 3298 2873 \nQ 3191 2616 2906 2266 \nQ 2828 2175 2409 1742 \nQ 1991 1309 1228 531 \nz\n\" id=\"DejaVuSans-32\" transform=\"scale(0.015625)\"/>\n       </defs>\n       <use xlink:href=\"#DejaVuSans-2212\"/>\n       <use x=\"83.789062\" xlink:href=\"#DejaVuSans-32\"/>\n      </g>\n     </g>\n    </g>\n    <g id=\"xtick_2\">\n     <g id=\"line2d_2\">\n      <g>\n       <use style=\"stroke:#000000;stroke-width:0.8;\" x=\"102.479951\" xlink:href=\"#mc07273993b\" y=\"224.64\"/>\n      </g>\n     </g>\n     <g id=\"text_2\">\n      <!-- −1 -->\n      <g transform=\"translate(95.108858 239.238437)scale(0.1 -0.1)\">\n       <defs>\n        <path d=\"M 794 531 \nL 1825 531 \nL 1825 4091 \nL 703 3866 \nL 703 4441 \nL 1819 4666 \nL 2450 4666 \nL 2450 531 \nL 3481 531 \nL 3481 0 \nL 794 0 \nL 794 531 \nz\n\" id=\"DejaVuSans-31\" transform=\"scale(0.015625)\"/>\n       </defs>\n       <use xlink:href=\"#DejaVuSans-2212\"/>\n       <use x=\"83.789062\" xlink:href=\"#DejaVuSans-31\"/>\n      </g>\n     </g>\n    </g>\n    <g id=\"xtick_3\">\n     <g id=\"line2d_3\">\n      <g>\n       <use style=\"stroke:#000000;stroke-width:0.8;\" x=\"145.960471\" xlink:href=\"#mc07273993b\" y=\"224.64\"/>\n      </g>\n     </g>\n     <g id=\"text_3\">\n      <!-- 0 -->\n      <g transform=\"translate(142.779221 239.238437)scale(0.1 -0.1)\">\n       <defs>\n        <path d=\"M 2034 4250 \nQ 1547 4250 1301 3770 \nQ 1056 3291 1056 2328 \nQ 1056 1369 1301 889 \nQ 1547 409 2034 409 \nQ 2525 409 2770 889 \nQ 3016 1369 3016 2328 \nQ 3016 3291 2770 3770 \nQ 2525 4250 2034 4250 \nz\nM 2034 4750 \nQ 2819 4750 3233 4129 \nQ 3647 3509 3647 2328 \nQ 3647 1150 3233 529 \nQ 2819 -91 2034 -91 \nQ 1250 -91 836 529 \nQ 422 1150 422 2328 \nQ 422 3509 836 4129 \nQ 1250 4750 2034 4750 \nz\n\" id=\"DejaVuSans-30\" transform=\"scale(0.015625)\"/>\n       </defs>\n       <use xlink:href=\"#DejaVuSans-30\"/>\n      </g>\n     </g>\n    </g>\n    <g id=\"xtick_4\">\n     <g id=\"line2d_4\">\n      <g>\n       <use style=\"stroke:#000000;stroke-width:0.8;\" x=\"189.44099\" xlink:href=\"#mc07273993b\" y=\"224.64\"/>\n      </g>\n     </g>\n     <g id=\"text_4\">\n      <!-- 1 -->\n      <g transform=\"translate(186.25974 239.238437)scale(0.1 -0.1)\">\n       <use xlink:href=\"#DejaVuSans-31\"/>\n      </g>\n     </g>\n    </g>\n    <g id=\"xtick_5\">\n     <g id=\"line2d_5\">\n      <g>\n       <use style=\"stroke:#000000;stroke-width:0.8;\" x=\"232.92151\" xlink:href=\"#mc07273993b\" y=\"224.64\"/>\n      </g>\n     </g>\n     <g id=\"text_5\">\n      <!-- 2 -->\n      <g transform=\"translate(229.74026 239.238437)scale(0.1 -0.1)\">\n       <use xlink:href=\"#DejaVuSans-32\"/>\n      </g>\n     </g>\n    </g>\n    <g id=\"xtick_6\">\n     <g id=\"line2d_6\">\n      <g>\n       <use style=\"stroke:#000000;stroke-width:0.8;\" x=\"276.402029\" xlink:href=\"#mc07273993b\" y=\"224.64\"/>\n      </g>\n     </g>\n     <g id=\"text_6\">\n      <!-- 3 -->\n      <g transform=\"translate(273.220779 239.238437)scale(0.1 -0.1)\">\n       <defs>\n        <path d=\"M 2597 2516 \nQ 3050 2419 3304 2112 \nQ 3559 1806 3559 1356 \nQ 3559 666 3084 287 \nQ 2609 -91 1734 -91 \nQ 1441 -91 1130 -33 \nQ 819 25 488 141 \nL 488 750 \nQ 750 597 1062 519 \nQ 1375 441 1716 441 \nQ 2309 441 2620 675 \nQ 2931 909 2931 1356 \nQ 2931 1769 2642 2001 \nQ 2353 2234 1838 2234 \nL 1294 2234 \nL 1294 2753 \nL 1863 2753 \nQ 2328 2753 2575 2939 \nQ 2822 3125 2822 3475 \nQ 2822 3834 2567 4026 \nQ 2313 4219 1838 4219 \nQ 1578 4219 1281 4162 \nQ 984 4106 628 3988 \nL 628 4550 \nQ 988 4650 1302 4700 \nQ 1616 4750 1894 4750 \nQ 2613 4750 3031 4423 \nQ 3450 4097 3450 3541 \nQ 3450 3153 3228 2886 \nQ 3006 2619 2597 2516 \nz\n\" id=\"DejaVuSans-33\" transform=\"scale(0.015625)\"/>\n       </defs>\n       <use xlink:href=\"#DejaVuSans-33\"/>\n      </g>\n     </g>\n    </g>\n    <g id=\"xtick_7\">\n     <g id=\"line2d_7\">\n      <g>\n       <use style=\"stroke:#000000;stroke-width:0.8;\" x=\"319.882549\" xlink:href=\"#mc07273993b\" y=\"224.64\"/>\n      </g>\n     </g>\n     <g id=\"text_7\">\n      <!-- 4 -->\n      <g transform=\"translate(316.701299 239.238437)scale(0.1 -0.1)\">\n       <defs>\n        <path d=\"M 2419 4116 \nL 825 1625 \nL 2419 1625 \nL 2419 4116 \nz\nM 2253 4666 \nL 3047 4666 \nL 3047 1625 \nL 3713 1625 \nL 3713 1100 \nL 3047 1100 \nL 3047 0 \nL 2419 0 \nL 2419 1100 \nL 313 1100 \nL 313 1709 \nL 2253 4666 \nz\n\" id=\"DejaVuSans-34\" transform=\"scale(0.015625)\"/>\n       </defs>\n       <use xlink:href=\"#DejaVuSans-34\"/>\n      </g>\n     </g>\n    </g>\n    <g id=\"xtick_8\">\n     <g id=\"line2d_8\">\n      <g>\n       <use style=\"stroke:#000000;stroke-width:0.8;\" x=\"363.363068\" xlink:href=\"#mc07273993b\" y=\"224.64\"/>\n      </g>\n     </g>\n     <g id=\"text_8\">\n      <!-- 5 -->\n      <g transform=\"translate(360.181818 239.238437)scale(0.1 -0.1)\">\n       <defs>\n        <path d=\"M 691 4666 \nL 3169 4666 \nL 3169 4134 \nL 1269 4134 \nL 1269 2991 \nQ 1406 3038 1543 3061 \nQ 1681 3084 1819 3084 \nQ 2600 3084 3056 2656 \nQ 3513 2228 3513 1497 \nQ 3513 744 3044 326 \nQ 2575 -91 1722 -91 \nQ 1428 -91 1123 -41 \nQ 819 9 494 109 \nL 494 744 \nQ 775 591 1075 516 \nQ 1375 441 1709 441 \nQ 2250 441 2565 725 \nQ 2881 1009 2881 1497 \nQ 2881 1984 2565 2268 \nQ 2250 2553 1709 2553 \nQ 1456 2553 1204 2497 \nQ 953 2441 691 2322 \nL 691 4666 \nz\n\" id=\"DejaVuSans-35\" transform=\"scale(0.015625)\"/>\n       </defs>\n       <use xlink:href=\"#DejaVuSans-35\"/>\n      </g>\n     </g>\n    </g>\n    <g id=\"text_9\">\n     <!-- Return -->\n     <g transform=\"translate(194.589844 252.916562)scale(0.1 -0.1)\">\n      <defs>\n       <path d=\"M 2841 2188 \nQ 3044 2119 3236 1894 \nQ 3428 1669 3622 1275 \nL 4263 0 \nL 3584 0 \nL 2988 1197 \nQ 2756 1666 2539 1819 \nQ 2322 1972 1947 1972 \nL 1259 1972 \nL 1259 0 \nL 628 0 \nL 628 4666 \nL 2053 4666 \nQ 2853 4666 3247 4331 \nQ 3641 3997 3641 3322 \nQ 3641 2881 3436 2590 \nQ 3231 2300 2841 2188 \nz\nM 1259 4147 \nL 1259 2491 \nL 2053 2491 \nQ 2509 2491 2742 2702 \nQ 2975 2913 2975 3322 \nQ 2975 3731 2742 3939 \nQ 2509 4147 2053 4147 \nL 1259 4147 \nz\n\" id=\"DejaVuSans-52\" transform=\"scale(0.015625)\"/>\n       <path d=\"M 3597 1894 \nL 3597 1613 \nL 953 1613 \nQ 991 1019 1311 708 \nQ 1631 397 2203 397 \nQ 2534 397 2845 478 \nQ 3156 559 3463 722 \nL 3463 178 \nQ 3153 47 2828 -22 \nQ 2503 -91 2169 -91 \nQ 1331 -91 842 396 \nQ 353 884 353 1716 \nQ 353 2575 817 3079 \nQ 1281 3584 2069 3584 \nQ 2775 3584 3186 3129 \nQ 3597 2675 3597 1894 \nz\nM 3022 2063 \nQ 3016 2534 2758 2815 \nQ 2500 3097 2075 3097 \nQ 1594 3097 1305 2825 \nQ 1016 2553 972 2059 \nL 3022 2063 \nz\n\" id=\"DejaVuSans-65\" transform=\"scale(0.015625)\"/>\n       <path d=\"M 1172 4494 \nL 1172 3500 \nL 2356 3500 \nL 2356 3053 \nL 1172 3053 \nL 1172 1153 \nQ 1172 725 1289 603 \nQ 1406 481 1766 481 \nL 2356 481 \nL 2356 0 \nL 1766 0 \nQ 1100 0 847 248 \nQ 594 497 594 1153 \nL 594 3053 \nL 172 3053 \nL 172 3500 \nL 594 3500 \nL 594 4494 \nL 1172 4494 \nz\n\" id=\"DejaVuSans-74\" transform=\"scale(0.015625)\"/>\n       <path d=\"M 544 1381 \nL 544 3500 \nL 1119 3500 \nL 1119 1403 \nQ 1119 906 1312 657 \nQ 1506 409 1894 409 \nQ 2359 409 2629 706 \nQ 2900 1003 2900 1516 \nL 2900 3500 \nL 3475 3500 \nL 3475 0 \nL 2900 0 \nL 2900 538 \nQ 2691 219 2414 64 \nQ 2138 -91 1772 -91 \nQ 1169 -91 856 284 \nQ 544 659 544 1381 \nz\nM 1991 3584 \nL 1991 3584 \nz\n\" id=\"DejaVuSans-75\" transform=\"scale(0.015625)\"/>\n       <path d=\"M 2631 2963 \nQ 2534 3019 2420 3045 \nQ 2306 3072 2169 3072 \nQ 1681 3072 1420 2755 \nQ 1159 2438 1159 1844 \nL 1159 0 \nL 581 0 \nL 581 3500 \nL 1159 3500 \nL 1159 2956 \nQ 1341 3275 1631 3429 \nQ 1922 3584 2338 3584 \nQ 2397 3584 2469 3576 \nQ 2541 3569 2628 3553 \nL 2631 2963 \nz\n\" id=\"DejaVuSans-72\" transform=\"scale(0.015625)\"/>\n       <path d=\"M 3513 2113 \nL 3513 0 \nL 2938 0 \nL 2938 2094 \nQ 2938 2591 2744 2837 \nQ 2550 3084 2163 3084 \nQ 1697 3084 1428 2787 \nQ 1159 2491 1159 1978 \nL 1159 0 \nL 581 0 \nL 581 3500 \nL 1159 3500 \nL 1159 2956 \nQ 1366 3272 1645 3428 \nQ 1925 3584 2291 3584 \nQ 2894 3584 3203 3211 \nQ 3513 2838 3513 2113 \nz\n\" id=\"DejaVuSans-6e\" transform=\"scale(0.015625)\"/>\n      </defs>\n      <use xlink:href=\"#DejaVuSans-52\"/>\n      <use x=\"64.982422\" xlink:href=\"#DejaVuSans-65\"/>\n      <use x=\"126.505859\" xlink:href=\"#DejaVuSans-74\"/>\n      <use x=\"165.714844\" xlink:href=\"#DejaVuSans-75\"/>\n      <use x=\"229.09375\" xlink:href=\"#DejaVuSans-72\"/>\n      <use x=\"268.457031\" xlink:href=\"#DejaVuSans-6e\"/>\n     </g>\n    </g>\n   </g>\n   <g id=\"matplotlib.axis_2\">\n    <g id=\"ytick_1\">\n     <g id=\"line2d_9\">\n      <defs>\n       <path d=\"M 0 0 \nL -3.5 0 \n\" id=\"mc2f7f4f467\" style=\"stroke:#000000;stroke-width:0.8;\"/>\n      </defs>\n      <g>\n       <use style=\"stroke:#000000;stroke-width:0.8;\" x=\"43.78125\" xlink:href=\"#mc2f7f4f467\" y=\"214.756364\"/>\n      </g>\n     </g>\n     <g id=\"text_10\">\n      <!-- 0.0 -->\n      <g transform=\"translate(20.878125 218.555582)scale(0.1 -0.1)\">\n       <defs>\n        <path d=\"M 684 794 \nL 1344 794 \nL 1344 0 \nL 684 0 \nL 684 794 \nz\n\" id=\"DejaVuSans-2e\" transform=\"scale(0.015625)\"/>\n       </defs>\n       <use xlink:href=\"#DejaVuSans-30\"/>\n       <use x=\"63.623047\" xlink:href=\"#DejaVuSans-2e\"/>\n       <use x=\"95.410156\" xlink:href=\"#DejaVuSans-30\"/>\n      </g>\n     </g>\n    </g>\n    <g id=\"ytick_2\">\n     <g id=\"line2d_10\">\n      <g>\n       <use style=\"stroke:#000000;stroke-width:0.8;\" x=\"43.78125\" xlink:href=\"#mc2f7f4f467\" y=\"182.84734\"/>\n      </g>\n     </g>\n     <g id=\"text_11\">\n      <!-- 0.2 -->\n      <g transform=\"translate(20.878125 186.646559)scale(0.1 -0.1)\">\n       <use xlink:href=\"#DejaVuSans-30\"/>\n       <use x=\"63.623047\" xlink:href=\"#DejaVuSans-2e\"/>\n       <use x=\"95.410156\" xlink:href=\"#DejaVuSans-32\"/>\n      </g>\n     </g>\n    </g>\n    <g id=\"ytick_3\">\n     <g id=\"line2d_11\">\n      <g>\n       <use style=\"stroke:#000000;stroke-width:0.8;\" x=\"43.78125\" xlink:href=\"#mc2f7f4f467\" y=\"150.938316\"/>\n      </g>\n     </g>\n     <g id=\"text_12\">\n      <!-- 0.4 -->\n      <g transform=\"translate(20.878125 154.737535)scale(0.1 -0.1)\">\n       <use xlink:href=\"#DejaVuSans-30\"/>\n       <use x=\"63.623047\" xlink:href=\"#DejaVuSans-2e\"/>\n       <use x=\"95.410156\" xlink:href=\"#DejaVuSans-34\"/>\n      </g>\n     </g>\n    </g>\n    <g id=\"ytick_4\">\n     <g id=\"line2d_12\">\n      <g>\n       <use style=\"stroke:#000000;stroke-width:0.8;\" x=\"43.78125\" xlink:href=\"#mc2f7f4f467\" y=\"119.029292\"/>\n      </g>\n     </g>\n     <g id=\"text_13\">\n      <!-- 0.6 -->\n      <g transform=\"translate(20.878125 122.828511)scale(0.1 -0.1)\">\n       <defs>\n        <path d=\"M 2113 2584 \nQ 1688 2584 1439 2293 \nQ 1191 2003 1191 1497 \nQ 1191 994 1439 701 \nQ 1688 409 2113 409 \nQ 2538 409 2786 701 \nQ 3034 994 3034 1497 \nQ 3034 2003 2786 2293 \nQ 2538 2584 2113 2584 \nz\nM 3366 4563 \nL 3366 3988 \nQ 3128 4100 2886 4159 \nQ 2644 4219 2406 4219 \nQ 1781 4219 1451 3797 \nQ 1122 3375 1075 2522 \nQ 1259 2794 1537 2939 \nQ 1816 3084 2150 3084 \nQ 2853 3084 3261 2657 \nQ 3669 2231 3669 1497 \nQ 3669 778 3244 343 \nQ 2819 -91 2113 -91 \nQ 1303 -91 875 529 \nQ 447 1150 447 2328 \nQ 447 3434 972 4092 \nQ 1497 4750 2381 4750 \nQ 2619 4750 2861 4703 \nQ 3103 4656 3366 4563 \nz\n\" id=\"DejaVuSans-36\" transform=\"scale(0.015625)\"/>\n       </defs>\n       <use xlink:href=\"#DejaVuSans-30\"/>\n       <use x=\"63.623047\" xlink:href=\"#DejaVuSans-2e\"/>\n       <use x=\"95.410156\" xlink:href=\"#DejaVuSans-36\"/>\n      </g>\n     </g>\n    </g>\n    <g id=\"ytick_5\">\n     <g id=\"line2d_13\">\n      <g>\n       <use style=\"stroke:#000000;stroke-width:0.8;\" x=\"43.78125\" xlink:href=\"#mc2f7f4f467\" y=\"87.120268\"/>\n      </g>\n     </g>\n     <g id=\"text_14\">\n      <!-- 0.8 -->\n      <g transform=\"translate(20.878125 90.919487)scale(0.1 -0.1)\">\n       <defs>\n        <path d=\"M 2034 2216 \nQ 1584 2216 1326 1975 \nQ 1069 1734 1069 1313 \nQ 1069 891 1326 650 \nQ 1584 409 2034 409 \nQ 2484 409 2743 651 \nQ 3003 894 3003 1313 \nQ 3003 1734 2745 1975 \nQ 2488 2216 2034 2216 \nz\nM 1403 2484 \nQ 997 2584 770 2862 \nQ 544 3141 544 3541 \nQ 544 4100 942 4425 \nQ 1341 4750 2034 4750 \nQ 2731 4750 3128 4425 \nQ 3525 4100 3525 3541 \nQ 3525 3141 3298 2862 \nQ 3072 2584 2669 2484 \nQ 3125 2378 3379 2068 \nQ 3634 1759 3634 1313 \nQ 3634 634 3220 271 \nQ 2806 -91 2034 -91 \nQ 1263 -91 848 271 \nQ 434 634 434 1313 \nQ 434 1759 690 2068 \nQ 947 2378 1403 2484 \nz\nM 1172 3481 \nQ 1172 3119 1398 2916 \nQ 1625 2713 2034 2713 \nQ 2441 2713 2670 2916 \nQ 2900 3119 2900 3481 \nQ 2900 3844 2670 4047 \nQ 2441 4250 2034 4250 \nQ 1625 4250 1398 4047 \nQ 1172 3844 1172 3481 \nz\n\" id=\"DejaVuSans-38\" transform=\"scale(0.015625)\"/>\n       </defs>\n       <use xlink:href=\"#DejaVuSans-30\"/>\n       <use x=\"63.623047\" xlink:href=\"#DejaVuSans-2e\"/>\n       <use x=\"95.410156\" xlink:href=\"#DejaVuSans-38\"/>\n      </g>\n     </g>\n    </g>\n    <g id=\"ytick_6\">\n     <g id=\"line2d_14\">\n      <g>\n       <use style=\"stroke:#000000;stroke-width:0.8;\" x=\"43.78125\" xlink:href=\"#mc2f7f4f467\" y=\"55.211244\"/>\n      </g>\n     </g>\n     <g id=\"text_15\">\n      <!-- 1.0 -->\n      <g transform=\"translate(20.878125 59.010463)scale(0.1 -0.1)\">\n       <use xlink:href=\"#DejaVuSans-31\"/>\n       <use x=\"63.623047\" xlink:href=\"#DejaVuSans-2e\"/>\n       <use x=\"95.410156\" xlink:href=\"#DejaVuSans-30\"/>\n      </g>\n     </g>\n    </g>\n    <g id=\"ytick_7\">\n     <g id=\"line2d_15\">\n      <g>\n       <use style=\"stroke:#000000;stroke-width:0.8;\" x=\"43.78125\" xlink:href=\"#mc2f7f4f467\" y=\"23.302221\"/>\n      </g>\n     </g>\n     <g id=\"text_16\">\n      <!-- 1.2 -->\n      <g transform=\"translate(20.878125 27.101439)scale(0.1 -0.1)\">\n       <use xlink:href=\"#DejaVuSans-31\"/>\n       <use x=\"63.623047\" xlink:href=\"#DejaVuSans-2e\"/>\n       <use x=\"95.410156\" xlink:href=\"#DejaVuSans-32\"/>\n      </g>\n     </g>\n    </g>\n    <g id=\"text_17\">\n     <!-- Density -->\n     <g transform=\"translate(14.798438 134.928594)rotate(-90)scale(0.1 -0.1)\">\n      <defs>\n       <path d=\"M 1259 4147 \nL 1259 519 \nL 2022 519 \nQ 2988 519 3436 956 \nQ 3884 1394 3884 2338 \nQ 3884 3275 3436 3711 \nQ 2988 4147 2022 4147 \nL 1259 4147 \nz\nM 628 4666 \nL 1925 4666 \nQ 3281 4666 3915 4102 \nQ 4550 3538 4550 2338 \nQ 4550 1131 3912 565 \nQ 3275 0 1925 0 \nL 628 0 \nL 628 4666 \nz\n\" id=\"DejaVuSans-44\" transform=\"scale(0.015625)\"/>\n       <path d=\"M 2834 3397 \nL 2834 2853 \nQ 2591 2978 2328 3040 \nQ 2066 3103 1784 3103 \nQ 1356 3103 1142 2972 \nQ 928 2841 928 2578 \nQ 928 2378 1081 2264 \nQ 1234 2150 1697 2047 \nL 1894 2003 \nQ 2506 1872 2764 1633 \nQ 3022 1394 3022 966 \nQ 3022 478 2636 193 \nQ 2250 -91 1575 -91 \nQ 1294 -91 989 -36 \nQ 684 19 347 128 \nL 347 722 \nQ 666 556 975 473 \nQ 1284 391 1588 391 \nQ 1994 391 2212 530 \nQ 2431 669 2431 922 \nQ 2431 1156 2273 1281 \nQ 2116 1406 1581 1522 \nL 1381 1569 \nQ 847 1681 609 1914 \nQ 372 2147 372 2553 \nQ 372 3047 722 3315 \nQ 1072 3584 1716 3584 \nQ 2034 3584 2315 3537 \nQ 2597 3491 2834 3397 \nz\n\" id=\"DejaVuSans-73\" transform=\"scale(0.015625)\"/>\n       <path d=\"M 603 3500 \nL 1178 3500 \nL 1178 0 \nL 603 0 \nL 603 3500 \nz\nM 603 4863 \nL 1178 4863 \nL 1178 4134 \nL 603 4134 \nL 603 4863 \nz\n\" id=\"DejaVuSans-69\" transform=\"scale(0.015625)\"/>\n       <path d=\"M 2059 -325 \nQ 1816 -950 1584 -1140 \nQ 1353 -1331 966 -1331 \nL 506 -1331 \nL 506 -850 \nL 844 -850 \nQ 1081 -850 1212 -737 \nQ 1344 -625 1503 -206 \nL 1606 56 \nL 191 3500 \nL 800 3500 \nL 1894 763 \nL 2988 3500 \nL 3597 3500 \nL 2059 -325 \nz\n\" id=\"DejaVuSans-79\" transform=\"scale(0.015625)\"/>\n      </defs>\n      <use xlink:href=\"#DejaVuSans-44\"/>\n      <use x=\"77.001953\" xlink:href=\"#DejaVuSans-65\"/>\n      <use x=\"138.525391\" xlink:href=\"#DejaVuSans-6e\"/>\n      <use x=\"201.904297\" xlink:href=\"#DejaVuSans-73\"/>\n      <use x=\"254.003906\" xlink:href=\"#DejaVuSans-69\"/>\n      <use x=\"281.787109\" xlink:href=\"#DejaVuSans-74\"/>\n      <use x=\"320.996094\" xlink:href=\"#DejaVuSans-79\"/>\n     </g>\n    </g>\n   </g>\n   <g id=\"line2d_16\">\n    <path clip-path=\"url(#pcd4f94caaf)\" d=\"M 58.999432 214.702103 \nL 77.27953 214.506252 \nL 88.247589 214.183949 \nL 96.778302 213.715577 \nL 103.785673 213.106148 \nL 109.57437 212.390495 \nL 114.753732 211.541706 \nL 119.628424 210.524344 \nL 124.198449 209.345056 \nL 128.463805 208.020337 \nL 132.729162 206.455452 \nL 136.68985 204.769109 \nL 140.650537 202.844212 \nL 144.611225 200.671325 \nL 148.571913 198.246267 \nL 152.532601 195.571227 \nL 156.797958 192.421999 \nL 161.367982 188.764512 \nL 166.547343 184.31915 \nL 172.945378 178.516165 \nL 186.96012 165.692243 \nL 191.530144 161.857581 \nL 195.490832 158.818865 \nL 198.842184 156.508635 \nL 201.888867 154.651318 \nL 204.93555 153.053063 \nL 207.677564 151.855641 \nL 210.419579 150.901652 \nL 213.161594 150.202782 \nL 215.59894 149.802794 \nL 218.036287 149.615181 \nL 220.473633 149.641792 \nL 222.91098 149.882363 \nL 225.348326 150.334527 \nL 227.785673 150.993845 \nL 230.527687 151.975109 \nL 233.269702 153.19835 \nL 236.316385 154.823233 \nL 239.363068 156.704676 \nL 242.71442 159.038211 \nL 246.370439 161.853989 \nL 250.635795 165.423846 \nL 256.119825 170.325271 \nL 275.00926 187.483245 \nL 279.883953 191.470393 \nL 284.453977 194.91604 \nL 288.719334 197.847924 \nL 292.680021 200.31204 \nL 296.640709 202.523881 \nL 300.601397 204.486712 \nL 304.562085 206.209228 \nL 308.827442 207.810459 \nL 313.092798 209.168349 \nL 317.662822 210.379347 \nL 322.537515 211.426047 \nL 327.716877 212.301051 \nL 333.505574 213.040384 \nL 339.903609 213.626166 \nL 347.520316 214.088936 \nL 356.965034 214.424195 \nL 363.363068 214.555052 \nL 363.363068 214.555052 \n\" style=\"fill:none;stroke:#1f77b4;stroke-linecap:square;stroke-width:1.5;\"/>\n   </g>\n   <g id=\"line2d_17\">\n    <path clip-path=\"url(#pcd4f94caaf)\" d=\"M 58.999432 214.756364 \nL 148.571913 214.648148 \nL 152.83727 214.419907 \nL 155.883953 214.04165 \nL 158.016631 213.578927 \nL 159.844641 212.983195 \nL 161.67265 212.131186 \nL 163.195992 211.162926 \nL 164.719334 209.895428 \nL 165.938007 208.618945 \nL 167.15668 207.06575 \nL 168.375353 205.192231 \nL 169.594026 202.95208 \nL 170.8127 200.297205 \nL 172.031373 197.178916 \nL 173.250046 193.549425 \nL 174.773388 188.225386 \nL 176.296729 181.955376 \nL 177.820071 174.680858 \nL 179.343412 166.369274 \nL 181.171422 155.030397 \nL 182.999432 142.280569 \nL 185.13211 125.862856 \nL 188.178793 100.450069 \nL 192.748818 62.24284 \nL 194.576827 48.626839 \nL 196.100169 38.664295 \nL 197.318842 31.831716 \nL 198.537515 26.16837 \nL 199.45152 22.763127 \nL 200.365525 20.12768 \nL 201.27953 18.295165 \nL 201.888867 17.531454 \nL 202.498203 17.139461 \nL 203.10754 17.12141 \nL 203.716877 17.477404 \nL 204.326213 18.205423 \nL 204.93555 19.301344 \nL 205.849555 21.620954 \nL 206.76356 24.724683 \nL 207.677564 28.573743 \nL 208.896238 34.781983 \nL 210.114911 42.096412 \nL 211.638252 52.560288 \nL 213.770931 69.079465 \nL 217.122282 97.34142 \nL 220.778302 127.828449 \nL 223.215648 146.260646 \nL 225.043658 158.599393 \nL 226.871668 169.493709 \nL 228.395009 177.428664 \nL 229.918351 184.334848 \nL 231.441692 190.255078 \nL 232.965034 195.255435 \nL 234.488375 199.417961 \nL 236.011717 202.833972 \nL 237.535058 205.598271 \nL 238.753732 207.403502 \nL 240.277073 209.227407 \nL 241.800415 210.647815 \nL 243.323756 211.739248 \nL 244.847098 212.566818 \nL 246.675107 213.28919 \nL 248.807786 213.856301 \nL 251.245132 214.255859 \nL 254.291815 214.526051 \nL 258.86184 214.69058 \nL 268.306557 214.752841 \nL 363.363068 214.756364 \nL 363.363068 214.756364 \n\" style=\"fill:none;stroke:#ff7f0e;stroke-linecap:square;stroke-width:1.5;\"/>\n   </g>\n   <g id=\"patch_3\">\n    <path d=\"M 43.78125 224.64 \nL 43.78125 7.2 \n\" style=\"fill:none;stroke:#000000;stroke-linecap:square;stroke-linejoin:miter;stroke-width:0.8;\"/>\n   </g>\n   <g id=\"patch_4\">\n    <path d=\"M 378.58125 224.64 \nL 378.58125 7.2 \n\" style=\"fill:none;stroke:#000000;stroke-linecap:square;stroke-linejoin:miter;stroke-width:0.8;\"/>\n   </g>\n   <g id=\"patch_5\">\n    <path d=\"M 43.78125 224.64 \nL 378.58125 224.64 \n\" style=\"fill:none;stroke:#000000;stroke-linecap:square;stroke-linejoin:miter;stroke-width:0.8;\"/>\n   </g>\n   <g id=\"patch_6\">\n    <path d=\"M 43.78125 7.2 \nL 378.58125 7.2 \n\" style=\"fill:none;stroke:#000000;stroke-linecap:square;stroke-linejoin:miter;stroke-width:0.8;\"/>\n   </g>\n   <g id=\"legend_1\">\n    <g id=\"patch_7\">\n     <path d=\"M 299.08125 44.596875 \nL 371.58125 44.596875 \nQ 373.58125 44.596875 373.58125 42.596875 \nL 373.58125 14.2 \nQ 373.58125 12.2 371.58125 12.2 \nL 299.08125 12.2 \nQ 297.08125 12.2 297.08125 14.2 \nL 297.08125 42.596875 \nQ 297.08125 44.596875 299.08125 44.596875 \nz\n\" style=\"fill:#ffffff;opacity:0.8;stroke:#cccccc;stroke-linejoin:miter;\"/>\n    </g>\n    <g id=\"line2d_18\">\n     <path d=\"M 301.08125 20.298437 \nL 321.08125 20.298437 \n\" style=\"fill:none;stroke:#1f77b4;stroke-linecap:square;stroke-width:1.5;\"/>\n    </g>\n    <g id=\"line2d_19\"/>\n    <g id=\"text_18\">\n     <!-- $\\gamma = 0.29$ -->\n     <g transform=\"translate(329.08125 23.798437)scale(0.1 -0.1)\">\n      <defs>\n       <path d=\"M 1491 2950 \nL 1838 788 \nL 3456 3500 \nL 4066 3500 \nL 1972 0 \nL 1713 -1331 \nL 1138 -1331 \nL 1397 0 \nL 988 2613 \nQ 925 3006 628 3006 \nL 475 3006 \nL 569 3500 \nL 788 3500 \nQ 1403 3500 1491 2950 \nz\n\" id=\"DejaVuSans-Oblique-3b3\" transform=\"scale(0.015625)\"/>\n       <path d=\"M 678 2906 \nL 4684 2906 \nL 4684 2381 \nL 678 2381 \nL 678 2906 \nz\nM 678 1631 \nL 4684 1631 \nL 4684 1100 \nL 678 1100 \nL 678 1631 \nz\n\" id=\"DejaVuSans-3d\" transform=\"scale(0.015625)\"/>\n       <path d=\"M 703 97 \nL 703 672 \nQ 941 559 1184 500 \nQ 1428 441 1663 441 \nQ 2288 441 2617 861 \nQ 2947 1281 2994 2138 \nQ 2813 1869 2534 1725 \nQ 2256 1581 1919 1581 \nQ 1219 1581 811 2004 \nQ 403 2428 403 3163 \nQ 403 3881 828 4315 \nQ 1253 4750 1959 4750 \nQ 2769 4750 3195 4129 \nQ 3622 3509 3622 2328 \nQ 3622 1225 3098 567 \nQ 2575 -91 1691 -91 \nQ 1453 -91 1209 -44 \nQ 966 3 703 97 \nz\nM 1959 2075 \nQ 2384 2075 2632 2365 \nQ 2881 2656 2881 3163 \nQ 2881 3666 2632 3958 \nQ 2384 4250 1959 4250 \nQ 1534 4250 1286 3958 \nQ 1038 3666 1038 3163 \nQ 1038 2656 1286 2365 \nQ 1534 2075 1959 2075 \nz\n\" id=\"DejaVuSans-39\" transform=\"scale(0.015625)\"/>\n      </defs>\n      <use transform=\"translate(0 0.78125)\" xlink:href=\"#DejaVuSans-Oblique-3b3\"/>\n      <use transform=\"translate(78.662109 0.78125)\" xlink:href=\"#DejaVuSans-3d\"/>\n      <use transform=\"translate(181.933594 0.78125)\" xlink:href=\"#DejaVuSans-30\"/>\n      <use transform=\"translate(245.556641 0.78125)\" xlink:href=\"#DejaVuSans-2e\"/>\n      <use transform=\"translate(271.84375 0.78125)\" xlink:href=\"#DejaVuSans-32\"/>\n      <use transform=\"translate(333.716797 0.78125)\" xlink:href=\"#DejaVuSans-39\"/>\n     </g>\n    </g>\n    <g id=\"line2d_20\">\n     <path d=\"M 301.08125 34.996875 \nL 321.08125 34.996875 \n\" style=\"fill:none;stroke:#ff7f0e;stroke-linecap:square;stroke-width:1.5;\"/>\n    </g>\n    <g id=\"line2d_21\"/>\n    <g id=\"text_19\">\n     <!-- $\\gamma = 1.05$ -->\n     <g transform=\"translate(329.08125 38.496875)scale(0.1 -0.1)\">\n      <use transform=\"translate(0 0.78125)\" xlink:href=\"#DejaVuSans-Oblique-3b3\"/>\n      <use transform=\"translate(78.662109 0.78125)\" xlink:href=\"#DejaVuSans-3d\"/>\n      <use transform=\"translate(181.933594 0.78125)\" xlink:href=\"#DejaVuSans-31\"/>\n      <use transform=\"translate(245.556641 0.78125)\" xlink:href=\"#DejaVuSans-2e\"/>\n      <use transform=\"translate(277.34375 0.78125)\" xlink:href=\"#DejaVuSans-30\"/>\n      <use transform=\"translate(340.966797 0.78125)\" xlink:href=\"#DejaVuSans-35\"/>\n     </g>\n    </g>\n   </g>\n  </g>\n </g>\n <defs>\n  <clipPath id=\"pcd4f94caaf\">\n   <rect height=\"217.44\" width=\"334.8\" x=\"43.78125\" y=\"7.2\"/>\n  </clipPath>\n </defs>\n</svg>\n",
            "text/plain": [
              "<Figure size 432x288 with 1 Axes>"
            ]
          },
          "metadata": {
            "needs_background": "light"
          },
          "output_type": "display_data"
        }
      ],
      "source": [
        "# Plot return distributions for two points on the trade-off curve.\n",
        "import scipy.stats as spstats\n",
        "\n",
        "\n",
        "plt.figure()\n",
        "for midx, idx in enumerate(markers_on):\n",
        "    gamma.value = gamma_vals[idx]\n",
        "    prob.solve()\n",
        "    x = np.linspace(-2, 5, 1000)\n",
        "    plt.plot(x, spstats.norm.pdf(x, ret.value, risk.value), label=r\"$\\gamma = %.2f$\" % gamma.value)\n",
        "\n",
        "plt.xlabel('Return')\n",
        "plt.ylabel('Density')\n",
        "plt.legend(loc='upper right')\n",
        "plt.show()"
      ]
    },
    {
      "cell_type": "markdown",
      "metadata": {
        "id": "Udg49U-2j0tY"
      },
      "source": [
        "### Portfolio constraints\n",
        "\n",
        "There are many other possible portfolio constraints besides the long only constraint. With no constraint (${\\cal W} = {\\bf R}^n$), the optimization problem has a simple analytical solution. We will look in detail at a *leverage limit*, or the constraint that $\\|w \\|_1 \\leq L^\\mathrm{max}$.\n",
        "\n",
        "\n",
        "Another interesting constraint is the *market neutral* constraint $m^T \\Sigma w =0$, where $m_i$ is the capitalization of asset $i$.\n",
        "$M = m^Tr$ is the *market return*, and $m^T \\Sigma w = {\\bf cov}(M,R)$.\n",
        "The market neutral constraint ensures that the portfolio return is uncorrelated with the market return."
      ]
    },
    {
      "cell_type": "markdown",
      "metadata": {
        "id": "Fkpsuvy5j0tZ"
      },
      "source": [
        "### Example\n",
        "\n",
        "In the following code we compute and plot optimal risk-return trade-off curves for leverage limits of 1, 2, and 4.\n",
        "Notice that more leverage increases returns and allows greater risk."
      ]
    },
    {
      "cell_type": "code",
      "execution_count": 6,
      "metadata": {
        "id": "njYaLFfej0tZ"
      },
      "outputs": [],
      "source": [
        "# Portfolio optimization with leverage limit.\n",
        "Lmax = cp.Parameter()\n",
        "prob = cp.Problem(cp.Maximize(ret - gamma*risk), \n",
        "               [cp.sum(w) == 1, \n",
        "                cp.norm(w, 1) <= Lmax])"
      ]
    },
    {
      "cell_type": "code",
      "execution_count": 7,
      "metadata": {
        "id": "swLDsj2Dj0tZ"
      },
      "outputs": [],
      "source": [
        "# Compute trade-off curve for each leverage limit.\n",
        "L_vals = [1, 2, 4]\n",
        "SAMPLES = 100\n",
        "risk_data = np.zeros((len(L_vals), SAMPLES))\n",
        "ret_data = np.zeros((len(L_vals), SAMPLES))\n",
        "gamma_vals = np.logspace(-2, 3, num=SAMPLES)\n",
        "w_vals = []\n",
        "for k, L_val in enumerate(L_vals):\n",
        "    for i in range(SAMPLES):\n",
        "        Lmax.value = L_val\n",
        "        gamma.value = gamma_vals[i]\n",
        "        prob.solve(solver=cp.CVXOPT)\n",
        "        risk_data[k, i] = cp.sqrt(risk).value\n",
        "        ret_data[k, i] = ret.value"
      ]
    },
    {
      "cell_type": "code",
      "execution_count": 8,
      "metadata": {
        "colab": {
          "base_uri": "https://localhost:8080/",
          "height": 370
        },
        "id": "7lzGBoUlj0tZ",
        "outputId": "8dd33f6a-5ba3-485f-fda1-49a4bdf2ca14"
      },
      "outputs": [
        {
          "data": {
            "image/svg+xml": "<?xml version=\"1.0\" encoding=\"utf-8\" standalone=\"no\"?>\n<!DOCTYPE svg PUBLIC \"-//W3C//DTD SVG 1.1//EN\"\n  \"http://www.w3.org/Graphics/SVG/1.1/DTD/svg11.dtd\">\n<svg height=\"262.19625pt\" version=\"1.1\" viewBox=\"0 0 376.240625 262.19625\" width=\"376.240625pt\" xmlns=\"http://www.w3.org/2000/svg\" xmlns:xlink=\"http://www.w3.org/1999/xlink\">\n <metadata>\n  <rdf:RDF xmlns:cc=\"http://creativecommons.org/ns#\" xmlns:dc=\"http://purl.org/dc/elements/1.1/\" xmlns:rdf=\"http://www.w3.org/1999/02/22-rdf-syntax-ns#\">\n   <cc:Work>\n    <dc:type rdf:resource=\"http://purl.org/dc/dcmitype/StillImage\"/>\n    <dc:date>2022-03-24T13:37:27.483998</dc:date>\n    <dc:format>image/svg+xml</dc:format>\n    <dc:creator>\n     <cc:Agent>\n      <dc:title>Matplotlib v3.4.3, https://matplotlib.org/</dc:title>\n     </cc:Agent>\n    </dc:creator>\n   </cc:Work>\n  </rdf:RDF>\n </metadata>\n <defs>\n  <style type=\"text/css\">*{stroke-linecap:butt;stroke-linejoin:round;}</style>\n </defs>\n <g id=\"figure_1\">\n  <g id=\"patch_1\">\n   <path d=\"M 0 262.19625 \nL 376.240625 262.19625 \nL 376.240625 0 \nL 0 0 \nz\n\" style=\"fill:none;\"/>\n  </g>\n  <g id=\"axes_1\">\n   <g id=\"patch_2\">\n    <path d=\"M 34.240625 224.64 \nL 369.040625 224.64 \nL 369.040625 7.2 \nL 34.240625 7.2 \nz\n\" style=\"fill:#ffffff;\"/>\n   </g>\n   <g id=\"matplotlib.axis_1\">\n    <g id=\"xtick_1\">\n     <g id=\"line2d_1\">\n      <defs>\n       <path d=\"M 0 0 \nL 0 3.5 \n\" id=\"mfa1830b182\" style=\"stroke:#000000;stroke-width:0.8;\"/>\n      </defs>\n      <g>\n       <use style=\"stroke:#000000;stroke-width:0.8;\" x=\"34.607752\" xlink:href=\"#mfa1830b182\" y=\"224.64\"/>\n      </g>\n     </g>\n     <g id=\"text_1\">\n      <!-- 0 -->\n      <g transform=\"translate(31.426502 239.238438)scale(0.1 -0.1)\">\n       <defs>\n        <path d=\"M 2034 4250 \nQ 1547 4250 1301 3770 \nQ 1056 3291 1056 2328 \nQ 1056 1369 1301 889 \nQ 1547 409 2034 409 \nQ 2525 409 2770 889 \nQ 3016 1369 3016 2328 \nQ 3016 3291 2770 3770 \nQ 2525 4250 2034 4250 \nz\nM 2034 4750 \nQ 2819 4750 3233 4129 \nQ 3647 3509 3647 2328 \nQ 3647 1150 3233 529 \nQ 2819 -91 2034 -91 \nQ 1250 -91 836 529 \nQ 422 1150 422 2328 \nQ 422 3509 836 4129 \nQ 1250 4750 2034 4750 \nz\n\" id=\"DejaVuSans-30\" transform=\"scale(0.015625)\"/>\n       </defs>\n       <use xlink:href=\"#DejaVuSans-30\"/>\n      </g>\n     </g>\n    </g>\n    <g id=\"xtick_2\">\n     <g id=\"line2d_2\">\n      <g>\n       <use style=\"stroke:#000000;stroke-width:0.8;\" x=\"77.511486\" xlink:href=\"#mfa1830b182\" y=\"224.64\"/>\n      </g>\n     </g>\n     <g id=\"text_2\">\n      <!-- 1 -->\n      <g transform=\"translate(74.330236 239.238438)scale(0.1 -0.1)\">\n       <defs>\n        <path d=\"M 794 531 \nL 1825 531 \nL 1825 4091 \nL 703 3866 \nL 703 4441 \nL 1819 4666 \nL 2450 4666 \nL 2450 531 \nL 3481 531 \nL 3481 0 \nL 794 0 \nL 794 531 \nz\n\" id=\"DejaVuSans-31\" transform=\"scale(0.015625)\"/>\n       </defs>\n       <use xlink:href=\"#DejaVuSans-31\"/>\n      </g>\n     </g>\n    </g>\n    <g id=\"xtick_3\">\n     <g id=\"line2d_3\">\n      <g>\n       <use style=\"stroke:#000000;stroke-width:0.8;\" x=\"120.415221\" xlink:href=\"#mfa1830b182\" y=\"224.64\"/>\n      </g>\n     </g>\n     <g id=\"text_3\">\n      <!-- 2 -->\n      <g transform=\"translate(117.233971 239.238438)scale(0.1 -0.1)\">\n       <defs>\n        <path d=\"M 1228 531 \nL 3431 531 \nL 3431 0 \nL 469 0 \nL 469 531 \nQ 828 903 1448 1529 \nQ 2069 2156 2228 2338 \nQ 2531 2678 2651 2914 \nQ 2772 3150 2772 3378 \nQ 2772 3750 2511 3984 \nQ 2250 4219 1831 4219 \nQ 1534 4219 1204 4116 \nQ 875 4013 500 3803 \nL 500 4441 \nQ 881 4594 1212 4672 \nQ 1544 4750 1819 4750 \nQ 2544 4750 2975 4387 \nQ 3406 4025 3406 3419 \nQ 3406 3131 3298 2873 \nQ 3191 2616 2906 2266 \nQ 2828 2175 2409 1742 \nQ 1991 1309 1228 531 \nz\n\" id=\"DejaVuSans-32\" transform=\"scale(0.015625)\"/>\n       </defs>\n       <use xlink:href=\"#DejaVuSans-32\"/>\n      </g>\n     </g>\n    </g>\n    <g id=\"xtick_4\">\n     <g id=\"line2d_4\">\n      <g>\n       <use style=\"stroke:#000000;stroke-width:0.8;\" x=\"163.318955\" xlink:href=\"#mfa1830b182\" y=\"224.64\"/>\n      </g>\n     </g>\n     <g id=\"text_4\">\n      <!-- 3 -->\n      <g transform=\"translate(160.137705 239.238438)scale(0.1 -0.1)\">\n       <defs>\n        <path d=\"M 2597 2516 \nQ 3050 2419 3304 2112 \nQ 3559 1806 3559 1356 \nQ 3559 666 3084 287 \nQ 2609 -91 1734 -91 \nQ 1441 -91 1130 -33 \nQ 819 25 488 141 \nL 488 750 \nQ 750 597 1062 519 \nQ 1375 441 1716 441 \nQ 2309 441 2620 675 \nQ 2931 909 2931 1356 \nQ 2931 1769 2642 2001 \nQ 2353 2234 1838 2234 \nL 1294 2234 \nL 1294 2753 \nL 1863 2753 \nQ 2328 2753 2575 2939 \nQ 2822 3125 2822 3475 \nQ 2822 3834 2567 4026 \nQ 2313 4219 1838 4219 \nQ 1578 4219 1281 4162 \nQ 984 4106 628 3988 \nL 628 4550 \nQ 988 4650 1302 4700 \nQ 1616 4750 1894 4750 \nQ 2613 4750 3031 4423 \nQ 3450 4097 3450 3541 \nQ 3450 3153 3228 2886 \nQ 3006 2619 2597 2516 \nz\n\" id=\"DejaVuSans-33\" transform=\"scale(0.015625)\"/>\n       </defs>\n       <use xlink:href=\"#DejaVuSans-33\"/>\n      </g>\n     </g>\n    </g>\n    <g id=\"xtick_5\">\n     <g id=\"line2d_5\">\n      <g>\n       <use style=\"stroke:#000000;stroke-width:0.8;\" x=\"206.222689\" xlink:href=\"#mfa1830b182\" y=\"224.64\"/>\n      </g>\n     </g>\n     <g id=\"text_5\">\n      <!-- 4 -->\n      <g transform=\"translate(203.041439 239.238438)scale(0.1 -0.1)\">\n       <defs>\n        <path d=\"M 2419 4116 \nL 825 1625 \nL 2419 1625 \nL 2419 4116 \nz\nM 2253 4666 \nL 3047 4666 \nL 3047 1625 \nL 3713 1625 \nL 3713 1100 \nL 3047 1100 \nL 3047 0 \nL 2419 0 \nL 2419 1100 \nL 313 1100 \nL 313 1709 \nL 2253 4666 \nz\n\" id=\"DejaVuSans-34\" transform=\"scale(0.015625)\"/>\n       </defs>\n       <use xlink:href=\"#DejaVuSans-34\"/>\n      </g>\n     </g>\n    </g>\n    <g id=\"xtick_6\">\n     <g id=\"line2d_6\">\n      <g>\n       <use style=\"stroke:#000000;stroke-width:0.8;\" x=\"249.126424\" xlink:href=\"#mfa1830b182\" y=\"224.64\"/>\n      </g>\n     </g>\n     <g id=\"text_6\">\n      <!-- 5 -->\n      <g transform=\"translate(245.945174 239.238438)scale(0.1 -0.1)\">\n       <defs>\n        <path d=\"M 691 4666 \nL 3169 4666 \nL 3169 4134 \nL 1269 4134 \nL 1269 2991 \nQ 1406 3038 1543 3061 \nQ 1681 3084 1819 3084 \nQ 2600 3084 3056 2656 \nQ 3513 2228 3513 1497 \nQ 3513 744 3044 326 \nQ 2575 -91 1722 -91 \nQ 1428 -91 1123 -41 \nQ 819 9 494 109 \nL 494 744 \nQ 775 591 1075 516 \nQ 1375 441 1709 441 \nQ 2250 441 2565 725 \nQ 2881 1009 2881 1497 \nQ 2881 1984 2565 2268 \nQ 2250 2553 1709 2553 \nQ 1456 2553 1204 2497 \nQ 953 2441 691 2322 \nL 691 4666 \nz\n\" id=\"DejaVuSans-35\" transform=\"scale(0.015625)\"/>\n       </defs>\n       <use xlink:href=\"#DejaVuSans-35\"/>\n      </g>\n     </g>\n    </g>\n    <g id=\"xtick_7\">\n     <g id=\"line2d_7\">\n      <g>\n       <use style=\"stroke:#000000;stroke-width:0.8;\" x=\"292.030158\" xlink:href=\"#mfa1830b182\" y=\"224.64\"/>\n      </g>\n     </g>\n     <g id=\"text_7\">\n      <!-- 6 -->\n      <g transform=\"translate(288.848908 239.238438)scale(0.1 -0.1)\">\n       <defs>\n        <path d=\"M 2113 2584 \nQ 1688 2584 1439 2293 \nQ 1191 2003 1191 1497 \nQ 1191 994 1439 701 \nQ 1688 409 2113 409 \nQ 2538 409 2786 701 \nQ 3034 994 3034 1497 \nQ 3034 2003 2786 2293 \nQ 2538 2584 2113 2584 \nz\nM 3366 4563 \nL 3366 3988 \nQ 3128 4100 2886 4159 \nQ 2644 4219 2406 4219 \nQ 1781 4219 1451 3797 \nQ 1122 3375 1075 2522 \nQ 1259 2794 1537 2939 \nQ 1816 3084 2150 3084 \nQ 2853 3084 3261 2657 \nQ 3669 2231 3669 1497 \nQ 3669 778 3244 343 \nQ 2819 -91 2113 -91 \nQ 1303 -91 875 529 \nQ 447 1150 447 2328 \nQ 447 3434 972 4092 \nQ 1497 4750 2381 4750 \nQ 2619 4750 2861 4703 \nQ 3103 4656 3366 4563 \nz\n\" id=\"DejaVuSans-36\" transform=\"scale(0.015625)\"/>\n       </defs>\n       <use xlink:href=\"#DejaVuSans-36\"/>\n      </g>\n     </g>\n    </g>\n    <g id=\"xtick_8\">\n     <g id=\"line2d_8\">\n      <g>\n       <use style=\"stroke:#000000;stroke-width:0.8;\" x=\"334.933892\" xlink:href=\"#mfa1830b182\" y=\"224.64\"/>\n      </g>\n     </g>\n     <g id=\"text_8\">\n      <!-- 7 -->\n      <g transform=\"translate(331.752642 239.238438)scale(0.1 -0.1)\">\n       <defs>\n        <path d=\"M 525 4666 \nL 3525 4666 \nL 3525 4397 \nL 1831 0 \nL 1172 0 \nL 2766 4134 \nL 525 4134 \nL 525 4666 \nz\n\" id=\"DejaVuSans-37\" transform=\"scale(0.015625)\"/>\n       </defs>\n       <use xlink:href=\"#DejaVuSans-37\"/>\n      </g>\n     </g>\n    </g>\n    <g id=\"text_9\">\n     <!-- Standard deviation -->\n     <g transform=\"translate(154.063281 252.916563)scale(0.1 -0.1)\">\n      <defs>\n       <path d=\"M 3425 4513 \nL 3425 3897 \nQ 3066 4069 2747 4153 \nQ 2428 4238 2131 4238 \nQ 1616 4238 1336 4038 \nQ 1056 3838 1056 3469 \nQ 1056 3159 1242 3001 \nQ 1428 2844 1947 2747 \nL 2328 2669 \nQ 3034 2534 3370 2195 \nQ 3706 1856 3706 1288 \nQ 3706 609 3251 259 \nQ 2797 -91 1919 -91 \nQ 1588 -91 1214 -16 \nQ 841 59 441 206 \nL 441 856 \nQ 825 641 1194 531 \nQ 1563 422 1919 422 \nQ 2459 422 2753 634 \nQ 3047 847 3047 1241 \nQ 3047 1584 2836 1778 \nQ 2625 1972 2144 2069 \nL 1759 2144 \nQ 1053 2284 737 2584 \nQ 422 2884 422 3419 \nQ 422 4038 858 4394 \nQ 1294 4750 2059 4750 \nQ 2388 4750 2728 4690 \nQ 3069 4631 3425 4513 \nz\n\" id=\"DejaVuSans-53\" transform=\"scale(0.015625)\"/>\n       <path d=\"M 1172 4494 \nL 1172 3500 \nL 2356 3500 \nL 2356 3053 \nL 1172 3053 \nL 1172 1153 \nQ 1172 725 1289 603 \nQ 1406 481 1766 481 \nL 2356 481 \nL 2356 0 \nL 1766 0 \nQ 1100 0 847 248 \nQ 594 497 594 1153 \nL 594 3053 \nL 172 3053 \nL 172 3500 \nL 594 3500 \nL 594 4494 \nL 1172 4494 \nz\n\" id=\"DejaVuSans-74\" transform=\"scale(0.015625)\"/>\n       <path d=\"M 2194 1759 \nQ 1497 1759 1228 1600 \nQ 959 1441 959 1056 \nQ 959 750 1161 570 \nQ 1363 391 1709 391 \nQ 2188 391 2477 730 \nQ 2766 1069 2766 1631 \nL 2766 1759 \nL 2194 1759 \nz\nM 3341 1997 \nL 3341 0 \nL 2766 0 \nL 2766 531 \nQ 2569 213 2275 61 \nQ 1981 -91 1556 -91 \nQ 1019 -91 701 211 \nQ 384 513 384 1019 \nQ 384 1609 779 1909 \nQ 1175 2209 1959 2209 \nL 2766 2209 \nL 2766 2266 \nQ 2766 2663 2505 2880 \nQ 2244 3097 1772 3097 \nQ 1472 3097 1187 3025 \nQ 903 2953 641 2809 \nL 641 3341 \nQ 956 3463 1253 3523 \nQ 1550 3584 1831 3584 \nQ 2591 3584 2966 3190 \nQ 3341 2797 3341 1997 \nz\n\" id=\"DejaVuSans-61\" transform=\"scale(0.015625)\"/>\n       <path d=\"M 3513 2113 \nL 3513 0 \nL 2938 0 \nL 2938 2094 \nQ 2938 2591 2744 2837 \nQ 2550 3084 2163 3084 \nQ 1697 3084 1428 2787 \nQ 1159 2491 1159 1978 \nL 1159 0 \nL 581 0 \nL 581 3500 \nL 1159 3500 \nL 1159 2956 \nQ 1366 3272 1645 3428 \nQ 1925 3584 2291 3584 \nQ 2894 3584 3203 3211 \nQ 3513 2838 3513 2113 \nz\n\" id=\"DejaVuSans-6e\" transform=\"scale(0.015625)\"/>\n       <path d=\"M 2906 2969 \nL 2906 4863 \nL 3481 4863 \nL 3481 0 \nL 2906 0 \nL 2906 525 \nQ 2725 213 2448 61 \nQ 2172 -91 1784 -91 \nQ 1150 -91 751 415 \nQ 353 922 353 1747 \nQ 353 2572 751 3078 \nQ 1150 3584 1784 3584 \nQ 2172 3584 2448 3432 \nQ 2725 3281 2906 2969 \nz\nM 947 1747 \nQ 947 1113 1208 752 \nQ 1469 391 1925 391 \nQ 2381 391 2643 752 \nQ 2906 1113 2906 1747 \nQ 2906 2381 2643 2742 \nQ 2381 3103 1925 3103 \nQ 1469 3103 1208 2742 \nQ 947 2381 947 1747 \nz\n\" id=\"DejaVuSans-64\" transform=\"scale(0.015625)\"/>\n       <path d=\"M 2631 2963 \nQ 2534 3019 2420 3045 \nQ 2306 3072 2169 3072 \nQ 1681 3072 1420 2755 \nQ 1159 2438 1159 1844 \nL 1159 0 \nL 581 0 \nL 581 3500 \nL 1159 3500 \nL 1159 2956 \nQ 1341 3275 1631 3429 \nQ 1922 3584 2338 3584 \nQ 2397 3584 2469 3576 \nQ 2541 3569 2628 3553 \nL 2631 2963 \nz\n\" id=\"DejaVuSans-72\" transform=\"scale(0.015625)\"/>\n       <path id=\"DejaVuSans-20\" transform=\"scale(0.015625)\"/>\n       <path d=\"M 3597 1894 \nL 3597 1613 \nL 953 1613 \nQ 991 1019 1311 708 \nQ 1631 397 2203 397 \nQ 2534 397 2845 478 \nQ 3156 559 3463 722 \nL 3463 178 \nQ 3153 47 2828 -22 \nQ 2503 -91 2169 -91 \nQ 1331 -91 842 396 \nQ 353 884 353 1716 \nQ 353 2575 817 3079 \nQ 1281 3584 2069 3584 \nQ 2775 3584 3186 3129 \nQ 3597 2675 3597 1894 \nz\nM 3022 2063 \nQ 3016 2534 2758 2815 \nQ 2500 3097 2075 3097 \nQ 1594 3097 1305 2825 \nQ 1016 2553 972 2059 \nL 3022 2063 \nz\n\" id=\"DejaVuSans-65\" transform=\"scale(0.015625)\"/>\n       <path d=\"M 191 3500 \nL 800 3500 \nL 1894 563 \nL 2988 3500 \nL 3597 3500 \nL 2284 0 \nL 1503 0 \nL 191 3500 \nz\n\" id=\"DejaVuSans-76\" transform=\"scale(0.015625)\"/>\n       <path d=\"M 603 3500 \nL 1178 3500 \nL 1178 0 \nL 603 0 \nL 603 3500 \nz\nM 603 4863 \nL 1178 4863 \nL 1178 4134 \nL 603 4134 \nL 603 4863 \nz\n\" id=\"DejaVuSans-69\" transform=\"scale(0.015625)\"/>\n       <path d=\"M 1959 3097 \nQ 1497 3097 1228 2736 \nQ 959 2375 959 1747 \nQ 959 1119 1226 758 \nQ 1494 397 1959 397 \nQ 2419 397 2687 759 \nQ 2956 1122 2956 1747 \nQ 2956 2369 2687 2733 \nQ 2419 3097 1959 3097 \nz\nM 1959 3584 \nQ 2709 3584 3137 3096 \nQ 3566 2609 3566 1747 \nQ 3566 888 3137 398 \nQ 2709 -91 1959 -91 \nQ 1206 -91 779 398 \nQ 353 888 353 1747 \nQ 353 2609 779 3096 \nQ 1206 3584 1959 3584 \nz\n\" id=\"DejaVuSans-6f\" transform=\"scale(0.015625)\"/>\n      </defs>\n      <use xlink:href=\"#DejaVuSans-53\"/>\n      <use x=\"63.476562\" xlink:href=\"#DejaVuSans-74\"/>\n      <use x=\"102.685547\" xlink:href=\"#DejaVuSans-61\"/>\n      <use x=\"163.964844\" xlink:href=\"#DejaVuSans-6e\"/>\n      <use x=\"227.34375\" xlink:href=\"#DejaVuSans-64\"/>\n      <use x=\"290.820312\" xlink:href=\"#DejaVuSans-61\"/>\n      <use x=\"352.099609\" xlink:href=\"#DejaVuSans-72\"/>\n      <use x=\"391.462891\" xlink:href=\"#DejaVuSans-64\"/>\n      <use x=\"454.939453\" xlink:href=\"#DejaVuSans-20\"/>\n      <use x=\"486.726562\" xlink:href=\"#DejaVuSans-64\"/>\n      <use x=\"550.203125\" xlink:href=\"#DejaVuSans-65\"/>\n      <use x=\"611.726562\" xlink:href=\"#DejaVuSans-76\"/>\n      <use x=\"670.90625\" xlink:href=\"#DejaVuSans-69\"/>\n      <use x=\"698.689453\" xlink:href=\"#DejaVuSans-61\"/>\n      <use x=\"759.96875\" xlink:href=\"#DejaVuSans-74\"/>\n      <use x=\"799.177734\" xlink:href=\"#DejaVuSans-69\"/>\n      <use x=\"826.960938\" xlink:href=\"#DejaVuSans-6f\"/>\n      <use x=\"888.142578\" xlink:href=\"#DejaVuSans-6e\"/>\n     </g>\n    </g>\n   </g>\n   <g id=\"matplotlib.axis_2\">\n    <g id=\"ytick_1\">\n     <g id=\"line2d_9\">\n      <defs>\n       <path d=\"M 0 0 \nL -3.5 0 \n\" id=\"m6b44fa0077\" style=\"stroke:#000000;stroke-width:0.8;\"/>\n      </defs>\n      <g>\n       <use style=\"stroke:#000000;stroke-width:0.8;\" x=\"34.240625\" xlink:href=\"#m6b44fa0077\" y=\"208.504634\"/>\n      </g>\n     </g>\n     <g id=\"text_10\">\n      <!-- 1 -->\n      <g transform=\"translate(20.878125 212.303853)scale(0.1 -0.1)\">\n       <use xlink:href=\"#DejaVuSans-31\"/>\n      </g>\n     </g>\n    </g>\n    <g id=\"ytick_2\">\n     <g id=\"line2d_10\">\n      <g>\n       <use style=\"stroke:#000000;stroke-width:0.8;\" x=\"34.240625\" xlink:href=\"#m6b44fa0077\" y=\"164.077705\"/>\n      </g>\n     </g>\n     <g id=\"text_11\">\n      <!-- 2 -->\n      <g transform=\"translate(20.878125 167.876924)scale(0.1 -0.1)\">\n       <use xlink:href=\"#DejaVuSans-32\"/>\n      </g>\n     </g>\n    </g>\n    <g id=\"ytick_3\">\n     <g id=\"line2d_11\">\n      <g>\n       <use style=\"stroke:#000000;stroke-width:0.8;\" x=\"34.240625\" xlink:href=\"#m6b44fa0077\" y=\"119.650776\"/>\n      </g>\n     </g>\n     <g id=\"text_12\">\n      <!-- 3 -->\n      <g transform=\"translate(20.878125 123.449995)scale(0.1 -0.1)\">\n       <use xlink:href=\"#DejaVuSans-33\"/>\n      </g>\n     </g>\n    </g>\n    <g id=\"ytick_4\">\n     <g id=\"line2d_12\">\n      <g>\n       <use style=\"stroke:#000000;stroke-width:0.8;\" x=\"34.240625\" xlink:href=\"#m6b44fa0077\" y=\"75.223848\"/>\n      </g>\n     </g>\n     <g id=\"text_13\">\n      <!-- 4 -->\n      <g transform=\"translate(20.878125 79.023066)scale(0.1 -0.1)\">\n       <use xlink:href=\"#DejaVuSans-34\"/>\n      </g>\n     </g>\n    </g>\n    <g id=\"ytick_5\">\n     <g id=\"line2d_13\">\n      <g>\n       <use style=\"stroke:#000000;stroke-width:0.8;\" x=\"34.240625\" xlink:href=\"#m6b44fa0077\" y=\"30.796919\"/>\n      </g>\n     </g>\n     <g id=\"text_14\">\n      <!-- 5 -->\n      <g transform=\"translate(20.878125 34.596137)scale(0.1 -0.1)\">\n       <use xlink:href=\"#DejaVuSans-35\"/>\n      </g>\n     </g>\n    </g>\n    <g id=\"text_15\">\n     <!-- Return -->\n     <g transform=\"translate(14.798437 132.511406)rotate(-90)scale(0.1 -0.1)\">\n      <defs>\n       <path d=\"M 2841 2188 \nQ 3044 2119 3236 1894 \nQ 3428 1669 3622 1275 \nL 4263 0 \nL 3584 0 \nL 2988 1197 \nQ 2756 1666 2539 1819 \nQ 2322 1972 1947 1972 \nL 1259 1972 \nL 1259 0 \nL 628 0 \nL 628 4666 \nL 2053 4666 \nQ 2853 4666 3247 4331 \nQ 3641 3997 3641 3322 \nQ 3641 2881 3436 2590 \nQ 3231 2300 2841 2188 \nz\nM 1259 4147 \nL 1259 2491 \nL 2053 2491 \nQ 2509 2491 2742 2702 \nQ 2975 2913 2975 3322 \nQ 2975 3731 2742 3939 \nQ 2509 4147 2053 4147 \nL 1259 4147 \nz\n\" id=\"DejaVuSans-52\" transform=\"scale(0.015625)\"/>\n       <path d=\"M 544 1381 \nL 544 3500 \nL 1119 3500 \nL 1119 1403 \nQ 1119 906 1312 657 \nQ 1506 409 1894 409 \nQ 2359 409 2629 706 \nQ 2900 1003 2900 1516 \nL 2900 3500 \nL 3475 3500 \nL 3475 0 \nL 2900 0 \nL 2900 538 \nQ 2691 219 2414 64 \nQ 2138 -91 1772 -91 \nQ 1169 -91 856 284 \nQ 544 659 544 1381 \nz\nM 1991 3584 \nL 1991 3584 \nz\n\" id=\"DejaVuSans-75\" transform=\"scale(0.015625)\"/>\n      </defs>\n      <use xlink:href=\"#DejaVuSans-52\"/>\n      <use x=\"64.982422\" xlink:href=\"#DejaVuSans-65\"/>\n      <use x=\"126.505859\" xlink:href=\"#DejaVuSans-74\"/>\n      <use x=\"165.714844\" xlink:href=\"#DejaVuSans-75\"/>\n      <use x=\"229.09375\" xlink:href=\"#DejaVuSans-72\"/>\n      <use x=\"268.457031\" xlink:href=\"#DejaVuSans-6e\"/>\n     </g>\n    </g>\n   </g>\n   <g id=\"line2d_14\">\n    <path clip-path=\"url(#p346dc71146)\" d=\"M 144.588185 150.681267 \nL 144.588185 150.681267 \nL 144.588185 150.681267 \nL 144.588185 150.681267 \nL 144.588184 150.681267 \nL 144.588184 150.681267 \nL 144.588184 150.681267 \nL 144.588182 150.681268 \nL 144.588178 150.681269 \nL 144.588183 150.681267 \nL 144.588183 150.681267 \nL 144.588171 150.681272 \nL 144.588182 150.681268 \nL 144.588182 150.681268 \nL 144.588161 150.681274 \nL 139.580203 152.096034 \nL 134.510943 153.613604 \nL 130.278954 154.971978 \nL 126.790256 156.180423 \nL 121.38562 158.202711 \nL 115.636981 160.447226 \nL 110.042102 162.741802 \nL 103.97595 165.330519 \nL 98.117839 167.897936 \nL 93.062712 170.182289 \nL 88.725567 172.214228 \nL 85.016697 174.026575 \nL 81.87427 175.638537 \nL 79.22728 177.073409 \nL 77.01238 178.35076 \nL 75.171294 179.487885 \nL 73.650664 180.500164 \nL 72.402191 181.40129 \nL 71.226358 182.331129 \nL 69.194899 184.045698 \nL 67.207803 185.824981 \nL 65.507517 187.439811 \nL 64.090239 188.877743 \nL 62.900692 190.176124 \nL 60.77258 192.633274 \nL 58.954742 194.820015 \nL 57.408995 196.769632 \nL 56.105681 198.504725 \nL 55.014438 200.048467 \nL 54.106167 201.422944 \nL 53.354893 202.646964 \nL 52.7377 203.736153 \nL 52.233283 204.705683 \nL 51.823061 205.568733 \nL 51.490844 206.337135 \nL 51.22266 207.021686 \nL 51.006957 207.631318 \nL 50.83458 208.172121 \nL 50.625265 208.904721 \nL 50.436583 209.633702 \nL 50.296649 210.232292 \nL 50.241551 210.496502 \nL 50.197758 210.731654 \nL 50.163038 210.940525 \nL 50.135454 211.126501 \nL 50.113497 211.2925 \nL 50.096013 211.440831 \nL 50.08219 211.57247 \nL 50.071239 211.689523 \nL 50.062556 211.79373 \nL 50.05567 211.886501 \nL 50.050211 211.969091 \nL 50.045885 212.042586 \nL 50.042459 212.107955 \nL 50.039752 212.165949 \nL 50.037612 212.217369 \nL 50.035918 212.263064 \nL 50.034572 212.303766 \nL 50.033494 212.340316 \nL 50.032641 212.37282 \nL 50.031925 212.403503 \nL 50.031426 212.427532 \nL 50.030997 212.450629 \nL 50.03065 212.471633 \nL 50.030379 212.490074 \nL 50.030167 212.506323 \nL 50.029993 212.521182 \nL 50.02986 212.533987 \nL 50.029756 212.545352 \nL 50.029674 212.555459 \nL 50.029608 212.564576 \nL 50.029554 212.572762 \nL 50.029512 212.579963 \nL 50.02948 212.586366 \nL 50.02945 212.592404 \nL 50.029429 212.597511 \nL 50.029412 212.602038 \nL 50.0294 212.605969 \nL 50.02939 212.609466 \nL 50.029383 212.61262 \nL 50.029376 212.615439 \nL 50.029369 212.618226 \nL 50.029365 212.620466 \nL 50.029364 212.622366 \nL 50.029362 212.624068 \n\" style=\"fill:none;stroke:#1f77b4;stroke-linecap:square;stroke-width:1.5;\"/>\n   </g>\n   <g id=\"line2d_15\">\n    <path clip-path=\"url(#p346dc71146)\" d=\"M 216.146242 105.625715 \nL 215.456124 105.68954 \nL 214.893263 105.747798 \nL 214.452445 105.798967 \nL 214.102299 105.844508 \nL 213.824219 105.885071 \nL 211.453963 106.282967 \nL 206.867022 107.104677 \nL 203.156574 107.833655 \nL 200.161071 108.481599 \nL 197.740539 109.060102 \nL 192.584504 110.44708 \nL 182.378738 113.310961 \nL 173.755048 115.861783 \nL 166.517701 118.133598 \nL 160.488812 120.155444 \nL 155.49618 121.955875 \nL 151.218812 123.627388 \nL 143.881126 126.683605 \nL 137.697791 129.403545 \nL 132.521835 131.824365 \nL 126.48126 134.842456 \nL 120.148046 138.143447 \nL 113.484274 141.757225 \nL 108.001596 144.844914 \nL 103.894329 147.283936 \nL 98.759233 150.492475 \nL 94.235794 153.432969 \nL 90.391754 156.050216 \nL 87.144756 158.381026 \nL 84.422116 160.455506 \nL 82.298057 162.183959 \nL 79.408391 164.700535 \nL 76.859237 167.042118 \nL 74.723969 169.126845 \nL 72.947547 170.982583 \nL 71.24527 172.899211 \nL 69.607471 174.87216 \nL 68.161667 176.74285 \nL 66.398756 179.218273 \nL 63.707054 183.121771 \nL 61.381871 186.597354 \nL 59.384647 189.691337 \nL 57.679231 192.445815 \nL 56.230519 194.901065 \nL 55.010868 197.084536 \nL 53.989949 199.028171 \nL 53.140955 200.758492 \nL 52.439476 202.298805 \nL 51.863318 203.670028 \nL 51.392686 204.890702 \nL 51.010024 205.977677 \nL 50.700652 206.944233 \nL 50.450821 207.805919 \nL 50.249987 208.573117 \nL 50.089255 209.254922 \nL 49.96056 209.862418 \nL 49.857798 210.403224 \nL 49.775863 210.884673 \nL 49.710612 211.313283 \nL 49.658699 211.694852 \nL 49.617431 212.03454 \nL 49.584648 212.336913 \nL 49.55861 212.606164 \nL 49.537947 212.84582 \nL 49.521496 213.059938 \nL 49.508552 213.248992 \nL 49.498214 213.418473 \nL 49.490049 213.568745 \nL 49.48356 213.702835 \nL 49.478417 213.822182 \nL 49.474357 213.92798 \nL 49.47114 214.022086 \nL 49.468568 214.106562 \nL 49.466527 214.181916 \nL 49.464924 214.2484 \nL 49.463656 214.307458 \nL 49.462633 214.360977 \nL 49.461833 214.40804 \nL 49.461229 214.447897 \nL 49.460704 214.486665 \nL 49.460315 214.519031 \nL 49.459992 214.549195 \nL 49.459739 214.575759 \nL 49.459542 214.599082 \nL 49.4594 214.617711 \nL 49.45925 214.640118 \nL 49.459131 214.660516 \nL 49.459062 214.673979 \nL 49.459021 214.682736 \nL 49.458972 214.694411 \nL 49.458933 214.704801 \nL 49.458902 214.714054 \nL 49.458878 214.722226 \nL 49.458859 214.729528 \nL 49.458843 214.736045 \nL 49.458831 214.741901 \nL 49.458821 214.747124 \nL 49.458813 214.751783 \nL 49.458807 214.755965 \n\" style=\"fill:none;stroke:#ff7f0e;stroke-linecap:square;stroke-width:1.5;\"/>\n   </g>\n   <g id=\"line2d_16\">\n    <path clip-path=\"url(#p346dc71146)\" d=\"M 353.822443 17.083636 \nL 343.545756 18.732292 \nL 335.192097 20.19282 \nL 328.384224 21.496135 \nL 322.855911 22.660241 \nL 318.389709 23.698787 \nL 314.826234 24.61658 \nL 302.018505 28.271538 \nL 286.826321 32.820857 \nL 274.038073 36.890436 \nL 263.39072 40.51594 \nL 254.649811 43.720547 \nL 247.400851 46.599367 \nL 235.189717 51.816367 \nL 224.421006 56.685159 \nL 215.449339 61.011357 \nL 208.003279 64.865824 \nL 196.655305 71.176146 \nL 181.462723 79.830227 \nL 168.212914 87.527638 \nL 156.683733 94.386558 \nL 146.709139 100.492029 \nL 138.127851 105.924884 \nL 130.782984 110.762605 \nL 124.537895 115.068804 \nL 119.26169 118.902618 \nL 114.265262 122.754239 \nL 110.345536 125.951946 \nL 107.110037 128.781427 \nL 104.439548 131.300345 \nL 100.320898 135.471711 \nL 96.578537 139.46785 \nL 93.456234 143.011552 \nL 90.849257 146.177373 \nL 87.048815 151.143878 \nL 81.766422 158.148207 \nL 77.130329 164.367027 \nL 73.057467 169.908492 \nL 69.498833 174.835123 \nL 66.396968 179.220833 \nL 63.704804 183.125083 \nL 61.380992 186.59869 \nL 59.383697 189.692839 \nL 57.677676 192.448386 \nL 56.230436 194.90121 \nL 55.010804 197.084653 \nL 53.990357 199.027368 \nL 53.140791 200.758839 \nL 52.439328 202.299143 \nL 51.863235 203.670235 \nL 51.392651 204.890797 \nL 51.010099 205.977452 \nL 50.700503 206.944721 \nL 50.450795 207.806013 \nL 50.250105 208.572639 \nL 50.089236 209.255006 \nL 49.960539 209.862523 \nL 49.857775 210.403352 \nL 49.775841 210.884808 \nL 49.710594 211.313409 \nL 49.658688 211.69494 \nL 49.617417 212.034663 \nL 49.584566 212.337712 \nL 49.55859 212.606386 \nL 49.537949 212.84579 \nL 49.521584 213.058725 \nL 49.508551 213.249017 \nL 49.49824 213.418008 \nL 49.490058 213.568573 \nL 49.483572 213.702568 \nL 49.47843 213.82187 \nL 49.474358 213.927958 \nL 49.47114 214.022074 \nL 49.468588 214.105868 \nL 49.466554 214.180867 \nL 49.464936 214.247853 \nL 49.463652 214.30764 \nL 49.462639 214.360657 \nL 49.461836 214.40785 \nL 49.4612 214.449862 \nL 49.460697 214.487262 \nL 49.460298 214.520554 \nL 49.459982 214.550195 \nL 49.459732 214.576582 \nL 49.459536 214.599826 \nL 49.45938 214.620578 \nL 49.459273 214.6365 \nL 49.459158 214.655633 \nL 49.459078 214.670641 \nL 49.459017 214.683815 \nL 49.45897 214.694982 \nL 49.458933 214.704719 \nL 49.458904 214.71338 \nL 49.45888 214.721647 \nL 49.458847 214.734293 \nL 49.458839 214.738153 \nL 49.45883 214.742501 \nL 49.45882 214.747624 \nL 49.458813 214.752227 \nL 49.458807 214.756364 \n\" style=\"fill:none;stroke:#2ca02c;stroke-linecap:square;stroke-width:1.5;\"/>\n   </g>\n   <g id=\"patch_3\">\n    <path d=\"M 34.240625 224.64 \nL 34.240625 7.2 \n\" style=\"fill:none;stroke:#000000;stroke-linecap:square;stroke-linejoin:miter;stroke-width:0.8;\"/>\n   </g>\n   <g id=\"patch_4\">\n    <path d=\"M 369.040625 224.64 \nL 369.040625 7.2 \n\" style=\"fill:none;stroke:#000000;stroke-linecap:square;stroke-linejoin:miter;stroke-width:0.8;\"/>\n   </g>\n   <g id=\"patch_5\">\n    <path d=\"M 34.240625 224.64 \nL 369.040625 224.64 \n\" style=\"fill:none;stroke:#000000;stroke-linecap:square;stroke-linejoin:miter;stroke-width:0.8;\"/>\n   </g>\n   <g id=\"patch_6\">\n    <path d=\"M 34.240625 7.2 \nL 369.040625 7.2 \n\" style=\"fill:none;stroke:#000000;stroke-linecap:square;stroke-linejoin:miter;stroke-width:0.8;\"/>\n   </g>\n   <g id=\"legend_1\">\n    <g id=\"patch_7\">\n     <path d=\"M 287.140625 219.64 \nL 362.040625 219.64 \nQ 364.040625 219.64 364.040625 217.64 \nL 364.040625 174.605625 \nQ 364.040625 172.605625 362.040625 172.605625 \nL 287.140625 172.605625 \nQ 285.140625 172.605625 285.140625 174.605625 \nL 285.140625 217.64 \nQ 285.140625 219.64 287.140625 219.64 \nz\n\" style=\"fill:#ffffff;opacity:0.8;stroke:#cccccc;stroke-linejoin:miter;\"/>\n    </g>\n    <g id=\"line2d_17\">\n     <path d=\"M 289.140625 180.704063 \nL 309.140625 180.704063 \n\" style=\"fill:none;stroke:#1f77b4;stroke-linecap:square;stroke-width:1.5;\"/>\n    </g>\n    <g id=\"line2d_18\"/>\n    <g id=\"text_16\">\n     <!-- $L^{\\max}$ = 1 -->\n     <g transform=\"translate(317.140625 184.204063)scale(0.1 -0.1)\">\n      <defs>\n       <path d=\"M 1075 4666 \nL 1709 4666 \nL 909 525 \nL 3181 525 \nL 3078 0 \nL 172 0 \nL 1075 4666 \nz\n\" id=\"DejaVuSans-Oblique-4c\" transform=\"scale(0.015625)\"/>\n       <path d=\"M 3328 2828 \nQ 3544 3216 3844 3400 \nQ 4144 3584 4550 3584 \nQ 5097 3584 5394 3201 \nQ 5691 2819 5691 2113 \nL 5691 0 \nL 5113 0 \nL 5113 2094 \nQ 5113 2597 4934 2840 \nQ 4756 3084 4391 3084 \nQ 3944 3084 3684 2787 \nQ 3425 2491 3425 1978 \nL 3425 0 \nL 2847 0 \nL 2847 2094 \nQ 2847 2600 2669 2842 \nQ 2491 3084 2119 3084 \nQ 1678 3084 1418 2786 \nQ 1159 2488 1159 1978 \nL 1159 0 \nL 581 0 \nL 581 3500 \nL 1159 3500 \nL 1159 2956 \nQ 1356 3278 1631 3431 \nQ 1906 3584 2284 3584 \nQ 2666 3584 2933 3390 \nQ 3200 3197 3328 2828 \nz\n\" id=\"DejaVuSans-6d\" transform=\"scale(0.015625)\"/>\n       <path d=\"M 3513 3500 \nL 2247 1797 \nL 3578 0 \nL 2900 0 \nL 1881 1375 \nL 863 0 \nL 184 0 \nL 1544 1831 \nL 300 3500 \nL 978 3500 \nL 1906 2253 \nL 2834 3500 \nL 3513 3500 \nz\n\" id=\"DejaVuSans-78\" transform=\"scale(0.015625)\"/>\n       <path d=\"M 678 2906 \nL 4684 2906 \nL 4684 2381 \nL 678 2381 \nL 678 2906 \nz\nM 678 1631 \nL 4684 1631 \nL 4684 1100 \nL 678 1100 \nL 678 1631 \nz\n\" id=\"DejaVuSans-3d\" transform=\"scale(0.015625)\"/>\n      </defs>\n      <use transform=\"translate(0 0.51875)\" xlink:href=\"#DejaVuSans-Oblique-4c\"/>\n      <use transform=\"translate(62.729661 38.8)scale(0.7)\" xlink:href=\"#DejaVuSans-6d\"/>\n      <use transform=\"translate(130.918138 38.8)scale(0.7)\" xlink:href=\"#DejaVuSans-61\"/>\n      <use transform=\"translate(173.813646 38.8)scale(0.7)\" xlink:href=\"#DejaVuSans-78\"/>\n      <use transform=\"translate(217.973802 0.51875)\" xlink:href=\"#DejaVuSans-20\"/>\n      <use transform=\"translate(249.760911 0.51875)\" xlink:href=\"#DejaVuSans-3d\"/>\n      <use transform=\"translate(333.549974 0.51875)\" xlink:href=\"#DejaVuSans-20\"/>\n      <use transform=\"translate(365.337083 0.51875)\" xlink:href=\"#DejaVuSans-31\"/>\n     </g>\n    </g>\n    <g id=\"line2d_19\">\n     <path d=\"M 289.140625 195.382188 \nL 309.140625 195.382188 \n\" style=\"fill:none;stroke:#ff7f0e;stroke-linecap:square;stroke-width:1.5;\"/>\n    </g>\n    <g id=\"line2d_20\"/>\n    <g id=\"text_17\">\n     <!-- $L^{\\max}$ = 2 -->\n     <g transform=\"translate(317.140625 198.882188)scale(0.1 -0.1)\">\n      <use transform=\"translate(0 0.51875)\" xlink:href=\"#DejaVuSans-Oblique-4c\"/>\n      <use transform=\"translate(62.729661 38.8)scale(0.7)\" xlink:href=\"#DejaVuSans-6d\"/>\n      <use transform=\"translate(130.918138 38.8)scale(0.7)\" xlink:href=\"#DejaVuSans-61\"/>\n      <use transform=\"translate(173.813646 38.8)scale(0.7)\" xlink:href=\"#DejaVuSans-78\"/>\n      <use transform=\"translate(217.973802 0.51875)\" xlink:href=\"#DejaVuSans-20\"/>\n      <use transform=\"translate(249.760911 0.51875)\" xlink:href=\"#DejaVuSans-3d\"/>\n      <use transform=\"translate(333.549974 0.51875)\" xlink:href=\"#DejaVuSans-20\"/>\n      <use transform=\"translate(365.337083 0.51875)\" xlink:href=\"#DejaVuSans-32\"/>\n     </g>\n    </g>\n    <g id=\"line2d_21\">\n     <path d=\"M 289.140625 210.060313 \nL 309.140625 210.060313 \n\" style=\"fill:none;stroke:#2ca02c;stroke-linecap:square;stroke-width:1.5;\"/>\n    </g>\n    <g id=\"line2d_22\"/>\n    <g id=\"text_18\">\n     <!-- $L^{\\max}$ = 4 -->\n     <g transform=\"translate(317.140625 213.560313)scale(0.1 -0.1)\">\n      <use transform=\"translate(0 0.51875)\" xlink:href=\"#DejaVuSans-Oblique-4c\"/>\n      <use transform=\"translate(62.729661 38.8)scale(0.7)\" xlink:href=\"#DejaVuSans-6d\"/>\n      <use transform=\"translate(130.918138 38.8)scale(0.7)\" xlink:href=\"#DejaVuSans-61\"/>\n      <use transform=\"translate(173.813646 38.8)scale(0.7)\" xlink:href=\"#DejaVuSans-78\"/>\n      <use transform=\"translate(217.973802 0.51875)\" xlink:href=\"#DejaVuSans-20\"/>\n      <use transform=\"translate(249.760911 0.51875)\" xlink:href=\"#DejaVuSans-3d\"/>\n      <use transform=\"translate(333.549974 0.51875)\" xlink:href=\"#DejaVuSans-20\"/>\n      <use transform=\"translate(365.337083 0.51875)\" xlink:href=\"#DejaVuSans-34\"/>\n     </g>\n    </g>\n   </g>\n  </g>\n </g>\n <defs>\n  <clipPath id=\"p346dc71146\">\n   <rect height=\"217.44\" width=\"334.8\" x=\"34.240625\" y=\"7.2\"/>\n  </clipPath>\n </defs>\n</svg>\n",
            "text/plain": [
              "<Figure size 432x288 with 1 Axes>"
            ]
          },
          "metadata": {
            "needs_background": "light"
          },
          "output_type": "display_data"
        }
      ],
      "source": [
        "# Plot trade-off curves for each leverage limit.\n",
        "for idx, L_val in enumerate(L_vals):\n",
        "    plt.plot(risk_data[idx,:], ret_data[idx,:], label=r\"$L^{\\max}$ = %d\" % L_val)\n",
        "for w_val in w_vals:\n",
        "    w.value = w_val\n",
        "    plt.plot(cp.sqrt(risk).value, ret.value, 'bs')\n",
        "plt.xlabel('Standard deviation')\n",
        "plt.ylabel('Return')\n",
        "plt.legend(loc='lower right')\n",
        "plt.show()"
      ]
    },
    {
      "cell_type": "markdown",
      "metadata": {
        "id": "sQToYRxcj0ta"
      },
      "source": [
        "We next examine the points on each trade-off curve where $w^T\\Sigma w = 2$.\n",
        "We plot the amount of each asset held in each portfolio as bar graphs. (Negative holdings indicate a short position.)\n",
        "Notice that some assets are held in a long position for the low leverage portfolio but in a short position in the higher leverage portfolios. "
      ]
    },
    {
      "cell_type": "code",
      "execution_count": 9,
      "metadata": {
        "id": "99ii4CWhj0ta"
      },
      "outputs": [],
      "source": [
        "# Portfolio optimization with a leverage limit and a bound on risk.\n",
        "prob = cp.Problem(cp.Maximize(ret), \n",
        "              [cp.sum(w) == 1, \n",
        "               cp.norm(w, 1) <= Lmax,\n",
        "               risk <= 2])"
      ]
    },
    {
      "cell_type": "code",
      "execution_count": 10,
      "metadata": {
        "id": "eqdxH4vJj0ta"
      },
      "outputs": [],
      "source": [
        "# Compute solution for different leverage limits.\n",
        "for k, L_val in enumerate(L_vals):\n",
        "    Lmax.value = L_val\n",
        "    prob.solve()\n",
        "    w_vals.append( w.value )"
      ]
    },
    {
      "cell_type": "code",
      "execution_count": 11,
      "metadata": {
        "colab": {
          "base_uri": "https://localhost:8080/",
          "height": 379
        },
        "id": "hhNvYUFvj0tb",
        "outputId": "9fbe2c2f-ba4f-49ef-9f73-5e79f1b54f12"
      },
      "outputs": [
        {
          "data": {
            "image/svg+xml": "<?xml version=\"1.0\" encoding=\"utf-8\" standalone=\"no\"?>\n<!DOCTYPE svg PUBLIC \"-//W3C//DTD SVG 1.1//EN\"\n  \"http://www.w3.org/Graphics/SVG/1.1/DTD/svg11.dtd\">\n<svg height=\"268.482061pt\" version=\"1.1\" viewBox=\"0 0 399.967812 268.482061\" width=\"399.967812pt\" xmlns=\"http://www.w3.org/2000/svg\" xmlns:xlink=\"http://www.w3.org/1999/xlink\">\n <metadata>\n  <rdf:RDF xmlns:cc=\"http://creativecommons.org/ns#\" xmlns:dc=\"http://purl.org/dc/elements/1.1/\" xmlns:rdf=\"http://www.w3.org/1999/02/22-rdf-syntax-ns#\">\n   <cc:Work>\n    <dc:type rdf:resource=\"http://purl.org/dc/dcmitype/StillImage\"/>\n    <dc:date>2022-03-24T13:37:29.107204</dc:date>\n    <dc:format>image/svg+xml</dc:format>\n    <dc:creator>\n     <cc:Agent>\n      <dc:title>Matplotlib v3.4.3, https://matplotlib.org/</dc:title>\n     </cc:Agent>\n    </dc:creator>\n   </cc:Work>\n  </rdf:RDF>\n </metadata>\n <defs>\n  <style type=\"text/css\">*{stroke-linecap:butt;stroke-linejoin:round;}</style>\n </defs>\n <g id=\"figure_1\">\n  <g id=\"patch_1\">\n   <path d=\"M 0 268.482061 \nL 399.967812 268.482061 \nL 399.967812 0 \nL 0 0 \nz\n\" style=\"fill:none;\"/>\n  </g>\n  <g id=\"axes_1\">\n   <g id=\"patch_2\">\n    <path d=\"M 57.967813 225.118936 \nL 392.767812 225.118936 \nL 392.767812 7.678936 \nL 57.967813 7.678936 \nz\n\" style=\"fill:#ffffff;\"/>\n   </g>\n   <g id=\"patch_3\">\n    <path clip-path=\"url(#p1c60618c47)\" d=\"M 53.675505 156.486161 \nL 62.26012 156.486161 \nL 62.26012 156.486161 \nL 53.675505 156.486161 \nz\n\" style=\"fill:#0000ff;\"/>\n   </g>\n   <g id=\"patch_4\">\n    <path clip-path=\"url(#p1c60618c47)\" d=\"M 88.013966 156.486161 \nL 96.598582 156.486161 \nL 96.598582 156.486161 \nL 88.013966 156.486161 \nz\n\" style=\"fill:#0000ff;\"/>\n   </g>\n   <g id=\"patch_5\">\n    <path clip-path=\"url(#p1c60618c47)\" d=\"M 122.352428 156.486161 \nL 130.937043 156.486161 \nL 130.937043 156.486161 \nL 122.352428 156.486161 \nz\n\" style=\"fill:#0000ff;\"/>\n   </g>\n   <g id=\"patch_6\">\n    <path clip-path=\"url(#p1c60618c47)\" d=\"M 156.690889 156.486161 \nL 165.275505 156.486161 \nL 165.275505 156.486161 \nL 156.690889 156.486161 \nz\n\" style=\"fill:#0000ff;\"/>\n   </g>\n   <g id=\"patch_7\">\n    <path clip-path=\"url(#p1c60618c47)\" d=\"M 191.029351 156.486161 \nL 199.613966 156.486161 \nL 199.613966 156.486161 \nL 191.029351 156.486161 \nz\n\" style=\"fill:#0000ff;\"/>\n   </g>\n   <g id=\"patch_8\">\n    <path clip-path=\"url(#p1c60618c47)\" d=\"M 225.367813 156.486161 \nL 233.952428 156.486161 \nL 233.952428 145.445523 \nL 225.367813 145.445523 \nz\n\" style=\"fill:#0000ff;\"/>\n   </g>\n   <g id=\"patch_9\">\n    <path clip-path=\"url(#p1c60618c47)\" d=\"M 259.706274 156.486161 \nL 268.290889 156.486161 \nL 268.290889 133.229544 \nL 259.706274 133.229544 \nz\n\" style=\"fill:#0000ff;\"/>\n   </g>\n   <g id=\"patch_10\">\n    <path clip-path=\"url(#p1c60618c47)\" d=\"M 294.044736 156.486161 \nL 302.629351 156.486161 \nL 302.629351 152.863988 \nL 294.044736 152.863988 \nz\n\" style=\"fill:#0000ff;\"/>\n   </g>\n   <g id=\"patch_11\">\n    <path clip-path=\"url(#p1c60618c47)\" d=\"M 328.383197 156.486161 \nL 336.967812 156.486161 \nL 336.967812 131.943349 \nL 328.383197 131.943349 \nz\n\" style=\"fill:#0000ff;\"/>\n   </g>\n   <g id=\"patch_12\">\n    <path clip-path=\"url(#p1c60618c47)\" d=\"M 362.721659 156.486161 \nL 371.306274 156.486161 \nL 371.306274 73.461458 \nL 362.721659 73.461458 \nz\n\" style=\"fill:#0000ff;\"/>\n   </g>\n   <g id=\"patch_13\">\n    <path clip-path=\"url(#p1c60618c47)\" d=\"M 62.26012 156.486161 \nL 70.844736 156.486161 \nL 70.844736 165.562911 \nL 62.26012 165.562911 \nz\n\" style=\"fill:#008000;\"/>\n   </g>\n   <g id=\"patch_14\">\n    <path clip-path=\"url(#p1c60618c47)\" d=\"M 96.598582 156.486161 \nL 105.183197 156.486161 \nL 105.183197 156.486161 \nL 96.598582 156.486161 \nz\n\" style=\"fill:#008000;\"/>\n   </g>\n   <g id=\"patch_15\">\n    <path clip-path=\"url(#p1c60618c47)\" d=\"M 130.937043 156.486161 \nL 139.521659 156.486161 \nL 139.521659 156.486161 \nL 130.937043 156.486161 \nz\n\" style=\"fill:#008000;\"/>\n   </g>\n   <g id=\"patch_16\">\n    <path clip-path=\"url(#p1c60618c47)\" d=\"M 165.275505 156.486161 \nL 173.86012 156.486161 \nL 173.86012 201.573451 \nL 165.275505 201.573451 \nz\n\" style=\"fill:#008000;\"/>\n   </g>\n   <g id=\"patch_17\">\n    <path clip-path=\"url(#p1c60618c47)\" d=\"M 199.613966 156.486161 \nL 208.198582 156.486161 \nL 208.198582 167.667989 \nL 199.613966 167.667989 \nz\n\" style=\"fill:#008000;\"/>\n   </g>\n   <g id=\"patch_18\">\n    <path clip-path=\"url(#p1c60618c47)\" d=\"M 233.952428 156.486161 \nL 242.537043 156.486161 \nL 242.537043 123.084482 \nL 233.952428 123.084482 \nz\n\" style=\"fill:#008000;\"/>\n   </g>\n   <g id=\"patch_19\">\n    <path clip-path=\"url(#p1c60618c47)\" d=\"M 268.290889 156.486161 \nL 276.875505 156.486161 \nL 276.875505 111.450227 \nL 268.290889 111.450227 \nz\n\" style=\"fill:#008000;\"/>\n   </g>\n   <g id=\"patch_20\">\n    <path clip-path=\"url(#p1c60618c47)\" d=\"M 302.629351 156.486161 \nL 311.213966 156.486161 \nL 311.213966 163.883765 \nL 302.629351 163.883765 \nz\n\" style=\"fill:#008000;\"/>\n   </g>\n   <g id=\"patch_21\">\n    <path clip-path=\"url(#p1c60618c47)\" d=\"M 336.967812 156.486161 \nL 345.552428 156.486161 \nL 345.552428 119.675852 \nL 336.967812 119.675852 \nz\n\" style=\"fill:#008000;\"/>\n   </g>\n   <g id=\"patch_22\">\n    <path clip-path=\"url(#p1c60618c47)\" d=\"M 371.306274 156.486161 \nL 379.890889 156.486161 \nL 379.890889 53.50367 \nL 371.306274 53.50367 \nz\n\" style=\"fill:#008000;\"/>\n   </g>\n   <g id=\"patch_23\">\n    <path clip-path=\"url(#p1c60618c47)\" d=\"M 70.844736 156.486161 \nL 79.429351 156.486161 \nL 79.429351 170.716804 \nL 70.844736 170.716804 \nz\n\" style=\"fill:#ff0000;\"/>\n   </g>\n   <g id=\"patch_24\">\n    <path clip-path=\"url(#p1c60618c47)\" d=\"M 105.183197 156.486161 \nL 113.767813 156.486161 \nL 113.767813 140.662479 \nL 105.183197 140.662479 \nz\n\" style=\"fill:#ff0000;\"/>\n   </g>\n   <g id=\"patch_25\">\n    <path clip-path=\"url(#p1c60618c47)\" d=\"M 139.521659 156.486161 \nL 148.106274 156.486161 \nL 148.106274 197.813677 \nL 139.521659 197.813677 \nz\n\" style=\"fill:#ff0000;\"/>\n   </g>\n   <g id=\"patch_26\">\n    <path clip-path=\"url(#p1c60618c47)\" d=\"M 173.86012 156.486161 \nL 182.444736 156.486161 \nL 182.444736 215.2353 \nL 173.86012 215.2353 \nz\n\" style=\"fill:#ff0000;\"/>\n   </g>\n   <g id=\"patch_27\">\n    <path clip-path=\"url(#p1c60618c47)\" d=\"M 208.198582 156.486161 \nL 216.783197 156.486161 \nL 216.783197 204.243778 \nL 208.198582 204.243778 \nz\n\" style=\"fill:#ff0000;\"/>\n   </g>\n   <g id=\"patch_28\">\n    <path clip-path=\"url(#p1c60618c47)\" d=\"M 242.537043 156.486161 \nL 251.121659 156.486161 \nL 251.121659 61.717436 \nL 242.537043 61.717436 \nz\n\" style=\"fill:#ff0000;\"/>\n   </g>\n   <g id=\"patch_29\">\n    <path clip-path=\"url(#p1c60618c47)\" d=\"M 276.875505 156.486161 \nL 285.46012 156.486161 \nL 285.46012 81.589528 \nL 276.875505 81.589528 \nz\n\" style=\"fill:#ff0000;\"/>\n   </g>\n   <g id=\"patch_30\">\n    <path clip-path=\"url(#p1c60618c47)\" d=\"M 311.213966 156.486161 \nL 319.798582 156.486161 \nL 319.798582 212.651656 \nL 311.213966 212.651656 \nz\n\" style=\"fill:#ff0000;\"/>\n   </g>\n   <g id=\"patch_31\">\n    <path clip-path=\"url(#p1c60618c47)\" d=\"M 345.552428 156.486161 \nL 354.137043 156.486161 \nL 354.137043 117.181436 \nL 345.552428 117.181436 \nz\n\" style=\"fill:#ff0000;\"/>\n   </g>\n   <g id=\"patch_32\">\n    <path clip-path=\"url(#p1c60618c47)\" d=\"M 379.890889 156.486161 \nL 388.475505 156.486161 \nL 388.475505 17.562573 \nL 379.890889 17.562573 \nz\n\" style=\"fill:#ff0000;\"/>\n   </g>\n   <g id=\"matplotlib.axis_1\">\n    <g id=\"xtick_1\">\n     <g id=\"line2d_1\">\n      <defs>\n       <path d=\"M 0 0 \nL 0 3.5 \n\" id=\"mb2c7ec63a3\" style=\"stroke:#000000;stroke-width:0.8;\"/>\n      </defs>\n      <g>\n       <use style=\"stroke:#000000;stroke-width:0.8;\" x=\"70.844736\" xlink:href=\"#mb2c7ec63a3\" y=\"225.118936\"/>\n      </g>\n     </g>\n     <g id=\"text_1\">\n      <!-- 1 -->\n      <g transform=\"translate(67.663486 239.717374)scale(0.1 -0.1)\">\n       <defs>\n        <path d=\"M 794 531 \nL 1825 531 \nL 1825 4091 \nL 703 3866 \nL 703 4441 \nL 1819 4666 \nL 2450 4666 \nL 2450 531 \nL 3481 531 \nL 3481 0 \nL 794 0 \nL 794 531 \nz\n\" id=\"DejaVuSans-31\" transform=\"scale(0.015625)\"/>\n       </defs>\n       <use xlink:href=\"#DejaVuSans-31\"/>\n      </g>\n     </g>\n    </g>\n    <g id=\"xtick_2\">\n     <g id=\"line2d_2\">\n      <g>\n       <use style=\"stroke:#000000;stroke-width:0.8;\" x=\"105.183197\" xlink:href=\"#mb2c7ec63a3\" y=\"225.118936\"/>\n      </g>\n     </g>\n     <g id=\"text_2\">\n      <!-- 2 -->\n      <g transform=\"translate(102.001947 239.717374)scale(0.1 -0.1)\">\n       <defs>\n        <path d=\"M 1228 531 \nL 3431 531 \nL 3431 0 \nL 469 0 \nL 469 531 \nQ 828 903 1448 1529 \nQ 2069 2156 2228 2338 \nQ 2531 2678 2651 2914 \nQ 2772 3150 2772 3378 \nQ 2772 3750 2511 3984 \nQ 2250 4219 1831 4219 \nQ 1534 4219 1204 4116 \nQ 875 4013 500 3803 \nL 500 4441 \nQ 881 4594 1212 4672 \nQ 1544 4750 1819 4750 \nQ 2544 4750 2975 4387 \nQ 3406 4025 3406 3419 \nQ 3406 3131 3298 2873 \nQ 3191 2616 2906 2266 \nQ 2828 2175 2409 1742 \nQ 1991 1309 1228 531 \nz\n\" id=\"DejaVuSans-32\" transform=\"scale(0.015625)\"/>\n       </defs>\n       <use xlink:href=\"#DejaVuSans-32\"/>\n      </g>\n     </g>\n    </g>\n    <g id=\"xtick_3\">\n     <g id=\"line2d_3\">\n      <g>\n       <use style=\"stroke:#000000;stroke-width:0.8;\" x=\"139.521659\" xlink:href=\"#mb2c7ec63a3\" y=\"225.118936\"/>\n      </g>\n     </g>\n     <g id=\"text_3\">\n      <!-- 3 -->\n      <g transform=\"translate(136.340409 239.717374)scale(0.1 -0.1)\">\n       <defs>\n        <path d=\"M 2597 2516 \nQ 3050 2419 3304 2112 \nQ 3559 1806 3559 1356 \nQ 3559 666 3084 287 \nQ 2609 -91 1734 -91 \nQ 1441 -91 1130 -33 \nQ 819 25 488 141 \nL 488 750 \nQ 750 597 1062 519 \nQ 1375 441 1716 441 \nQ 2309 441 2620 675 \nQ 2931 909 2931 1356 \nQ 2931 1769 2642 2001 \nQ 2353 2234 1838 2234 \nL 1294 2234 \nL 1294 2753 \nL 1863 2753 \nQ 2328 2753 2575 2939 \nQ 2822 3125 2822 3475 \nQ 2822 3834 2567 4026 \nQ 2313 4219 1838 4219 \nQ 1578 4219 1281 4162 \nQ 984 4106 628 3988 \nL 628 4550 \nQ 988 4650 1302 4700 \nQ 1616 4750 1894 4750 \nQ 2613 4750 3031 4423 \nQ 3450 4097 3450 3541 \nQ 3450 3153 3228 2886 \nQ 3006 2619 2597 2516 \nz\n\" id=\"DejaVuSans-33\" transform=\"scale(0.015625)\"/>\n       </defs>\n       <use xlink:href=\"#DejaVuSans-33\"/>\n      </g>\n     </g>\n    </g>\n    <g id=\"xtick_4\">\n     <g id=\"line2d_4\">\n      <g>\n       <use style=\"stroke:#000000;stroke-width:0.8;\" x=\"173.86012\" xlink:href=\"#mb2c7ec63a3\" y=\"225.118936\"/>\n      </g>\n     </g>\n     <g id=\"text_4\">\n      <!-- 4 -->\n      <g transform=\"translate(170.67887 239.717374)scale(0.1 -0.1)\">\n       <defs>\n        <path d=\"M 2419 4116 \nL 825 1625 \nL 2419 1625 \nL 2419 4116 \nz\nM 2253 4666 \nL 3047 4666 \nL 3047 1625 \nL 3713 1625 \nL 3713 1100 \nL 3047 1100 \nL 3047 0 \nL 2419 0 \nL 2419 1100 \nL 313 1100 \nL 313 1709 \nL 2253 4666 \nz\n\" id=\"DejaVuSans-34\" transform=\"scale(0.015625)\"/>\n       </defs>\n       <use xlink:href=\"#DejaVuSans-34\"/>\n      </g>\n     </g>\n    </g>\n    <g id=\"xtick_5\">\n     <g id=\"line2d_5\">\n      <g>\n       <use style=\"stroke:#000000;stroke-width:0.8;\" x=\"208.198582\" xlink:href=\"#mb2c7ec63a3\" y=\"225.118936\"/>\n      </g>\n     </g>\n     <g id=\"text_5\">\n      <!-- 5 -->\n      <g transform=\"translate(205.017332 239.717374)scale(0.1 -0.1)\">\n       <defs>\n        <path d=\"M 691 4666 \nL 3169 4666 \nL 3169 4134 \nL 1269 4134 \nL 1269 2991 \nQ 1406 3038 1543 3061 \nQ 1681 3084 1819 3084 \nQ 2600 3084 3056 2656 \nQ 3513 2228 3513 1497 \nQ 3513 744 3044 326 \nQ 2575 -91 1722 -91 \nQ 1428 -91 1123 -41 \nQ 819 9 494 109 \nL 494 744 \nQ 775 591 1075 516 \nQ 1375 441 1709 441 \nQ 2250 441 2565 725 \nQ 2881 1009 2881 1497 \nQ 2881 1984 2565 2268 \nQ 2250 2553 1709 2553 \nQ 1456 2553 1204 2497 \nQ 953 2441 691 2322 \nL 691 4666 \nz\n\" id=\"DejaVuSans-35\" transform=\"scale(0.015625)\"/>\n       </defs>\n       <use xlink:href=\"#DejaVuSans-35\"/>\n      </g>\n     </g>\n    </g>\n    <g id=\"xtick_6\">\n     <g id=\"line2d_6\">\n      <g>\n       <use style=\"stroke:#000000;stroke-width:0.8;\" x=\"242.537043\" xlink:href=\"#mb2c7ec63a3\" y=\"225.118936\"/>\n      </g>\n     </g>\n     <g id=\"text_6\">\n      <!-- 6 -->\n      <g transform=\"translate(239.355793 239.717374)scale(0.1 -0.1)\">\n       <defs>\n        <path d=\"M 2113 2584 \nQ 1688 2584 1439 2293 \nQ 1191 2003 1191 1497 \nQ 1191 994 1439 701 \nQ 1688 409 2113 409 \nQ 2538 409 2786 701 \nQ 3034 994 3034 1497 \nQ 3034 2003 2786 2293 \nQ 2538 2584 2113 2584 \nz\nM 3366 4563 \nL 3366 3988 \nQ 3128 4100 2886 4159 \nQ 2644 4219 2406 4219 \nQ 1781 4219 1451 3797 \nQ 1122 3375 1075 2522 \nQ 1259 2794 1537 2939 \nQ 1816 3084 2150 3084 \nQ 2853 3084 3261 2657 \nQ 3669 2231 3669 1497 \nQ 3669 778 3244 343 \nQ 2819 -91 2113 -91 \nQ 1303 -91 875 529 \nQ 447 1150 447 2328 \nQ 447 3434 972 4092 \nQ 1497 4750 2381 4750 \nQ 2619 4750 2861 4703 \nQ 3103 4656 3366 4563 \nz\n\" id=\"DejaVuSans-36\" transform=\"scale(0.015625)\"/>\n       </defs>\n       <use xlink:href=\"#DejaVuSans-36\"/>\n      </g>\n     </g>\n    </g>\n    <g id=\"xtick_7\">\n     <g id=\"line2d_7\">\n      <g>\n       <use style=\"stroke:#000000;stroke-width:0.8;\" x=\"276.875505\" xlink:href=\"#mb2c7ec63a3\" y=\"225.118936\"/>\n      </g>\n     </g>\n     <g id=\"text_7\">\n      <!-- 7 -->\n      <g transform=\"translate(273.694255 239.717374)scale(0.1 -0.1)\">\n       <defs>\n        <path d=\"M 525 4666 \nL 3525 4666 \nL 3525 4397 \nL 1831 0 \nL 1172 0 \nL 2766 4134 \nL 525 4134 \nL 525 4666 \nz\n\" id=\"DejaVuSans-37\" transform=\"scale(0.015625)\"/>\n       </defs>\n       <use xlink:href=\"#DejaVuSans-37\"/>\n      </g>\n     </g>\n    </g>\n    <g id=\"xtick_8\">\n     <g id=\"line2d_8\">\n      <g>\n       <use style=\"stroke:#000000;stroke-width:0.8;\" x=\"311.213966\" xlink:href=\"#mb2c7ec63a3\" y=\"225.118936\"/>\n      </g>\n     </g>\n     <g id=\"text_8\">\n      <!-- 8 -->\n      <g transform=\"translate(308.032716 239.717374)scale(0.1 -0.1)\">\n       <defs>\n        <path d=\"M 2034 2216 \nQ 1584 2216 1326 1975 \nQ 1069 1734 1069 1313 \nQ 1069 891 1326 650 \nQ 1584 409 2034 409 \nQ 2484 409 2743 651 \nQ 3003 894 3003 1313 \nQ 3003 1734 2745 1975 \nQ 2488 2216 2034 2216 \nz\nM 1403 2484 \nQ 997 2584 770 2862 \nQ 544 3141 544 3541 \nQ 544 4100 942 4425 \nQ 1341 4750 2034 4750 \nQ 2731 4750 3128 4425 \nQ 3525 4100 3525 3541 \nQ 3525 3141 3298 2862 \nQ 3072 2584 2669 2484 \nQ 3125 2378 3379 2068 \nQ 3634 1759 3634 1313 \nQ 3634 634 3220 271 \nQ 2806 -91 2034 -91 \nQ 1263 -91 848 271 \nQ 434 634 434 1313 \nQ 434 1759 690 2068 \nQ 947 2378 1403 2484 \nz\nM 1172 3481 \nQ 1172 3119 1398 2916 \nQ 1625 2713 2034 2713 \nQ 2441 2713 2670 2916 \nQ 2900 3119 2900 3481 \nQ 2900 3844 2670 4047 \nQ 2441 4250 2034 4250 \nQ 1625 4250 1398 4047 \nQ 1172 3844 1172 3481 \nz\n\" id=\"DejaVuSans-38\" transform=\"scale(0.015625)\"/>\n       </defs>\n       <use xlink:href=\"#DejaVuSans-38\"/>\n      </g>\n     </g>\n    </g>\n    <g id=\"xtick_9\">\n     <g id=\"line2d_9\">\n      <g>\n       <use style=\"stroke:#000000;stroke-width:0.8;\" x=\"345.552428\" xlink:href=\"#mb2c7ec63a3\" y=\"225.118936\"/>\n      </g>\n     </g>\n     <g id=\"text_9\">\n      <!-- 9 -->\n      <g transform=\"translate(342.371178 239.717374)scale(0.1 -0.1)\">\n       <defs>\n        <path d=\"M 703 97 \nL 703 672 \nQ 941 559 1184 500 \nQ 1428 441 1663 441 \nQ 2288 441 2617 861 \nQ 2947 1281 2994 2138 \nQ 2813 1869 2534 1725 \nQ 2256 1581 1919 1581 \nQ 1219 1581 811 2004 \nQ 403 2428 403 3163 \nQ 403 3881 828 4315 \nQ 1253 4750 1959 4750 \nQ 2769 4750 3195 4129 \nQ 3622 3509 3622 2328 \nQ 3622 1225 3098 567 \nQ 2575 -91 1691 -91 \nQ 1453 -91 1209 -44 \nQ 966 3 703 97 \nz\nM 1959 2075 \nQ 2384 2075 2632 2365 \nQ 2881 2656 2881 3163 \nQ 2881 3666 2632 3958 \nQ 2384 4250 1959 4250 \nQ 1534 4250 1286 3958 \nQ 1038 3666 1038 3163 \nQ 1038 2656 1286 2365 \nQ 1534 2075 1959 2075 \nz\n\" id=\"DejaVuSans-39\" transform=\"scale(0.015625)\"/>\n       </defs>\n       <use xlink:href=\"#DejaVuSans-39\"/>\n      </g>\n     </g>\n    </g>\n    <g id=\"xtick_10\">\n     <g id=\"line2d_10\">\n      <g>\n       <use style=\"stroke:#000000;stroke-width:0.8;\" x=\"379.890889\" xlink:href=\"#mb2c7ec63a3\" y=\"225.118936\"/>\n      </g>\n     </g>\n     <g id=\"text_10\">\n      <!-- 10 -->\n      <g transform=\"translate(373.528389 239.717374)scale(0.1 -0.1)\">\n       <defs>\n        <path d=\"M 2034 4250 \nQ 1547 4250 1301 3770 \nQ 1056 3291 1056 2328 \nQ 1056 1369 1301 889 \nQ 1547 409 2034 409 \nQ 2525 409 2770 889 \nQ 3016 1369 3016 2328 \nQ 3016 3291 2770 3770 \nQ 2525 4250 2034 4250 \nz\nM 2034 4750 \nQ 2819 4750 3233 4129 \nQ 3647 3509 3647 2328 \nQ 3647 1150 3233 529 \nQ 2819 -91 2034 -91 \nQ 1250 -91 836 529 \nQ 422 1150 422 2328 \nQ 422 3509 836 4129 \nQ 1250 4750 2034 4750 \nz\n\" id=\"DejaVuSans-30\" transform=\"scale(0.015625)\"/>\n       </defs>\n       <use xlink:href=\"#DejaVuSans-31\"/>\n       <use x=\"63.623047\" xlink:href=\"#DejaVuSans-30\"/>\n      </g>\n     </g>\n    </g>\n    <g id=\"text_11\">\n     <!-- $i$ -->\n     <g transform=\"translate(223.127813 257.954561)scale(0.16 -0.16)\">\n      <defs>\n       <path d=\"M 1172 4863 \nL 1747 4863 \nL 1606 4134 \nL 1031 4134 \nL 1172 4863 \nz\nM 909 3500 \nL 1484 3500 \nL 800 0 \nL 225 0 \nL 909 3500 \nz\n\" id=\"DejaVuSans-Oblique-69\" transform=\"scale(0.015625)\"/>\n      </defs>\n      <use transform=\"translate(0 0.015625)\" xlink:href=\"#DejaVuSans-Oblique-69\"/>\n     </g>\n    </g>\n   </g>\n   <g id=\"matplotlib.axis_2\">\n    <g id=\"ytick_1\">\n     <g id=\"line2d_11\">\n      <defs>\n       <path d=\"M 0 0 \nL -3.5 0 \n\" id=\"m0611a96d1a\" style=\"stroke:#000000;stroke-width:0.8;\"/>\n      </defs>\n      <g>\n       <use style=\"stroke:#000000;stroke-width:0.8;\" x=\"57.967813\" xlink:href=\"#m0611a96d1a\" y=\"214.680938\"/>\n      </g>\n     </g>\n     <g id=\"text_12\">\n      <!-- −0.4 -->\n      <g transform=\"translate(26.685 218.480157)scale(0.1 -0.1)\">\n       <defs>\n        <path d=\"M 678 2272 \nL 4684 2272 \nL 4684 1741 \nL 678 1741 \nL 678 2272 \nz\n\" id=\"DejaVuSans-2212\" transform=\"scale(0.015625)\"/>\n        <path d=\"M 684 794 \nL 1344 794 \nL 1344 0 \nL 684 0 \nL 684 794 \nz\n\" id=\"DejaVuSans-2e\" transform=\"scale(0.015625)\"/>\n       </defs>\n       <use xlink:href=\"#DejaVuSans-2212\"/>\n       <use x=\"83.789062\" xlink:href=\"#DejaVuSans-30\"/>\n       <use x=\"147.412109\" xlink:href=\"#DejaVuSans-2e\"/>\n       <use x=\"179.199219\" xlink:href=\"#DejaVuSans-34\"/>\n      </g>\n     </g>\n    </g>\n    <g id=\"ytick_2\">\n     <g id=\"line2d_12\">\n      <g>\n       <use style=\"stroke:#000000;stroke-width:0.8;\" x=\"57.967813\" xlink:href=\"#m0611a96d1a\" y=\"185.583549\"/>\n      </g>\n     </g>\n     <g id=\"text_13\">\n      <!-- −0.2 -->\n      <g transform=\"translate(26.685 189.382768)scale(0.1 -0.1)\">\n       <use xlink:href=\"#DejaVuSans-2212\"/>\n       <use x=\"83.789062\" xlink:href=\"#DejaVuSans-30\"/>\n       <use x=\"147.412109\" xlink:href=\"#DejaVuSans-2e\"/>\n       <use x=\"179.199219\" xlink:href=\"#DejaVuSans-32\"/>\n      </g>\n     </g>\n    </g>\n    <g id=\"ytick_3\">\n     <g id=\"line2d_13\">\n      <g>\n       <use style=\"stroke:#000000;stroke-width:0.8;\" x=\"57.967813\" xlink:href=\"#m0611a96d1a\" y=\"156.486161\"/>\n      </g>\n     </g>\n     <g id=\"text_14\">\n      <!-- 0.0 -->\n      <g transform=\"translate(35.064687 160.28538)scale(0.1 -0.1)\">\n       <use xlink:href=\"#DejaVuSans-30\"/>\n       <use x=\"63.623047\" xlink:href=\"#DejaVuSans-2e\"/>\n       <use x=\"95.410156\" xlink:href=\"#DejaVuSans-30\"/>\n      </g>\n     </g>\n    </g>\n    <g id=\"ytick_4\">\n     <g id=\"line2d_14\">\n      <g>\n       <use style=\"stroke:#000000;stroke-width:0.8;\" x=\"57.967813\" xlink:href=\"#m0611a96d1a\" y=\"127.388773\"/>\n      </g>\n     </g>\n     <g id=\"text_15\">\n      <!-- 0.2 -->\n      <g transform=\"translate(35.064687 131.187991)scale(0.1 -0.1)\">\n       <use xlink:href=\"#DejaVuSans-30\"/>\n       <use x=\"63.623047\" xlink:href=\"#DejaVuSans-2e\"/>\n       <use x=\"95.410156\" xlink:href=\"#DejaVuSans-32\"/>\n      </g>\n     </g>\n    </g>\n    <g id=\"ytick_5\">\n     <g id=\"line2d_15\">\n      <g>\n       <use style=\"stroke:#000000;stroke-width:0.8;\" x=\"57.967813\" xlink:href=\"#m0611a96d1a\" y=\"98.291384\"/>\n      </g>\n     </g>\n     <g id=\"text_16\">\n      <!-- 0.4 -->\n      <g transform=\"translate(35.064687 102.090603)scale(0.1 -0.1)\">\n       <use xlink:href=\"#DejaVuSans-30\"/>\n       <use x=\"63.623047\" xlink:href=\"#DejaVuSans-2e\"/>\n       <use x=\"95.410156\" xlink:href=\"#DejaVuSans-34\"/>\n      </g>\n     </g>\n    </g>\n    <g id=\"ytick_6\">\n     <g id=\"line2d_16\">\n      <g>\n       <use style=\"stroke:#000000;stroke-width:0.8;\" x=\"57.967813\" xlink:href=\"#m0611a96d1a\" y=\"69.193996\"/>\n      </g>\n     </g>\n     <g id=\"text_17\">\n      <!-- 0.6 -->\n      <g transform=\"translate(35.064687 72.993214)scale(0.1 -0.1)\">\n       <use xlink:href=\"#DejaVuSans-30\"/>\n       <use x=\"63.623047\" xlink:href=\"#DejaVuSans-2e\"/>\n       <use x=\"95.410156\" xlink:href=\"#DejaVuSans-36\"/>\n      </g>\n     </g>\n    </g>\n    <g id=\"ytick_7\">\n     <g id=\"line2d_17\">\n      <g>\n       <use style=\"stroke:#000000;stroke-width:0.8;\" x=\"57.967813\" xlink:href=\"#m0611a96d1a\" y=\"40.096607\"/>\n      </g>\n     </g>\n     <g id=\"text_18\">\n      <!-- 0.8 -->\n      <g transform=\"translate(35.064687 43.895826)scale(0.1 -0.1)\">\n       <use xlink:href=\"#DejaVuSans-30\"/>\n       <use x=\"63.623047\" xlink:href=\"#DejaVuSans-2e\"/>\n       <use x=\"95.410156\" xlink:href=\"#DejaVuSans-38\"/>\n      </g>\n     </g>\n    </g>\n    <g id=\"ytick_8\">\n     <g id=\"line2d_18\">\n      <g>\n       <use style=\"stroke:#000000;stroke-width:0.8;\" x=\"57.967813\" xlink:href=\"#m0611a96d1a\" y=\"10.999219\"/>\n      </g>\n     </g>\n     <g id=\"text_19\">\n      <!-- 1.0 -->\n      <g transform=\"translate(35.064687 14.798437)scale(0.1 -0.1)\">\n       <use xlink:href=\"#DejaVuSans-31\"/>\n       <use x=\"63.623047\" xlink:href=\"#DejaVuSans-2e\"/>\n       <use x=\"95.410156\" xlink:href=\"#DejaVuSans-30\"/>\n      </g>\n     </g>\n    </g>\n    <g id=\"text_20\">\n     <!-- $w_i$ -->\n     <g transform=\"translate(19.3575 124.718936)rotate(-90)scale(0.16 -0.16)\">\n      <defs>\n       <path d=\"M 544 3500 \nL 1113 3500 \nL 1259 684 \nL 2566 3500 \nL 3231 3500 \nL 3425 684 \nL 4666 3500 \nL 5241 3500 \nL 3641 0 \nL 2969 0 \nL 2797 2900 \nL 1459 0 \nL 781 0 \nL 544 3500 \nz\n\" id=\"DejaVuSans-Oblique-77\" transform=\"scale(0.015625)\"/>\n      </defs>\n      <use transform=\"translate(0 0.3125)\" xlink:href=\"#DejaVuSans-Oblique-77\"/>\n      <use transform=\"translate(81.787109 -16.09375)scale(0.7)\" xlink:href=\"#DejaVuSans-Oblique-69\"/>\n     </g>\n    </g>\n   </g>\n   <g id=\"patch_33\">\n    <path d=\"M 57.967813 225.118936 \nL 57.967813 7.678936 \n\" style=\"fill:none;stroke:#000000;stroke-linecap:square;stroke-linejoin:miter;stroke-width:0.8;\"/>\n   </g>\n   <g id=\"patch_34\">\n    <path d=\"M 392.767812 225.118936 \nL 392.767812 7.678936 \n\" style=\"fill:none;stroke:#000000;stroke-linecap:square;stroke-linejoin:miter;stroke-width:0.8;\"/>\n   </g>\n   <g id=\"patch_35\">\n    <path d=\"M 57.967813 225.118936 \nL 392.767812 225.118936 \n\" style=\"fill:none;stroke:#000000;stroke-linecap:square;stroke-linejoin:miter;stroke-width:0.8;\"/>\n   </g>\n   <g id=\"patch_36\">\n    <path d=\"M 57.967813 7.678936 \nL 392.767812 7.678936 \n\" style=\"fill:none;stroke:#000000;stroke-linecap:square;stroke-linejoin:miter;stroke-width:0.8;\"/>\n   </g>\n  </g>\n </g>\n <defs>\n  <clipPath id=\"p1c60618c47\">\n   <rect height=\"217.44\" width=\"334.8\" x=\"57.967813\" y=\"7.678936\"/>\n  </clipPath>\n </defs>\n</svg>\n",
            "text/plain": [
              "<Figure size 432x288 with 1 Axes>"
            ]
          },
          "metadata": {
            "needs_background": "light"
          },
          "output_type": "display_data"
        }
      ],
      "source": [
        "# Plot bar graph of holdings for different leverage limits.\n",
        "colors = ['b', 'g', 'r']\n",
        "indices = np.argsort(mu.flatten())\n",
        "for idx, L_val in enumerate(L_vals):\n",
        "     plt.bar(np.arange(1,n+1) + 0.25*idx - 0.375, w_vals[idx][indices], color=colors[idx], \n",
        "             label=r\"$L^{\\max}$ = %d\" % L_val, width = 0.25)\n",
        "plt.ylabel(r\"$w_i$\", fontsize=16)\n",
        "plt.xlabel(r\"$i$\", fontsize=16)\n",
        "plt.xlim([1-0.375, 10+.375])\n",
        "plt.xticks(np.arange(1,n+1))\n",
        "plt.show()"
      ]
    },
    {
      "cell_type": "markdown",
      "metadata": {
        "id": "pR2h6Psoj0tb"
      },
      "source": [
        "### Variations\n",
        "\n",
        "There are many more variations of classical portfolio optimization. We might require that $\\mu^T w \\geq R^\\mathrm{min}$ and minimize $w^T \\Sigma w$ or $\\|\\Sigma ^{1/2} w\\|_2$.\n",
        "We could include the (broker) cost of short positions as the penalty $s^T (w)_-$ for some $s \\geq 0$.\n",
        "We could include transaction costs (from a previous portfolio $w^\\mathrm{prev}$) as the penalty\n",
        "\n",
        "$$\n",
        "\\kappa ^T |w-w^\\mathrm{prev}|^\\eta, \\quad\n",
        "\\kappa \\geq 0.\n",
        "$$\n",
        "\n",
        "\n",
        "Common values of $\\eta$ are $\\eta =1, ~ 3/2, ~2$.\n"
      ]
    },
    {
      "cell_type": "markdown",
      "metadata": {
        "id": "sSHtkEYIj0tb"
      },
      "source": [
        "### Factor covariance model\n",
        "\n",
        "A particularly common and useful variation is to model the covariance matrix $\\Sigma$ as a factor model\n",
        "\n",
        "$$\n",
        "\\Sigma  =  F \\tilde \\Sigma F^T + D,\n",
        "$$\n",
        "\n",
        "where  $F \\in {\\bf R}^{n \\times k}$, $k \\ll n$ is the *factor loading matrix*. $k$ is the number of factors (or sectors) (typically 10s). $F_{ij}$ is the loading of asset $i$ to factor $j$.\n",
        "$D$ is a diagonal matrix; $D_{ii}>0$ is the *idiosyncratic risk*. $\\tilde \\Sigma > 0$ is the *factor covariance matrix*.\n",
        "\n",
        "$F^Tw \\in {\\bf R}^k$ gives the portfolio *factor exposures*. A portfolio is *factor $j$ neutral* if $(F^Tw)_j=0$.\n"
      ]
    },
    {
      "cell_type": "markdown",
      "metadata": {
        "id": "uhAklevcj0td"
      },
      "source": [
        "### Portfolio optimization with factor covariance model\n",
        "\n",
        "Using the factor covariance model, we frame the portfolio optimization problem as \n",
        "\n",
        "\\begin{array}{ll} \\mbox{maximize} & \\mu^T w - \\gamma \\left(f^T \\tilde \\Sigma f  + w^TDw \\right) \\\\\n",
        "\\mbox{subject to} & {\\bf 1}^T w = 1, \\quad f=F^Tw\\\\\n",
        "& w \\in {\\cal W}, \\quad f \\in {\\cal F},\n",
        "\\end{array}\n",
        "\n",
        "where the variables are the allocations $w \\in {\\bf R}^n$ and factor exposures $f\\in {\\bf R}^k$ and $\\cal F$ gives the factor exposure constraints.\n",
        "\n",
        "Using the factor covariance model in the optimization problem has a computational advantage. The solve time is $O(nk^2)$ versus $O(n^3)$ for the standard problem."
      ]
    },
    {
      "cell_type": "markdown",
      "metadata": {
        "id": "rB14Vq3pj0td"
      },
      "source": [
        "### Example\n",
        "\n",
        "In the following code we generate and solve a portfolio optimization problem with 50 factors and 3000 assets.\n",
        "We set the leverage limit $=2$ and $\\gamma=0.1$.\n",
        "\n",
        "We solve the problem both with the covariance given as a single matrix and as a factor model.\n",
        "Using CVXPY with the OSQP solver running in a single thread, the solve time was 173.30 seconds for the single matrix formulation and 0.85 seconds for the factor model formulation.\n",
        "We collected the timings on a MacBook Air with an Intel Core i7 processor."
      ]
    },
    {
      "cell_type": "code",
      "execution_count": 12,
      "metadata": {
        "id": "ts4IHiJpj0te"
      },
      "outputs": [],
      "source": [
        "# Generate data for factor model.\n",
        "n = 3000\n",
        "m = 50\n",
        "np.random.seed(1)\n",
        "mu = np.abs(np.random.randn(n, 1))\n",
        "Sigma_tilde = np.random.randn(m, m)\n",
        "Sigma_tilde = Sigma_tilde.T.dot(Sigma_tilde)\n",
        "D = np.diag(np.random.uniform(0, 0.9, size=n))\n",
        "F = np.random.randn(n, m)"
      ]
    },
    {
      "cell_type": "code",
      "execution_count": 13,
      "metadata": {
        "colab": {
          "base_uri": "https://localhost:8080/"
        },
        "id": "8eyurXu2j0te",
        "outputId": "cf4ac8b8-89f4-4bcd-af21-7d1bc2038950"
      },
      "outputs": [
        {
          "name": "stdout",
          "output_type": "stream",
          "text": [
            "===============================================================================\n",
            "                                     CVXPY                                     \n",
            "                                     v1.2.0                                    \n",
            "===============================================================================\n",
            "(CVXPY) Mar 24 01:37:32 PM: Your problem has 3000 variables, 2 constraints, and 2 parameters.\n"
          ]
        },
        {
          "name": "stderr",
          "output_type": "stream",
          "text": [
            "/Users/bratishka/anaconda3/lib/python3.9/site-packages/cvxpy/expressions/expression.py:593: UserWarning: \n",
            "This use of ``*`` has resulted in matrix multiplication.\n",
            "Using ``*`` for matrix multiplication has been deprecated since CVXPY 1.1.\n",
            "    Use ``*`` for matrix-scalar and vector-scalar multiplication.\n",
            "    Use ``@`` for matrix-matrix and matrix-vector multiplication.\n",
            "    Use ``multiply`` for elementwise multiplication.\n",
            "This code path has been hit 1 times so far.\n",
            "\n",
            "  warnings.warn(msg, UserWarning)\n",
            "/Users/bratishka/anaconda3/lib/python3.9/site-packages/cvxpy/expressions/expression.py:593: UserWarning: \n",
            "This use of ``*`` has resulted in matrix multiplication.\n",
            "Using ``*`` for matrix multiplication has been deprecated since CVXPY 1.1.\n",
            "    Use ``*`` for matrix-scalar and vector-scalar multiplication.\n",
            "    Use ``@`` for matrix-matrix and matrix-vector multiplication.\n",
            "    Use ``multiply`` for elementwise multiplication.\n",
            "This code path has been hit 2 times so far.\n",
            "\n",
            "  warnings.warn(msg, UserWarning)\n"
          ]
        },
        {
          "name": "stdout",
          "output_type": "stream",
          "text": [
            "(CVXPY) Mar 24 01:37:32 PM: It is compliant with the following grammars: DCP, DQCP\n",
            "(CVXPY) Mar 24 01:37:32 PM: CVXPY will first compile your problem; then, it will invoke a numerical solver to obtain a solution.\n",
            "-------------------------------------------------------------------------------\n",
            "                                  Compilation                                  \n",
            "-------------------------------------------------------------------------------\n",
            "(CVXPY) Mar 24 01:37:32 PM: Compiling problem (target solver=OSQP).\n",
            "(CVXPY) Mar 24 01:37:32 PM: Reduction chain: FlipObjective -> CvxAttr2Constr -> Qp2SymbolicQp -> QpMatrixStuffing -> OSQP\n",
            "(CVXPY) Mar 24 01:37:32 PM: Applying reduction FlipObjective\n",
            "(CVXPY) Mar 24 01:37:32 PM: Applying reduction CvxAttr2Constr\n",
            "(CVXPY) Mar 24 01:37:32 PM: Applying reduction Qp2SymbolicQp\n",
            "(CVXPY) Mar 24 01:37:32 PM: Applying reduction QpMatrixStuffing\n",
            "(CVXPY) Mar 24 01:37:32 PM: Applying reduction OSQP\n",
            "(CVXPY) Mar 24 01:37:32 PM: Finished problem compilation (took 1.373e-01 seconds).\n",
            "(CVXPY) Mar 24 01:37:32 PM: (Subsequent compilations of this problem, using the same arguments, should take less time.)\n",
            "-------------------------------------------------------------------------------\n",
            "                                Numerical solver                               \n",
            "-------------------------------------------------------------------------------\n",
            "(CVXPY) Mar 24 01:37:32 PM: Invoking solver OSQP  to obtain a solution.\n",
            "-----------------------------------------------------------------\n",
            "           OSQP v0.6.2  -  Operator Splitting QP Solver\n",
            "              (c) Bartolomeo Stellato,  Goran Banjac\n",
            "        University of Oxford  -  Stanford University 2021\n",
            "-----------------------------------------------------------------\n",
            "problem:  variables n = 6050, constraints m = 6052\n",
            "          nnz(P) + nnz(A) = 172325\n",
            "settings: linear system solver = qdldl,\n",
            "          eps_abs = 1.0e-05, eps_rel = 1.0e-05,\n",
            "          eps_prim_inf = 1.0e-04, eps_dual_inf = 1.0e-04,\n",
            "          rho = 1.00e-01 (adaptive),\n",
            "          sigma = 1.00e-06, alpha = 1.60, max_iter = 10000\n",
            "          check_termination: on (interval 25),\n",
            "          scaling: on, scaled_termination: off\n",
            "          warm start: on, polish: on, time_limit: off\n",
            "\n",
            "iter   objective    pri res    dua res    rho        time\n",
            "   1  -2.1359e+03   7.63e+00   3.73e+02   1.00e-01   2.21e-02s\n",
            " 200  -4.1946e+00   1.59e-03   7.86e-03   3.60e-01   1.83e-01s\n",
            " 400  -4.6288e+00   3.02e-04   6.01e-04   3.60e-01   3.20e-01s\n",
            " 600  -4.6444e+00   2.20e-04   7.87e-04   3.60e-01   4.57e-01s\n",
            " 800  -4.6230e+00   1.09e-04   3.70e-04   3.60e-01   5.94e-01s\n",
            "1000  -4.6223e+00   8.59e-05   1.04e-04   3.60e-01   7.31e-01s\n",
            "1200  -4.6205e+00   8.56e-05   9.35e-06   3.60e-01   8.67e-01s\n",
            "1400  -4.6123e+00   6.44e-05   1.54e-04   3.60e-01   1.00e+00s\n",
            "1575  -4.6064e+00   2.97e-05   4.06e-05   3.60e-01   1.12e+00s\n",
            "\n",
            "status:               solved\n",
            "solution polish:      unsuccessful\n",
            "number of iterations: 1575\n",
            "optimal objective:    -4.6064\n",
            "run time:             1.14e+00s\n",
            "optimal rho estimate: 3.87e-01\n",
            "\n",
            "-------------------------------------------------------------------------------\n",
            "                                    Summary                                    \n",
            "-------------------------------------------------------------------------------\n",
            "(CVXPY) Mar 24 01:37:33 PM: Problem status: optimal\n",
            "(CVXPY) Mar 24 01:37:33 PM: Optimal value: 4.606e+00\n",
            "(CVXPY) Mar 24 01:37:33 PM: Compilation took 1.373e-01 seconds\n",
            "(CVXPY) Mar 24 01:37:33 PM: Solver (including time spent in interface) took 1.147e+00 seconds\n"
          ]
        },
        {
          "data": {
            "text/plain": [
              "4.606413077728827"
            ]
          },
          "execution_count": 13,
          "metadata": {},
          "output_type": "execute_result"
        }
      ],
      "source": [
        "# Factor model portfolio optimization.\n",
        "w = cp.Variable(n)\n",
        "f = F.T*w\n",
        "gamma = cp.Parameter(nonneg=True)\n",
        "Lmax = cp.Parameter()\n",
        "ret = mu.T*w \n",
        "risk = cp.quad_form(f, Sigma_tilde) + cp.quad_form(w, D)\n",
        "prob_factor = cp.Problem(cp.Maximize(ret - gamma*risk), \n",
        "                     [cp.sum(w) == 1, \n",
        "                      cp.norm(w, 1) <= Lmax])\n",
        "\n",
        "# Solve the factor model problem.\n",
        "Lmax.value = 2\n",
        "gamma.value = 0.1\n",
        "prob_factor.solve(verbose=True)"
      ]
    },
    {
      "cell_type": "code",
      "execution_count": null,
      "metadata": {
        "colab": {
          "base_uri": "https://localhost:8080/"
        },
        "id": "NaQ5KsSuj0te",
        "outputId": "7de41c4e-ffc7-48b5-ced0-e51c5a1a725a"
      },
      "outputs": [],
      "source": [
        "# Standard portfolio optimization with data from factor model.\n",
        "risk = cp.quad_form(w, F.dot(Sigma_tilde).dot(F.T) + D)\n",
        "prob = cp.Problem(cp.Maximize(ret - gamma*risk), \n",
        "               [cp.sum(w) == 1, \n",
        "                cp.norm(w, 1) <= Lmax])\n",
        "\n",
        "# Uncomment to solve the problem.\n",
        "# WARNING: this will take many minutes to run.\n",
        "prob.solve(verbose=True, max_iter=30000, solver = cp.OSQP)"
      ]
    },
    {
      "cell_type": "code",
      "execution_count": 22,
      "metadata": {
        "colab": {
          "base_uri": "https://localhost:8080/"
        },
        "id": "QYXEOv9Gj0tf",
        "outputId": "8575865c-3e26-4acb-eed1-a0515331f3cd"
      },
      "outputs": [
        {
          "name": "stdout",
          "output_type": "stream",
          "text": [
            "Factor model solve time = 2.1817036670000003\n",
            "Single model solve time = 447.57964334400003\n"
          ]
        }
      ],
      "source": [
        "print('Factor model solve time = {}'.format(prob_factor.solver_stats.solve_time))\n",
        "print('Single model solve time = {}'.format(prob.solver_stats.solve_time))"
      ]
    },
    {
      "cell_type": "markdown",
      "metadata": {
        "id": "Xtm3H_kBfekV"
      },
      "source": [
        "## Materials\n",
        "* [Portfolio Optimization Algo Trading colab notebook](https://colab.research.google.com/drive/1nN5yOB3ZFXKxq4y9WwzCVTV1i_BVpfAD#scrollTo=5hQgHpjM87r4)\n",
        "* [Multi objective portfolio optimization](https://colab.research.google.com/github/Hvass-Labs/FinanceOps/blob/master/04_Multi-Objective_Portfolio_Optimization.ipynb#scrollTo=84UWnvT9iA4p)"
      ]
    }
  ],
  "metadata": {
    "colab": {
      "collapsed_sections": [],
      "name": "Portfolio optimization.ipynb",
      "provenance": []
    },
    "kernelspec": {
      "display_name": "Python 3",
      "name": "python3"
    },
    "language_info": {
      "codemirror_mode": {
        "name": "ipython",
        "version": 3
      },
      "file_extension": ".py",
      "mimetype": "text/x-python",
      "name": "python",
      "nbconvert_exporter": "python",
      "pygments_lexer": "ipython3",
      "version": "3.9.7"
    },
    "widgets": {
      "application/vnd.jupyter.widget-state+json": {
        "086d2b30425140f599240c6c7c25573c": {
          "model_module": "@jupyter-widgets/controls",
          "model_module_version": "1.5.0",
          "model_name": "FloatProgressModel",
          "state": {
            "_dom_classes": [],
            "_model_module": "@jupyter-widgets/controls",
            "_model_module_version": "1.5.0",
            "_model_name": "FloatProgressModel",
            "_view_count": null,
            "_view_module": "@jupyter-widgets/controls",
            "_view_module_version": "1.5.0",
            "_view_name": "ProgressView",
            "bar_style": "success",
            "description": "",
            "description_tooltip": null,
            "layout": "IPY_MODEL_fea835ff7bab49dc92d481851dcae452",
            "max": 100,
            "min": 0,
            "orientation": "horizontal",
            "style": "IPY_MODEL_5817c1c0cc384b23822d543a2b95b9ce",
            "value": 100
          }
        },
        "0c4737f1c96e4164b9af402523f48f77": {
          "model_module": "@jupyter-widgets/base",
          "model_module_version": "1.2.0",
          "model_name": "LayoutModel",
          "state": {
            "_model_module": "@jupyter-widgets/base",
            "_model_module_version": "1.2.0",
            "_model_name": "LayoutModel",
            "_view_count": null,
            "_view_module": "@jupyter-widgets/base",
            "_view_module_version": "1.2.0",
            "_view_name": "LayoutView",
            "align_content": null,
            "align_items": null,
            "align_self": null,
            "border": null,
            "bottom": null,
            "display": null,
            "flex": null,
            "flex_flow": null,
            "grid_area": null,
            "grid_auto_columns": null,
            "grid_auto_flow": null,
            "grid_auto_rows": null,
            "grid_column": null,
            "grid_gap": null,
            "grid_row": null,
            "grid_template_areas": null,
            "grid_template_columns": null,
            "grid_template_rows": null,
            "height": null,
            "justify_content": null,
            "justify_items": null,
            "left": null,
            "margin": null,
            "max_height": null,
            "max_width": null,
            "min_height": null,
            "min_width": null,
            "object_fit": null,
            "object_position": null,
            "order": null,
            "overflow": null,
            "overflow_x": null,
            "overflow_y": null,
            "padding": null,
            "right": null,
            "top": null,
            "visibility": null,
            "width": null
          }
        },
        "17ecf2104e104d95bb2d8befa793f526": {
          "model_module": "@jupyter-widgets/controls",
          "model_module_version": "1.5.0",
          "model_name": "HBoxModel",
          "state": {
            "_dom_classes": [],
            "_model_module": "@jupyter-widgets/controls",
            "_model_module_version": "1.5.0",
            "_model_name": "HBoxModel",
            "_view_count": null,
            "_view_module": "@jupyter-widgets/controls",
            "_view_module_version": "1.5.0",
            "_view_name": "HBoxView",
            "box_style": "",
            "children": [
              "IPY_MODEL_585e0f7f09294cfeb32010d8925c8dff",
              "IPY_MODEL_086d2b30425140f599240c6c7c25573c",
              "IPY_MODEL_ff2d955cd9de4b9b928b73b2646ce71a"
            ],
            "layout": "IPY_MODEL_36e1d18689d34dcebb2a4aa5d174887f"
          }
        },
        "36e1d18689d34dcebb2a4aa5d174887f": {
          "model_module": "@jupyter-widgets/base",
          "model_module_version": "1.2.0",
          "model_name": "LayoutModel",
          "state": {
            "_model_module": "@jupyter-widgets/base",
            "_model_module_version": "1.2.0",
            "_model_name": "LayoutModel",
            "_view_count": null,
            "_view_module": "@jupyter-widgets/base",
            "_view_module_version": "1.2.0",
            "_view_name": "LayoutView",
            "align_content": null,
            "align_items": null,
            "align_self": null,
            "border": null,
            "bottom": null,
            "display": null,
            "flex": null,
            "flex_flow": null,
            "grid_area": null,
            "grid_auto_columns": null,
            "grid_auto_flow": null,
            "grid_auto_rows": null,
            "grid_column": null,
            "grid_gap": null,
            "grid_row": null,
            "grid_template_areas": null,
            "grid_template_columns": null,
            "grid_template_rows": null,
            "height": null,
            "justify_content": null,
            "justify_items": null,
            "left": null,
            "margin": null,
            "max_height": null,
            "max_width": null,
            "min_height": null,
            "min_width": null,
            "object_fit": null,
            "object_position": null,
            "order": null,
            "overflow": null,
            "overflow_x": null,
            "overflow_y": null,
            "padding": null,
            "right": null,
            "top": null,
            "visibility": null,
            "width": null
          }
        },
        "3e9f1a1ce2f9468aa954a86cc8d5c8a5": {
          "model_module": "@jupyter-widgets/base",
          "model_module_version": "1.2.0",
          "model_name": "LayoutModel",
          "state": {
            "_model_module": "@jupyter-widgets/base",
            "_model_module_version": "1.2.0",
            "_model_name": "LayoutModel",
            "_view_count": null,
            "_view_module": "@jupyter-widgets/base",
            "_view_module_version": "1.2.0",
            "_view_name": "LayoutView",
            "align_content": null,
            "align_items": null,
            "align_self": null,
            "border": null,
            "bottom": null,
            "display": null,
            "flex": null,
            "flex_flow": null,
            "grid_area": null,
            "grid_auto_columns": null,
            "grid_auto_flow": null,
            "grid_auto_rows": null,
            "grid_column": null,
            "grid_gap": null,
            "grid_row": null,
            "grid_template_areas": null,
            "grid_template_columns": null,
            "grid_template_rows": null,
            "height": null,
            "justify_content": null,
            "justify_items": null,
            "left": null,
            "margin": null,
            "max_height": null,
            "max_width": null,
            "min_height": null,
            "min_width": null,
            "object_fit": null,
            "object_position": null,
            "order": null,
            "overflow": null,
            "overflow_x": null,
            "overflow_y": null,
            "padding": null,
            "right": null,
            "top": null,
            "visibility": null,
            "width": null
          }
        },
        "57e1ad61a7a74da4a2d3294ca3e7dbfe": {
          "model_module": "@jupyter-widgets/controls",
          "model_module_version": "1.5.0",
          "model_name": "DescriptionStyleModel",
          "state": {
            "_model_module": "@jupyter-widgets/controls",
            "_model_module_version": "1.5.0",
            "_model_name": "DescriptionStyleModel",
            "_view_count": null,
            "_view_module": "@jupyter-widgets/base",
            "_view_module_version": "1.2.0",
            "_view_name": "StyleView",
            "description_width": ""
          }
        },
        "5817c1c0cc384b23822d543a2b95b9ce": {
          "model_module": "@jupyter-widgets/controls",
          "model_module_version": "1.5.0",
          "model_name": "ProgressStyleModel",
          "state": {
            "_model_module": "@jupyter-widgets/controls",
            "_model_module_version": "1.5.0",
            "_model_name": "ProgressStyleModel",
            "_view_count": null,
            "_view_module": "@jupyter-widgets/base",
            "_view_module_version": "1.2.0",
            "_view_name": "StyleView",
            "bar_color": null,
            "description_width": ""
          }
        },
        "585e0f7f09294cfeb32010d8925c8dff": {
          "model_module": "@jupyter-widgets/controls",
          "model_module_version": "1.5.0",
          "model_name": "HTMLModel",
          "state": {
            "_dom_classes": [],
            "_model_module": "@jupyter-widgets/controls",
            "_model_module_version": "1.5.0",
            "_model_name": "HTMLModel",
            "_view_count": null,
            "_view_module": "@jupyter-widgets/controls",
            "_view_module_version": "1.5.0",
            "_view_name": "HTMLView",
            "description": "",
            "description_tooltip": null,
            "layout": "IPY_MODEL_0c4737f1c96e4164b9af402523f48f77",
            "placeholder": "​",
            "style": "IPY_MODEL_c1d3a4f9f9e84502bc6ce656c4b10db7",
            "value": "100%"
          }
        },
        "c1d3a4f9f9e84502bc6ce656c4b10db7": {
          "model_module": "@jupyter-widgets/controls",
          "model_module_version": "1.5.0",
          "model_name": "DescriptionStyleModel",
          "state": {
            "_model_module": "@jupyter-widgets/controls",
            "_model_module_version": "1.5.0",
            "_model_name": "DescriptionStyleModel",
            "_view_count": null,
            "_view_module": "@jupyter-widgets/base",
            "_view_module_version": "1.2.0",
            "_view_name": "StyleView",
            "description_width": ""
          }
        },
        "fea835ff7bab49dc92d481851dcae452": {
          "model_module": "@jupyter-widgets/base",
          "model_module_version": "1.2.0",
          "model_name": "LayoutModel",
          "state": {
            "_model_module": "@jupyter-widgets/base",
            "_model_module_version": "1.2.0",
            "_model_name": "LayoutModel",
            "_view_count": null,
            "_view_module": "@jupyter-widgets/base",
            "_view_module_version": "1.2.0",
            "_view_name": "LayoutView",
            "align_content": null,
            "align_items": null,
            "align_self": null,
            "border": null,
            "bottom": null,
            "display": null,
            "flex": null,
            "flex_flow": null,
            "grid_area": null,
            "grid_auto_columns": null,
            "grid_auto_flow": null,
            "grid_auto_rows": null,
            "grid_column": null,
            "grid_gap": null,
            "grid_row": null,
            "grid_template_areas": null,
            "grid_template_columns": null,
            "grid_template_rows": null,
            "height": null,
            "justify_content": null,
            "justify_items": null,
            "left": null,
            "margin": null,
            "max_height": null,
            "max_width": null,
            "min_height": null,
            "min_width": null,
            "object_fit": null,
            "object_position": null,
            "order": null,
            "overflow": null,
            "overflow_x": null,
            "overflow_y": null,
            "padding": null,
            "right": null,
            "top": null,
            "visibility": null,
            "width": null
          }
        },
        "ff2d955cd9de4b9b928b73b2646ce71a": {
          "model_module": "@jupyter-widgets/controls",
          "model_module_version": "1.5.0",
          "model_name": "HTMLModel",
          "state": {
            "_dom_classes": [],
            "_model_module": "@jupyter-widgets/controls",
            "_model_module_version": "1.5.0",
            "_model_name": "HTMLModel",
            "_view_count": null,
            "_view_module": "@jupyter-widgets/controls",
            "_view_module_version": "1.5.0",
            "_view_name": "HTMLView",
            "description": "",
            "description_tooltip": null,
            "layout": "IPY_MODEL_3e9f1a1ce2f9468aa954a86cc8d5c8a5",
            "placeholder": "​",
            "style": "IPY_MODEL_57e1ad61a7a74da4a2d3294ca3e7dbfe",
            "value": " 100/100 [00:01&lt;00:00, 73.57it/s]"
          }
        }
      }
    }
  },
  "nbformat": 4,
  "nbformat_minor": 0
}

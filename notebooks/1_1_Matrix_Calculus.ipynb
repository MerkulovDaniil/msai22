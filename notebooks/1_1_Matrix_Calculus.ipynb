{
  "nbformat": 4,
  "nbformat_minor": 0,
  "metadata": {
    "colab": {
      "name": "1_1 Matrix Calculus.ipynb",
      "provenance": [],
      "collapsed_sections": [],
      "authorship_tag": "ABX9TyPMckAdUBcl+NMlyJqoJHj7",
      "include_colab_link": true
    },
    "kernelspec": {
      "name": "python3",
      "display_name": "Python 3"
    },
    "language_info": {
      "name": "python"
    }
  },
  "cells": [
    {
      "cell_type": "markdown",
      "metadata": {
        "id": "view-in-github",
        "colab_type": "text"
      },
      "source": [
        "<a href=\"https://colab.research.google.com/github/MerkulovDaniil/msai22/blob/main/notebooks/1_1_Matrix_Calculus.ipynb\" target=\"_parent\"><img src=\"https://colab.research.google.com/assets/colab-badge.svg\" alt=\"Open In Colab\"/></a>"
      ]
    },
    {
      "cell_type": "markdown",
      "source": [
        "## Matrix Calculus\n",
        "\n",
        "### Problem 1\n",
        "Find the gradient $\\nabla f(x)$ and hessian $f''(x)$, if $f(x) = \\dfrac{1}{2} \\|Ax - b\\|^2_2$."
      ],
      "metadata": {
        "id": "-TE3tYceN0nY"
      }
    },
    {
      "cell_type": "markdown",
      "source": [
        "`YOUR SOLUTION`"
      ],
      "metadata": {
        "id": "5LVvbkUzOAoV"
      }
    },
    {
      "cell_type": "markdown",
      "source": [
        "### Problem 2\n",
        "Calculate: $\\dfrac{\\partial }{\\partial X} \\sum \\text{eig}(X), \\;\\;\\dfrac{\\partial }{\\partial X} \\prod \\text{eig}(X), \\;\\;\\dfrac{\\partial }{\\partial X}\\text{tr}(X), \\;\\; \\dfrac{\\partial }{\\partial X} \\text{det}(X)$"
      ],
      "metadata": {
        "id": "tzVj8INtOWrA"
      }
    },
    {
      "cell_type": "markdown",
      "source": [
        "`YOUR SOLUTION`"
      ],
      "metadata": {
        "id": "6v3mz-U4OqdG"
      }
    },
    {
      "cell_type": "markdown",
      "source": [
        "### Problem 3\n",
        "1. Calculate the derivatives of the loss function with respect to parameters $\\frac{\\partial L}{\\partial W}, \\frac{\\partial L}{\\partial b}$ for the single object $x_i$ (or, $n = 1$) in a simple Machine Learning setting.\n",
        "\n",
        "![](https://fmin.xyz/docs/exercises/simple_learning.svg)"
      ],
      "metadata": {
        "id": "W-eNR3kQOsG0"
      }
    },
    {
      "cell_type": "markdown",
      "source": [
        "`YOUR SOLUTION`"
      ],
      "metadata": {
        "id": "uyRFd30PQC-1"
      }
    }
  ]
}